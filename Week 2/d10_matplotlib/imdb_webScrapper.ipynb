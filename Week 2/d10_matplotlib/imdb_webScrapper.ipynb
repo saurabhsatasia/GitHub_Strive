{
 "cells": [
  {
   "cell_type": "code",
   "execution_count": 55,
   "metadata": {},
   "outputs": [],
   "source": [
    "import requests\n",
    "from bs4 import BeautifulSoup as bs\n",
    "from urllib.request import urlopen as uReq"
   ]
  },
  {
   "cell_type": "code",
   "execution_count": 56,
   "metadata": {},
   "outputs": [],
   "source": [
    "imdb_url = \"https://www.imdb.com/search/title/?count=100&groups=top_1000&sort=user_rating\"  # preparing the URL to search the product on imdb\n",
    "uClient = uReq(imdb_url) # requesting the webpage from the internet\n",
    "imdbPage = uClient.read() # reading the webpage\n",
    "uClient.close() # closing the connection to the web server\n",
    "imdb_html = bs(imdbPage, \"html.parser\") # parsing the webpage as HTML"
   ]
  },
  {
   "cell_type": "code",
   "execution_count": 57,
   "metadata": {},
   "outputs": [],
   "source": [
    "bigboxes = imdb_html.findAll(\"div\", {\"class\": \"lister-item mode-advanced\"}) # seacrhing for appropriate tag to redirect to the product link"
   ]
  },
  {
   "cell_type": "code",
   "execution_count": 151,
   "metadata": {},
   "outputs": [
    {
     "name": "stdout",
     "output_type": "stream",
     "text": [
      "The Shawshank Redemption (1994) \n",
      "9.3 \n",
      "2h 22min                    \n",
      "Drama\n",
      "17 February 1995 (UK) \n",
      "['                    Two imprisoned men bond over a number of years, finding solace and eventual redemption through acts of common decency.            Director:Frank Darabont Writers:Stephen King (short story \"Rita Hayworth and Shawshank Redemption\"), Frank Darabont (screenplay)    Stars:Tim Robbins, Morgan Freeman, Bob Gunton |See full cast & crew\\xa0»    ']\n"
     ]
    }
   ],
   "source": [
    "box=bigboxes[0]\n",
    "nameLink = \"https://www.imdb.com\" + box.a['href']\n",
    "prRes = requests.get(nameLink)\n",
    "mov_html = bs(prRes.text, \"html.parser\")\n",
    "blackboxes = mov_html.find_all('div', {'id': \"title-overview-widget\"})\n",
    "for data in blackboxes:\n",
    "    movie_name = data.div.find_all('h1',{'class':''})[0].text\n",
    "    print(movie_name)\n",
    "    \n",
    "    rating = data.div.find_all('div',{'class':'ratingValue'})[0].text\n",
    "    rating = rating.replace('/10','')\n",
    "    rating = rating.replace('\\n','')\n",
    "    print(rating)\n",
    "    \n",
    "    duration = data.div.findAll('time',{'datetime':'PT142M'})[0].text\n",
    "    duration = duration.replace('\\n','')\n",
    "    duration = duration.replace(\"                        \",'')\n",
    "    print(duration)\n",
    "    \n",
    "    genre = data.div.find_all('div', {'class':'subtext'})[0].text\n",
    "    general = genre.replace('\\n', '').split(\"|\")\n",
    "#     print(general)\n",
    "    genre = general[2]\n",
    "    release_date = general[3]\n",
    "    print(genre)\n",
    "    print(release_date)\n",
    "    \n",
    "    plot_summary = data.find('div',{'class':'plot_summary'}).text\n",
    "    plot_summary = plot_summary.replace(\"\\n\",'').split(\"\\n\")\n",
    "    print(plot_summary)"
   ]
  },
  {
   "cell_type": "code",
   "execution_count": 37,
   "metadata": {},
   "outputs": [],
   "source": [
    "for box in bigboxes:\n",
    "    nameLink = \"https://www.imdb.com\" + box.a['href'] #nameLink has 100 links of movie names on the imdb webpage\n",
    "    prodRes = requests.get(nameLink) # getting the product page from server\n",
    "    movie_html = bs(prodRes.text, \"html.parser\") # parsing the product page as HTML\n",
    "    commentboxes = prod_html.find_all('id', {'class': \"title-overview-widget\"}) #id=\"title-overview-widget\" \n"
   ]
  },
  {
   "cell_type": "code",
   "execution_count": 35,
   "metadata": {},
   "outputs": [
    {
     "data": {
      "text/plain": [
       "37"
      ]
     },
     "execution_count": 35,
     "metadata": {},
     "output_type": "execute_result"
    }
   ],
   "source": []
  },
  {
   "cell_type": "code",
   "execution_count": null,
   "metadata": {},
   "outputs": [],
   "source": []
  }
 ],
 "metadata": {
  "kernelspec": {
   "display_name": "Python 3",
   "language": "python",
   "name": "python3"
  },
  "language_info": {
   "codemirror_mode": {
    "name": "ipython",
    "version": 3
   },
   "file_extension": ".py",
   "mimetype": "text/x-python",
   "name": "python",
   "nbconvert_exporter": "python",
   "pygments_lexer": "ipython3",
   "version": "3.7.6"
  }
 },
 "nbformat": 4,
 "nbformat_minor": 4
}
