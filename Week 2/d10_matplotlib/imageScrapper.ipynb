{
 "cells": [
  {
   "cell_type": "markdown",
   "metadata": {},
   "source": [
    "#### How to execute this code\n",
    "#### Step 1 : pip install selenium. pillow, requests\n",
    "#### Step 2 : make sure you have chrome installed on your machine\n",
    "#### Step 3 : Check your chrome version ( go to three dot then help then about google chrome ) Version 87.0.4280.88 (Official Build) (64-bit)\n",
    "#### Step 4 : Download the same chrome driver from here  \" https://chromedriver.storage.googleapis.com/index.html \"\n",
    "#### Step 5 : put it inside the same folder of this code"
   ]
  },
  {
   "cell_type": "code",
   "execution_count": null,
   "metadata": {},
   "outputs": [],
   "source": []
  }
 ],
 "metadata": {
  "kernelspec": {
   "display_name": "Python 3",
   "language": "python",
   "name": "python3"
  },
  "language_info": {
   "codemirror_mode": {
    "name": "ipython",
    "version": 3
   },
   "file_extension": ".py",
   "mimetype": "text/x-python",
   "name": "python",
   "nbconvert_exporter": "python",
   "pygments_lexer": "ipython3",
   "version": "3.7.6"
  }
 },
 "nbformat": 4,
 "nbformat_minor": 4
}
