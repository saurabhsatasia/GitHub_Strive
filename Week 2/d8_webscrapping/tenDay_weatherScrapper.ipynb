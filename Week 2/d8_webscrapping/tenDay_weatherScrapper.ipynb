{
 "cells": [
  {
   "cell_type": "code",
   "execution_count": 147,
   "metadata": {},
   "outputs": [],
   "source": [
    "import requests\n",
    "from bs4 import BeautifulSoup as bs\n",
    "import pandas as pd"
   ]
  },
  {
   "cell_type": "code",
   "execution_count": 100,
   "metadata": {},
   "outputs": [],
   "source": [
    "weather_url = \"https://weather.com/weather/tenday/l/San+Francisco+CA?canonicalCityId=dfdaba8cbe3a4d12a8796e1f7b1ccc7174b4b0a2d5ddb1c8566ae9f154fa638c\"\n",
    "uClient = requests.get(weather_url) # requesting the webpage from the internet\n",
    "weatherPage = uClient.text\n",
    "weather_html = bs(weatherPage, \"html.parser\")\n",
    "# print(weather_html.prettify())"
   ]
  },
  {
   "cell_type": "code",
   "execution_count": 248,
   "metadata": {},
   "outputs": [
    {
     "name": "stdout",
     "output_type": "stream",
     "text": [
      "[<span class=\"DailyContent--temp--_8DL5\" data-testid=\"TemperatureValue\">63°</span>, <span class=\"DailyContent--temp--_8DL5\" data-testid=\"TemperatureValue\">44°</span>, <span class=\"DailyContent--temp--_8DL5\" data-testid=\"TemperatureValue\">56°</span>, <span class=\"DailyContent--temp--_8DL5\" data-testid=\"TemperatureValue\">44°</span>, <span class=\"DailyContent--temp--_8DL5\" data-testid=\"TemperatureValue\">55°</span>, <span class=\"DailyContent--temp--_8DL5\" data-testid=\"TemperatureValue\">45°</span>, <span class=\"DailyContent--temp--_8DL5\" data-testid=\"TemperatureValue\">56°</span>, <span class=\"DailyContent--temp--_8DL5\" data-testid=\"TemperatureValue\">46°</span>, <span class=\"DailyContent--temp--_8DL5\" data-testid=\"TemperatureValue\">57°</span>, <span class=\"DailyContent--temp--_8DL5\" data-testid=\"TemperatureValue\">47°</span>, <span class=\"DailyContent--temp--_8DL5\" data-testid=\"TemperatureValue\">57°</span>, <span class=\"DailyContent--temp--_8DL5\" data-testid=\"TemperatureValue\">44°</span>, <span class=\"DailyContent--temp--_8DL5\" data-testid=\"TemperatureValue\">56°</span>, <span class=\"DailyContent--temp--_8DL5\" data-testid=\"TemperatureValue\">44°</span>, <span class=\"DailyContent--temp--_8DL5\" data-testid=\"TemperatureValue\">57°</span>, <span class=\"DailyContent--temp--_8DL5\" data-testid=\"TemperatureValue\">45°</span>, <span class=\"DailyContent--temp--_8DL5\" data-testid=\"TemperatureValue\">57°</span>, <span class=\"DailyContent--temp--_8DL5\" data-testid=\"TemperatureValue\">44°</span>, <span class=\"DailyContent--temp--_8DL5\" data-testid=\"TemperatureValue\">57°</span>, <span class=\"DailyContent--temp--_8DL5\" data-testid=\"TemperatureValue\">44°</span>, <span class=\"DailyContent--temp--_8DL5\" data-testid=\"TemperatureValue\">59°</span>, <span class=\"DailyContent--temp--_8DL5\" data-testid=\"TemperatureValue\">44°</span>, <span class=\"DailyContent--temp--_8DL5\" data-testid=\"TemperatureValue\">60°</span>, <span class=\"DailyContent--temp--_8DL5\" data-testid=\"TemperatureValue\">43°</span>, <span class=\"DailyContent--temp--_8DL5\" data-testid=\"TemperatureValue\">59°</span>, <span class=\"DailyContent--temp--_8DL5\" data-testid=\"TemperatureValue\">42°</span>, <span class=\"DailyContent--temp--_8DL5\" data-testid=\"TemperatureValue\">60°</span>, <span class=\"DailyContent--temp--_8DL5\" data-testid=\"TemperatureValue\">41°</span>, <span class=\"DailyContent--temp--_8DL5\" data-testid=\"TemperatureValue\">60°</span>, <span class=\"DailyContent--temp--_8DL5\" data-testid=\"TemperatureValue\">42°</span>]\n",
      "[<span class=\"DailyContent--daypartDate--3MM0J\">Wed 09</span>, <span class=\"DailyContent--daypartDate--3MM0J\">Wed 09</span>, <span class=\"DailyContent--daypartDate--3MM0J\">Thu 10</span>, <span class=\"DailyContent--daypartDate--3MM0J\">Thu 10</span>, <span class=\"DailyContent--daypartDate--3MM0J\">Fri 11</span>, <span class=\"DailyContent--daypartDate--3MM0J\">Fri 11</span>, <span class=\"DailyContent--daypartDate--3MM0J\">Sat 12</span>, <span class=\"DailyContent--daypartDate--3MM0J\">Sat 12</span>, <span class=\"DailyContent--daypartDate--3MM0J\">Sun 13</span>, <span class=\"DailyContent--daypartDate--3MM0J\">Sun 13</span>, <span class=\"DailyContent--daypartDate--3MM0J\">Mon 14</span>, <span class=\"DailyContent--daypartDate--3MM0J\">Mon 14</span>, <span class=\"DailyContent--daypartDate--3MM0J\">Tue 15</span>, <span class=\"DailyContent--daypartDate--3MM0J\">Tue 15</span>, <span class=\"DailyContent--daypartDate--3MM0J\">Wed 16</span>, <span class=\"DailyContent--daypartDate--3MM0J\">Wed 16</span>, <span class=\"DailyContent--daypartDate--3MM0J\">Thu 17</span>, <span class=\"DailyContent--daypartDate--3MM0J\">Thu 17</span>, <span class=\"DailyContent--daypartDate--3MM0J\">Fri 18</span>, <span class=\"DailyContent--daypartDate--3MM0J\">Fri 18</span>, <span class=\"DailyContent--daypartDate--3MM0J\">Sat 19</span>, <span class=\"DailyContent--daypartDate--3MM0J\">Sat 19</span>, <span class=\"DailyContent--daypartDate--3MM0J\">Sun 20</span>, <span class=\"DailyContent--daypartDate--3MM0J\">Sun 20</span>, <span class=\"DailyContent--daypartDate--3MM0J\">Mon 21</span>, <span class=\"DailyContent--daypartDate--3MM0J\">Mon 21</span>, <span class=\"DailyContent--daypartDate--3MM0J\">Tue 22</span>, <span class=\"DailyContent--daypartDate--3MM0J\">Tue 22</span>, <span class=\"DailyContent--daypartDate--3MM0J\">Wed 23</span>, <span class=\"DailyContent--daypartDate--3MM0J\">Wed 23</span>]\n"
     ]
    }
   ],
   "source": [
    "temps = weather_html.findAll(\"span\",{\"class\":\"DailyContent--temp--_8DL5\"})\n",
    "week_days = weather_html.findAll(\"span\", {\"class\":\"DailyContent--daypartDate--3MM0J\"})\n",
    "descriptions = weather_html.findAll('p', {\"class\":\"DailyContent--narrative--3AcXd\"})\n",
    "humidities = weather_html.findAll('span', {\"class\":\"DetailsTable--value--1F3Ze\"})\n",
    "# print(len(temps))\n",
    "print(temps)\n",
    "\n",
    "# print(len(week_days))\n",
    "print(week_days)\n",
    "\n",
    "# print(len(conditions))\n",
    "# print(conditions)\n",
    "\n",
    "# print(len(humidities))\n",
    "# print(humidities)\n"
   ]
  },
  {
   "cell_type": "code",
   "execution_count": 175,
   "metadata": {},
   "outputs": [],
   "source": [
    "def get_content(features):\n",
    "    item_list = []\n",
    "    for data in features:\n",
    "        item_list.append(data.getText())\n",
    "    return item_list\n",
    "\n"
   ]
  },
  {
   "cell_type": "code",
   "execution_count": 259,
   "metadata": {},
   "outputs": [],
   "source": [
    "weekday_list = get_content(week_days)\n",
    "temp_list = get_content(temps)\n",
    "condition_list = get_content(conditions)\n",
    "weekday_list = list(dict.fromkeys(weekday_list))\n",
    "descriptions_list = get_content(descriptions)\n"
   ]
  },
  {
   "cell_type": "code",
   "execution_count": 253,
   "metadata": {},
   "outputs": [
    {
     "name": "stdout",
     "output_type": "stream",
     "text": [
      "[17.0, 13.0, 13.0, 13.0, 14.0, 14.0, 13.0, 14.0, 14.0, 14.0, 15.0, 16.0, 15.0, 16.0, 16.0]\n",
      "[7.0, 7.0, 7.0, 8.0, 8.0, 7.0, 7.0, 7.0, 7.0, 7.0, 7.0, 6.0, 6.0, 5.0, 6.0]\n",
      "['Partly cloudy. High 63F. Winds N at 10 to 15 mph.', 'A few passing clouds, otherwise generally sunny. High 56F. Winds W at 15 to 25 mph.', 'Partly to mostly cloudy. High near 55F. Winds NW at 10 to 15 mph.', 'Overcast with rain showers at times. High 56F. S winds shifting to N at 10 to 15 mph. Chance of rain 60%.', 'Rain early...then remaining cloudy with showers in the afternoon. High 57F. Winds SSW at 10 to 20 mph. Chance of rain 70%. Rainfall around a quarter of an inch.', 'Intervals of clouds and sunshine. High 57F. Winds NW at 10 to 20 mph.', 'Sunshine and clouds mixed. High 56F. Winds W at 5 to 10 mph.', 'Increasing clouds with showers arriving sometime in the afternoon. High 57F. Winds W at 5 to 10 mph. Chance of rain 40%.', 'Cloudy with occasional rain showers. High 57F. Winds W at 10 to 15 mph. Chance of rain 40%.', 'A few showers early with mostly cloudy conditions later in the day. High 57F. Winds NW at 5 to 10 mph. Chance of rain 30%.', 'Rain showers early with mostly cloudy conditions later in the day. High 59F. Winds NW at 5 to 10 mph. Chance of rain 40%.', 'Considerable clouds early. Some decrease in clouds later in the day. High near 60F. Winds NW at 5 to 10 mph.', 'Sunshine and clouds mixed. High 59F. Winds NW at 5 to 10 mph.', 'A few clouds from time to time. High near 60F. Winds N at 5 to 10 mph.', 'A few clouds from time to time. High around 60F. Winds NNE at 5 to 10 mph.']\n",
      "['Partly to mostly cloudy. Low 44F. Winds light and variable.', 'Mostly clear during the evening followed by mostly cloudy skies overnight. Low 44F. Winds NW at 15 to 25 mph.', 'Mostly cloudy in the evening then periods of showers after midnight. Low around 45F. Winds SW at 5 to 10 mph. Chance of rain 60%.', 'Cloudy skies early with showers later at night. Low 46F. Winds ESE at 5 to 10 mph. Chance of rain 60%.', 'Considerable cloudiness with occasional rain showers. Low 47F. Winds W at 5 to 10 mph. Chance of rain 40%.', 'Mostly clear during the evening followed by mostly cloudy skies overnight. Low 44F. Winds WNW at 5 to 10 mph.', 'Partly cloudy skies early followed by increasing clouds with showers developing later at night. Low 44F. Winds W at 5 to 10 mph. Chance of rain 40%.', 'Considerable cloudiness with occasional rain showers. Low near 45F. Winds WSW at 5 to 10 mph. Chance of rain 40%.', 'Mainly cloudy. Low 44F. Winds WNW at 5 to 10 mph.', 'Overcast with showers at times. Low 44F. Winds light and variable. Chance of rain 40%.', 'Mostly cloudy. Low 44F. Winds light and variable.', 'Partly cloudy skies early followed by mostly cloudy skies and a few showers later at night. Low 43F. Winds NW at 5 to 10 mph. Chance of rain 30%.', 'Partly to mostly cloudy. Low 42F. Winds NNW at 5 to 10 mph.', 'Mostly clear evening skies will give way to mostly cloudy skies overnight. Low 41F. Winds N at 5 to 10 mph.', 'Mostly clear skies early then becoming mostly cloudy later at night. Low 42F. Winds NNE at 5 to 10 mph.']\n"
     ]
    }
   ],
   "source": [
    "temp_high = []\n",
    "temp_low = []\n",
    "descriptionday_list = []\n",
    "descriptionnight_list = []\n",
    "for i in range(0, 30, 2):\n",
    "    high = int(temps[i].get_text().strip('°'))\n",
    "    high = (high-32) * 5/9\n",
    "    temp_high.append(round(high, 0))\n",
    "    descriptionday_list.append(descriptions_list[i])\n",
    "    \n",
    "    low = int(temps[i+1].get_text().strip('°'))\n",
    "    low = (low-32) * 5/9\n",
    "    temp_low.append(round(low, 0))\n",
    "    descriptionnight_list.append(descriptions_list[i+1])\n",
    "# print(temp_high)\n",
    "# print(temp_low)\n",
    "# print(descriptionday_list)\n",
    "# print(descriptionnight_list)\n"
   ]
  },
  {
   "cell_type": "code",
   "execution_count": 206,
   "metadata": {},
   "outputs": [],
   "source": [
    "humidity_day=[] \n",
    "UVIndex_day=[]\n",
    "sunrise_time=[]\n",
    "sunset_time=[]\n",
    "humidity_night=[]\n",
    "UVIndex_night=[]\n",
    "moonrise_time=[]\n",
    "moonset_time=[]"
   ]
  },
  {
   "cell_type": "code",
   "execution_count": 210,
   "metadata": {},
   "outputs": [],
   "source": [
    "i = 0\n",
    "while i < len(humidity_list):\n",
    "    humidity_day.append(humidity_list[i])\n",
    "    i+=1\n",
    "    UVIndex_day.append(humidity_list[i])\n",
    "    i+=1\n",
    "    sunrise_time.append(humidity_list[i])\n",
    "    i+=1\n",
    "    sunset_time.append(humidity_list[i])\n",
    "    i+=1\n",
    "    humidity_night.append(humidity_list[i])\n",
    "    i+=1\n",
    "    UVIndex_night.append(humidity_list[i])\n",
    "    i+=1\n",
    "    moonrise_time.append(humidity_list[i])\n",
    "    i+=1\n",
    "    moonset_time.append(humidity_list[i])\n",
    "    i+=1"
   ]
  },
  {
   "cell_type": "code",
   "execution_count": 209,
   "metadata": {},
   "outputs": [],
   "source": [
    "# humidity_list = get_content(humidities)\n",
    "# day_dict = {}\n",
    "# i = 0\n",
    "# j = 0\n",
    "# while i< len(humidity_list):\n",
    "#     feature = ['humidity_day','UVIndex_day','sunrise_time','sunset_time','humidity_night', 'UVIndex_night', 'moonrise_time', 'moonset_time', 'day']\n",
    "#     data_dict = {}.fromkeys(feature,0)\n",
    "#     data_dict['humidity_day'] = humidity_list[i]\n",
    "#     i+=1\n",
    "#     data_dict['UVIndex_day'] = [humidity_list[i]]\n",
    "#     i+=1\n",
    "#     data_dict['sunrise_time'] = humidity_list[i]\n",
    "#     i+=1\n",
    "#     data_dict['sunset_time'] = humidity_list[i]\n",
    "#     i+=1\n",
    "#     data_dict['humidity_night'] = humidity_list[i]\n",
    "#     i+=1\n",
    "#     data_dict['UVIndex_night'] = humidity_list[i]\n",
    "#     i+=1\n",
    "#     data_dict['moonrise_time'] = humidity_list[i]\n",
    "#     i+=1\n",
    "#     data_dict['moonset_time'] = humidity_list[i]\n",
    "#     i+=1\n",
    "#     day_dict[week_days[j].get_text()] = data_dict\n",
    "#     j+=1\n"
   ]
  },
  {
   "cell_type": "code",
   "execution_count": 241,
   "metadata": {},
   "outputs": [],
   "source": [
    "df = pd.DataFrame(columns = [ 'day','temp_day','temp_night','sunrise_time','sunset_time','humidity_day','UVIndex_day','humidity_night', 'UVIndex_night', 'moonrise_time', 'moonset_time'])"
   ]
  },
  {
   "cell_type": "code",
   "execution_count": null,
   "metadata": {},
   "outputs": [],
   "source": [
    "df['']"
   ]
  },
  {
   "cell_type": "code",
   "execution_count": 254,
   "metadata": {},
   "outputs": [],
   "source": [
    "df['day'] = weekday_list\n",
    "df['temp_day'] = temp_high\n",
    "df['humidity_day'] = humidity_day\n",
    "df['UVIndex_day'] = UVIndex_day\n",
    "df['sunrise_time'] = sunrise_time\n",
    "df['sunset_time'] = sunset_time\n",
    "df['description_day'] = descriptionday_list\n",
    "df['temp_night'] = temp_low\n",
    "df['humidity_night'] = humidity_night\n",
    "df['UVIndex_night'] = UVIndex_night\n",
    "df['moonrise_time'] = moonrise_time\n",
    "df['moonset_time'] = moonset_time\n",
    "df['description_night'] = descriptionnight_list"
   ]
  },
  {
   "cell_type": "code",
   "execution_count": 261,
   "metadata": {},
   "outputs": [
    {
     "data": {
      "text/html": [
       "<div>\n",
       "<style scoped>\n",
       "    .dataframe tbody tr th:only-of-type {\n",
       "        vertical-align: middle;\n",
       "    }\n",
       "\n",
       "    .dataframe tbody tr th {\n",
       "        vertical-align: top;\n",
       "    }\n",
       "\n",
       "    .dataframe thead th {\n",
       "        text-align: right;\n",
       "    }\n",
       "</style>\n",
       "<table border=\"1\" class=\"dataframe\">\n",
       "  <thead>\n",
       "    <tr style=\"text-align: right;\">\n",
       "      <th></th>\n",
       "      <th>day</th>\n",
       "      <th>temp_day</th>\n",
       "      <th>temp_night</th>\n",
       "      <th>sunrise_time</th>\n",
       "      <th>sunset_time</th>\n",
       "      <th>humidity_day</th>\n",
       "      <th>UVIndex_day</th>\n",
       "      <th>humidity_night</th>\n",
       "      <th>UVIndex_night</th>\n",
       "      <th>moonrise_time</th>\n",
       "      <th>moonset_time</th>\n",
       "      <th>description_day</th>\n",
       "      <th>description_night</th>\n",
       "    </tr>\n",
       "  </thead>\n",
       "  <tbody>\n",
       "    <tr>\n",
       "      <th>0</th>\n",
       "      <td>Wed 09</td>\n",
       "      <td>17.0</td>\n",
       "      <td>7.0</td>\n",
       "      <td>7:14 am</td>\n",
       "      <td>4:50 pm</td>\n",
       "      <td>57%</td>\n",
       "      <td>2 of 10</td>\n",
       "      <td>79%</td>\n",
       "      <td>0 of 10</td>\n",
       "      <td>1:16 am</td>\n",
       "      <td>1:46 pm</td>\n",
       "      <td>Partly cloudy. High 63F. Winds N at 10 to 15 mph.</td>\n",
       "      <td>Partly to mostly cloudy. Low 44F. Winds light ...</td>\n",
       "    </tr>\n",
       "    <tr>\n",
       "      <th>1</th>\n",
       "      <td>Thu 10</td>\n",
       "      <td>13.0</td>\n",
       "      <td>7.0</td>\n",
       "      <td>7:14 am</td>\n",
       "      <td>4:50 pm</td>\n",
       "      <td>78%</td>\n",
       "      <td>2 of 10</td>\n",
       "      <td>70%</td>\n",
       "      <td>0 of 10</td>\n",
       "      <td>2:26 am</td>\n",
       "      <td>2:16 pm</td>\n",
       "      <td>A few passing clouds, otherwise generally sunn...</td>\n",
       "      <td>Mostly clear during the evening followed by mo...</td>\n",
       "    </tr>\n",
       "    <tr>\n",
       "      <th>2</th>\n",
       "      <td>Fri 11</td>\n",
       "      <td>13.0</td>\n",
       "      <td>7.0</td>\n",
       "      <td>7:15 am</td>\n",
       "      <td>4:51 pm</td>\n",
       "      <td>59%</td>\n",
       "      <td>2 of 10</td>\n",
       "      <td>78%</td>\n",
       "      <td>0 of 10</td>\n",
       "      <td>3:38 am</td>\n",
       "      <td>2:49 pm</td>\n",
       "      <td>Partly to mostly cloudy. High near 55F. Winds ...</td>\n",
       "      <td>Mostly cloudy in the evening then periods of s...</td>\n",
       "    </tr>\n",
       "    <tr>\n",
       "      <th>3</th>\n",
       "      <td>Sat 12</td>\n",
       "      <td>13.0</td>\n",
       "      <td>8.0</td>\n",
       "      <td>7:16 am</td>\n",
       "      <td>4:51 pm</td>\n",
       "      <td>81%</td>\n",
       "      <td>1 of 10</td>\n",
       "      <td>89%</td>\n",
       "      <td>0 of 10</td>\n",
       "      <td>4:52 am</td>\n",
       "      <td>3:28 pm</td>\n",
       "      <td>Overcast with rain showers at times. High 56F....</td>\n",
       "      <td>Cloudy skies early with showers later at night...</td>\n",
       "    </tr>\n",
       "    <tr>\n",
       "      <th>4</th>\n",
       "      <td>Sun 13</td>\n",
       "      <td>14.0</td>\n",
       "      <td>8.0</td>\n",
       "      <td>7:17 am</td>\n",
       "      <td>4:51 pm</td>\n",
       "      <td>85%</td>\n",
       "      <td>1 of 10</td>\n",
       "      <td>89%</td>\n",
       "      <td>0 of 10</td>\n",
       "      <td>6:08 am</td>\n",
       "      <td>4:12 pm</td>\n",
       "      <td>Rain early...then remaining cloudy with shower...</td>\n",
       "      <td>Considerable cloudiness with occasional rain s...</td>\n",
       "    </tr>\n",
       "  </tbody>\n",
       "</table>\n",
       "</div>"
      ],
      "text/plain": [
       "      day  temp_day  temp_night sunrise_time sunset_time humidity_day  \\\n",
       "0  Wed 09      17.0         7.0      7:14 am     4:50 pm          57%   \n",
       "1  Thu 10      13.0         7.0      7:14 am     4:50 pm          78%   \n",
       "2  Fri 11      13.0         7.0      7:15 am     4:51 pm          59%   \n",
       "3  Sat 12      13.0         8.0      7:16 am     4:51 pm          81%   \n",
       "4  Sun 13      14.0         8.0      7:17 am     4:51 pm          85%   \n",
       "\n",
       "  UVIndex_day humidity_night UVIndex_night moonrise_time moonset_time  \\\n",
       "0     2 of 10            79%       0 of 10       1:16 am      1:46 pm   \n",
       "1     2 of 10            70%       0 of 10       2:26 am      2:16 pm   \n",
       "2     2 of 10            78%       0 of 10       3:38 am      2:49 pm   \n",
       "3     1 of 10            89%       0 of 10       4:52 am      3:28 pm   \n",
       "4     1 of 10            89%       0 of 10       6:08 am      4:12 pm   \n",
       "\n",
       "                                     description_day  \\\n",
       "0  Partly cloudy. High 63F. Winds N at 10 to 15 mph.   \n",
       "1  A few passing clouds, otherwise generally sunn...   \n",
       "2  Partly to mostly cloudy. High near 55F. Winds ...   \n",
       "3  Overcast with rain showers at times. High 56F....   \n",
       "4  Rain early...then remaining cloudy with shower...   \n",
       "\n",
       "                                   description_night  \n",
       "0  Partly to mostly cloudy. Low 44F. Winds light ...  \n",
       "1  Mostly clear during the evening followed by mo...  \n",
       "2  Mostly cloudy in the evening then periods of s...  \n",
       "3  Cloudy skies early with showers later at night...  \n",
       "4  Considerable cloudiness with occasional rain s...  "
      ]
     },
     "execution_count": 261,
     "metadata": {},
     "output_type": "execute_result"
    }
   ],
   "source": [
    "df.head(5)"
   ]
  },
  {
   "cell_type": "code",
   "execution_count": 262,
   "metadata": {},
   "outputs": [
    {
     "name": "stdout",
     "output_type": "stream",
     "text": [
      "<class 'pandas.core.frame.DataFrame'>\n",
      "RangeIndex: 15 entries, 0 to 14\n",
      "Data columns (total 13 columns):\n",
      " #   Column             Non-Null Count  Dtype  \n",
      "---  ------             --------------  -----  \n",
      " 0   day                15 non-null     object \n",
      " 1   temp_day           15 non-null     float64\n",
      " 2   temp_night         15 non-null     float64\n",
      " 3   sunrise_time       15 non-null     object \n",
      " 4   sunset_time        15 non-null     object \n",
      " 5   humidity_day       15 non-null     object \n",
      " 6   UVIndex_day        15 non-null     object \n",
      " 7   humidity_night     15 non-null     object \n",
      " 8   UVIndex_night      15 non-null     object \n",
      " 9   moonrise_time      15 non-null     object \n",
      " 10  moonset_time       15 non-null     object \n",
      " 11  description_day    15 non-null     object \n",
      " 12  description_night  15 non-null     object \n",
      "dtypes: float64(2), object(11)\n",
      "memory usage: 1.6+ KB\n"
     ]
    }
   ],
   "source": [
    "df.info()"
   ]
  },
  {
   "cell_type": "code",
   "execution_count": 263,
   "metadata": {},
   "outputs": [],
   "source": [
    "df.temp_day = df.temp_day.astype('int64')\n",
    "df.temp_night = df.temp_night.astype('int64')"
   ]
  },
  {
   "cell_type": "code",
   "execution_count": 260,
   "metadata": {},
   "outputs": [],
   "source": [
    "import matplotlib.pyplot as plt"
   ]
  },
  {
   "cell_type": "code",
   "execution_count": 281,
   "metadata": {},
   "outputs": [
    {
     "data": {
      "image/png": "[encoded data removed]",
      "text/plain": [
       "<Figure size 1080x576 with 1 Axes>"
      ]
     },
     "metadata": {
      "needs_background": "light"
     },
     "output_type": "display_data"
    }
   ],
   "source": [
    "plt.figure(figsize=(15, 8))\n",
    "plt.plot(df.day, df.temp_day, label=\"Day Temperature\")\n",
    "plt.plot(df.day, df.temp_night, label=\"NIght Temperature\")\n",
    "plt.xticks(rotation=45, ha='right')\n",
    "plt.xlabel(\"Days\",)\n",
    "plt.ylabel(\"Temperature °C\")\n",
    "# plt.rcParams.update({'font.size': 12})\n",
    "plt.legend()\n",
    "plt.show()"
   ]
  },
  {
   "cell_type": "code",
   "execution_count": null,
   "metadata": {},
   "outputs": [],
   "source": []
  }
 ],
 "metadata": {
  "kernelspec": {
   "display_name": "Python 3",
   "language": "python",
   "name": "python3"
  },
  "language_info": {
   "codemirror_mode": {
    "name": "ipython",
    "version": 3
   },
   "file_extension": ".py",
   "mimetype": "text/x-python",
   "name": "python",
   "nbconvert_exporter": "python",
   "pygments_lexer": "ipython3",
   "version": "3.7.6"
  }
 },
 "nbformat": 4,
 "nbformat_minor": 4
}
