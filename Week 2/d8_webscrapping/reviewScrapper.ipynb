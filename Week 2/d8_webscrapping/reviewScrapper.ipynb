{
 "cells": [
  {
   "cell_type": "code",
   "execution_count": 1,
   "metadata": {},
   "outputs": [],
   "source": [
    "import requests\n",
    "from bs4 import BeautifulSoup as bs\n",
    "from urllib.request import urlopen as uReq"
   ]
  },
  {
   "cell_type": "code",
   "execution_count": 3,
   "metadata": {},
   "outputs": [
    {
     "name": "stdin",
     "output_type": "stream",
     "text": [
      " samsung\n"
     ]
    }
   ],
   "source": [
    "searchString=str(input())\n",
    "flipkart_url = \"https://www.flipkart.com/search?q=\" + searchString # preparing the URL to search the product on flipkart\n",
    "uClient = uReq(flipkart_url) # requesting the webpage from the internet\n",
    "flipkartPage = uClient.read() # reading the webpage\n",
    "uClient.close() # closing the connection to the web server\n",
    "flipkart_html = bs(flipkartPage, \"html.parser\") # parsing the webpage as HTML"
   ]
  },
  {
   "cell_type": "code",
   "execution_count": 5,
   "metadata": {},
   "outputs": [],
   "source": [
    "bigboxes = flipkart_html.findAll(\"div\", {\"class\": \"_2pi5LC col-12-12\"}) # seacrhing for appropriate tag to redirect to the product link\n",
    "del bigboxes[0:3] # the first 3 members (sidebar in webpage) of the list do not contain relevant information, hence deleting them.\n",
    "box = bigboxes[0]"
   ]
  },
  {
   "cell_type": "code",
   "execution_count": 6,
   "metadata": {},
   "outputs": [],
   "source": [
    "productLink = \"https://www.flipkart.com\" + box.div.div.div.a['href'] # extracting the actual product link\n",
    "prodRes = requests.get(productLink) # getting the product page from server\n",
    "prod_html = bs(prodRes.text, \"html.parser\") # parsing the product page as HTML\n",
    "commentboxes = prod_html.find_all('div', {'class': \"_16PBlm\"}) "
   ]
  },
  {
   "cell_type": "code",
   "execution_count": 8,
   "metadata": {},
   "outputs": [
    {
     "name": "stdout",
     "output_type": "stream",
     "text": [
      "https://www.flipkart.com/samsung-galaxy-f41-fusion-blue-128-gb/p/itm4769d0667cdf9?pid=MOBFV5PWG5MGD4CF&lid=LSTMOBFV5PWG5MGD4CFZ8YQJZ&marketplace=FLIPKART&srno=s_1_1&otracker=search&fm=organic&iid=20ba5e7f-25e7-4406-ad53-6282fbc9c797.MOBFV5PWG5MGD4CF.SEARCH&ssid=uv5l4rl1hc0000001607581833917&qH=fe546279a62683de\n"
     ]
    }
   ],
   "source": [
    "print(productLink)"
   ]
  },
  {
   "cell_type": "code",
   "execution_count": 11,
   "metadata": {},
   "outputs": [],
   "source": [
    "reviews = [] # initializing an empty list for reviews\n",
    "            #  iterating over the comment section to get the details of customer and their comments\n",
    "for commentbox in commentboxes:\n",
    "    try: name = commentbox.div.div.find_all('p', {'class': '_2sc7ZR _2V5EHH'})[0].text #\"\"\n",
    "    except: name = 'No Name'\n",
    "        \n",
    "    try: rating = commentbox.div.div.div.div.text\n",
    "    except: rating = 'No Rating'\n",
    "        \n",
    "    try: commentHead = commentbox.div.div.div.p.text\n",
    "    except: commentHead = 'No Comment Heading'\n",
    "    \n",
    "    try:\n",
    "        comtag = commentbox.div.div.find_all('div', {'class': ''})\n",
    "        custComment = comtag[0].div.text\n",
    "    except: custComment = 'No Customer Comment'\n",
    "    #fw.write(searchString+\",\"+name.replace(\",\", \":\")+\",\"+rating + \",\" + commentHead.replace(\",\", \":\") + \",\" + custComment.replace(\",\", \":\") + \"\\n\")\n",
    "    mydict = {\"Product\": searchString, \"Name\": name, \"Rating\": rating, \"CommentHead\": commentHead,\n",
    "              \"Comment\": custComment} # saving that detail to a dictionary\n",
    "    # x = table.insert_one(mydict) #insertig the dictionary containing the rview comments to the collection\n",
    "    reviews.append(mydict)"
   ]
  },
  {
   "cell_type": "code",
   "execution_count": 15,
   "metadata": {},
   "outputs": [
    {
     "data": {
      "text/plain": [
       "{'Product': 'samsung',\n",
       " 'Name': 'No Name',\n",
       " 'Rating': 'No Rating',\n",
       " 'CommentHead': 'No Comment Heading',\n",
       " 'Comment': 'No Customer Comment'}"
      ]
     },
     "execution_count": 15,
     "metadata": {},
     "output_type": "execute_result"
    }
   ],
   "source": [
    "mydict"
   ]
  },
  {
   "cell_type": "code",
   "execution_count": 16,
   "metadata": {},
   "outputs": [],
   "source": [
    "import pandas as pd\n",
    "df=pd.DataFrame(reviews)"
   ]
  },
  {
   "cell_type": "code",
   "execution_count": 28,
   "metadata": {},
   "outputs": [
    {
     "data": {
      "text/html": [
       "<div>\n",
       "<style scoped>\n",
       "    .dataframe tbody tr th:only-of-type {\n",
       "        vertical-align: middle;\n",
       "    }\n",
       "\n",
       "    .dataframe tbody tr th {\n",
       "        vertical-align: top;\n",
       "    }\n",
       "\n",
       "    .dataframe thead th {\n",
       "        text-align: right;\n",
       "    }\n",
       "</style>\n",
       "<table border=\"1\" class=\"dataframe\">\n",
       "  <thead>\n",
       "    <tr style=\"text-align: right;\">\n",
       "      <th></th>\n",
       "      <th>Product</th>\n",
       "      <th>Name</th>\n",
       "      <th>Rating</th>\n",
       "      <th>CommentHead</th>\n",
       "      <th>Comment</th>\n",
       "    </tr>\n",
       "  </thead>\n",
       "  <tbody>\n",
       "    <tr>\n",
       "      <th>0</th>\n",
       "      <td>samsung</td>\n",
       "      <td>Rajnish Kumar</td>\n",
       "      <td>5</td>\n",
       "      <td>Terrific purchase</td>\n",
       "      <td>Nice product</td>\n",
       "    </tr>\n",
       "    <tr>\n",
       "      <th>1</th>\n",
       "      <td>samsung</td>\n",
       "      <td>Rakesh Dutta</td>\n",
       "      <td>1</td>\n",
       "      <td>Absolute rubbish!</td>\n",
       "      <td>Mobile data is not working</td>\n",
       "    </tr>\n",
       "    <tr>\n",
       "      <th>2</th>\n",
       "      <td>samsung</td>\n",
       "      <td>Flipkart Customer</td>\n",
       "      <td>3</td>\n",
       "      <td>Just okay</td>\n",
       "      <td>Mobile was good but headphone not given</td>\n",
       "    </tr>\n",
       "    <tr>\n",
       "      <th>3</th>\n",
       "      <td>samsung</td>\n",
       "      <td>Hemant Sharma</td>\n",
       "      <td>2</td>\n",
       "      <td>Moderate</td>\n",
       "      <td>Camera quality of this camera is not good</td>\n",
       "    </tr>\n",
       "    <tr>\n",
       "      <th>4</th>\n",
       "      <td>samsung</td>\n",
       "      <td>Flipkart Customer</td>\n",
       "      <td>1</td>\n",
       "      <td>Terrible product</td>\n",
       "      <td>Taken 1week complete this phone sound is not c...</td>\n",
       "    </tr>\n",
       "    <tr>\n",
       "      <th>5</th>\n",
       "      <td>samsung</td>\n",
       "      <td>Navneet singhaniya</td>\n",
       "      <td>5</td>\n",
       "      <td>Terrific purchase</td>\n",
       "      <td>Nice</td>\n",
       "    </tr>\n",
       "    <tr>\n",
       "      <th>6</th>\n",
       "      <td>samsung</td>\n",
       "      <td>Kadurugutha tamasha</td>\n",
       "      <td>4</td>\n",
       "      <td>Pretty good</td>\n",
       "      <td>Good and smooth performance Nice design and va...</td>\n",
       "    </tr>\n",
       "    <tr>\n",
       "      <th>7</th>\n",
       "      <td>samsung</td>\n",
       "      <td>Lohith Mudholkar</td>\n",
       "      <td>4</td>\n",
       "      <td>Worth the money</td>\n",
       "      <td>Good Budget Mobile in this price range.Battery...</td>\n",
       "    </tr>\n",
       "    <tr>\n",
       "      <th>8</th>\n",
       "      <td>samsung</td>\n",
       "      <td>Flipkart Customer</td>\n",
       "      <td>5</td>\n",
       "      <td>Brilliant</td>\n",
       "      <td>It's camera is so clear 64 mp .Battery is too ...</td>\n",
       "    </tr>\n",
       "    <tr>\n",
       "      <th>9</th>\n",
       "      <td>samsung</td>\n",
       "      <td>Flipkart Customer</td>\n",
       "      <td>5</td>\n",
       "      <td>Super!</td>\n",
       "      <td>Super</td>\n",
       "    </tr>\n",
       "    <tr>\n",
       "      <th>10</th>\n",
       "      <td>samsung</td>\n",
       "      <td>No Name</td>\n",
       "      <td>No Rating</td>\n",
       "      <td>No Comment Heading</td>\n",
       "      <td>No Customer Comment</td>\n",
       "    </tr>\n",
       "  </tbody>\n",
       "</table>\n",
       "</div>"
      ],
      "text/plain": [
       "    Product                 Name     Rating         CommentHead  \\\n",
       "0   samsung        Rajnish Kumar          5   Terrific purchase   \n",
       "1   samsung         Rakesh Dutta          1   Absolute rubbish!   \n",
       "2   samsung    Flipkart Customer          3           Just okay   \n",
       "3   samsung        Hemant Sharma          2            Moderate   \n",
       "4   samsung    Flipkart Customer          1    Terrible product   \n",
       "5   samsung   Navneet singhaniya          5   Terrific purchase   \n",
       "6   samsung  Kadurugutha tamasha          4         Pretty good   \n",
       "7   samsung     Lohith Mudholkar          4     Worth the money   \n",
       "8   samsung    Flipkart Customer          5           Brilliant   \n",
       "9   samsung    Flipkart Customer          5              Super!   \n",
       "10  samsung              No Name  No Rating  No Comment Heading   \n",
       "\n",
       "                                              Comment  \n",
       "0                                        Nice product  \n",
       "1                          Mobile data is not working  \n",
       "2             Mobile was good but headphone not given  \n",
       "3           Camera quality of this camera is not good  \n",
       "4   Taken 1week complete this phone sound is not c...  \n",
       "5                                                Nice  \n",
       "6   Good and smooth performance Nice design and va...  \n",
       "7   Good Budget Mobile in this price range.Battery...  \n",
       "8   It's camera is so clear 64 mp .Battery is too ...  \n",
       "9                                               Super  \n",
       "10                                No Customer Comment  "
      ]
     },
     "execution_count": 28,
     "metadata": {},
     "output_type": "execute_result"
    }
   ],
   "source": [
    "df.head(50)"
   ]
  },
  {
   "cell_type": "code",
   "execution_count": 24,
   "metadata": {},
   "outputs": [],
   "source": [
    "def scrape(searchString):\n",
    "#     searchString=str(input())\n",
    "    flipkart_url = \"https://www.flipkart.com/search?q=\" + searchString # preparing the URL to search the product on flipkart\n",
    "    uClient = uReq(flipkart_url) # requesting the webpage from the internet\n",
    "    flipkartPage = uClient.read() # reading the webpage\n",
    "    uClient.close() # closing the connection to the web server\n",
    "    flipkart_html = bs(flipkartPage, \"html.parser\") # parsing the webpage as HTML\n",
    "    bigboxes = flipkart_html.findAll(\"div\", {\"class\": \"_2pi5LC col-12-12\"}) # seacrhing for appropriate tag to redirect to the product link\n",
    "    del bigboxes[0:3] # the first 3 members (sidebar in webpage) of the list do not contain relevant information, hence deleting them.\n",
    "    box = bigboxes[0]\n",
    "    productLink = \"https://www.flipkart.com\" + box.div.div.div.a['href'] # extracting the actual product link\n",
    "    prodRes = requests.get(productLink) # getting the product page from server\n",
    "    prod_html = bs(prodRes.text, \"html.parser\") # parsing the product page as HTML\n",
    "    commentboxes = prod_html.find_all('div', {'class': \"_16PBlm\"}) \n",
    "    reviews = [] # initializing an empty list for reviews\n",
    "            #  iterating over the comment section to get the details of customer and their comments\n",
    "    for commentbox in commentboxes:\n",
    "        try: name = commentbox.div.div.find_all('p', {'class': '_2sc7ZR _2V5EHH'})[0].text #\"\"\n",
    "        except: name = 'No Name'\n",
    "\n",
    "        try: rating = commentbox.div.div.div.div.text\n",
    "        except: rating = 'No Rating'\n",
    "\n",
    "        try: commentHead = commentbox.div.div.div.p.text\n",
    "        except: commentHead = 'No Comment Heading'\n",
    "\n",
    "        try:\n",
    "            comtag = commentbox.div.div.find_all('div', {'class': ''})\n",
    "            custComment = comtag[0].div.text\n",
    "        except: custComment = 'No Customer Comment'\n",
    "        #fw.write(searchString+\",\"+name.replace(\",\", \":\")+\",\"+rating + \",\" + commentHead.replace(\",\", \":\") + \",\" + custComment.replace(\",\", \":\") + \"\\n\")\n",
    "        \n",
    "        mydict = {\"Product\": searchString, \"Name\": name, \"Rating\": rating, \"CommentHead\": commentHead,\n",
    "                  \"Comment\": custComment} # saving that detail to a dictionary\n",
    "        # x = table.insert_one(mydict) #insertig the dictionary containing the rview comments to the collection\n",
    "        \n",
    "        reviews.append(mydict)\n",
    "        \n",
    "        df=pd.DataFrame(reviews)\n",
    "        \n",
    "    return df"
   ]
  },
  {
   "cell_type": "code",
   "execution_count": 25,
   "metadata": {},
   "outputs": [],
   "source": [
    "samsung_df = scrape('samsung')"
   ]
  },
  {
   "cell_type": "code",
   "execution_count": 42,
   "metadata": {},
   "outputs": [
    {
     "data": {
      "text/html": [
       "<div>\n",
       "<style scoped>\n",
       "    .dataframe tbody tr th:only-of-type {\n",
       "        vertical-align: middle;\n",
       "    }\n",
       "\n",
       "    .dataframe tbody tr th {\n",
       "        vertical-align: top;\n",
       "    }\n",
       "\n",
       "    .dataframe thead th {\n",
       "        text-align: right;\n",
       "    }\n",
       "</style>\n",
       "<table border=\"1\" class=\"dataframe\">\n",
       "  <thead>\n",
       "    <tr style=\"text-align: right;\">\n",
       "      <th></th>\n",
       "      <th>Product</th>\n",
       "      <th>Name</th>\n",
       "      <th>Rating</th>\n",
       "      <th>CommentHead</th>\n",
       "      <th>Comment</th>\n",
       "    </tr>\n",
       "  </thead>\n",
       "  <tbody>\n",
       "    <tr>\n",
       "      <th>0</th>\n",
       "      <td>samsung</td>\n",
       "      <td>Bijoy Saha</td>\n",
       "      <td>5</td>\n",
       "      <td>Mind-blowing purchase</td>\n",
       "      <td>Super phone must by</td>\n",
       "    </tr>\n",
       "    <tr>\n",
       "      <th>1</th>\n",
       "      <td>samsung</td>\n",
       "      <td>BHAIYA RANJAY KUMAR SINGH</td>\n",
       "      <td>5</td>\n",
       "      <td>Excellent</td>\n",
       "      <td>good</td>\n",
       "    </tr>\n",
       "    <tr>\n",
       "      <th>2</th>\n",
       "      <td>samsung</td>\n",
       "      <td>Rajnish Kumar</td>\n",
       "      <td>5</td>\n",
       "      <td>Terrific purchase</td>\n",
       "      <td>Nice product</td>\n",
       "    </tr>\n",
       "    <tr>\n",
       "      <th>3</th>\n",
       "      <td>samsung</td>\n",
       "      <td>Rakesh Dutta</td>\n",
       "      <td>1</td>\n",
       "      <td>Absolute rubbish!</td>\n",
       "      <td>Mobile data is not working</td>\n",
       "    </tr>\n",
       "    <tr>\n",
       "      <th>4</th>\n",
       "      <td>samsung</td>\n",
       "      <td>Flipkart Customer</td>\n",
       "      <td>3</td>\n",
       "      <td>Just okay</td>\n",
       "      <td>Mobile was good but headphone not given</td>\n",
       "    </tr>\n",
       "  </tbody>\n",
       "</table>\n",
       "</div>"
      ],
      "text/plain": [
       "   Product                       Name Rating            CommentHead  \\\n",
       "0  samsung                 Bijoy Saha      5  Mind-blowing purchase   \n",
       "1  samsung  BHAIYA RANJAY KUMAR SINGH      5              Excellent   \n",
       "2  samsung              Rajnish Kumar      5      Terrific purchase   \n",
       "3  samsung               Rakesh Dutta      1      Absolute rubbish!   \n",
       "4  samsung          Flipkart Customer      3              Just okay   \n",
       "\n",
       "                                   Comment  \n",
       "0                      Super phone must by  \n",
       "1                                     good  \n",
       "2                             Nice product  \n",
       "3               Mobile data is not working  \n",
       "4  Mobile was good but headphone not given  "
      ]
     },
     "execution_count": 42,
     "metadata": {},
     "output_type": "execute_result"
    }
   ],
   "source": [
    "samsung_df.head()"
   ]
  },
  {
   "cell_type": "code",
   "execution_count": 29,
   "metadata": {},
   "outputs": [],
   "source": [
    "iphone_df = scrape('iphone')"
   ]
  },
  {
   "cell_type": "code",
   "execution_count": 41,
   "metadata": {},
   "outputs": [
    {
     "data": {
      "text/html": [
       "<div>\n",
       "<style scoped>\n",
       "    .dataframe tbody tr th:only-of-type {\n",
       "        vertical-align: middle;\n",
       "    }\n",
       "\n",
       "    .dataframe tbody tr th {\n",
       "        vertical-align: top;\n",
       "    }\n",
       "\n",
       "    .dataframe thead th {\n",
       "        text-align: right;\n",
       "    }\n",
       "</style>\n",
       "<table border=\"1\" class=\"dataframe\">\n",
       "  <thead>\n",
       "    <tr style=\"text-align: right;\">\n",
       "      <th></th>\n",
       "      <th>Product</th>\n",
       "      <th>Name</th>\n",
       "      <th>Rating</th>\n",
       "      <th>CommentHead</th>\n",
       "      <th>Comment</th>\n",
       "    </tr>\n",
       "  </thead>\n",
       "  <tbody>\n",
       "    <tr>\n",
       "      <th>0</th>\n",
       "      <td>iphone</td>\n",
       "      <td>Sravan Kumar Chokkavarapu</td>\n",
       "      <td>5</td>\n",
       "      <td>Great product</td>\n",
       "      <td>Who all loves older size i.e., 4.7 inch type s...</td>\n",
       "    </tr>\n",
       "    <tr>\n",
       "      <th>1</th>\n",
       "      <td>iphone</td>\n",
       "      <td>Flipkart Customer</td>\n",
       "      <td>4</td>\n",
       "      <td>Worth the money</td>\n",
       "      <td>As always compact and handy ... with good imag...</td>\n",
       "    </tr>\n",
       "    <tr>\n",
       "      <th>2</th>\n",
       "      <td>iphone</td>\n",
       "      <td>Vishnuvardhan Meda</td>\n",
       "      <td>4</td>\n",
       "      <td>Wonderful</td>\n",
       "      <td>Mobile is very handy. Packed with good perform...</td>\n",
       "    </tr>\n",
       "    <tr>\n",
       "      <th>3</th>\n",
       "      <td>iphone</td>\n",
       "      <td>Saurabh N</td>\n",
       "      <td>4</td>\n",
       "      <td>Nice product</td>\n",
       "      <td>Let's face it. The main reason you're even con...</td>\n",
       "    </tr>\n",
       "    <tr>\n",
       "      <th>4</th>\n",
       "      <td>iphone</td>\n",
       "      <td>ankit paliwal</td>\n",
       "      <td>5</td>\n",
       "      <td>Best in the market!</td>\n",
       "      <td>One word.. beautiful iphone ❤️ premium feelJus...</td>\n",
       "    </tr>\n",
       "  </tbody>\n",
       "</table>\n",
       "</div>"
      ],
      "text/plain": [
       "  Product                       Name Rating          CommentHead  \\\n",
       "0  iphone  Sravan Kumar Chokkavarapu      5        Great product   \n",
       "1  iphone          Flipkart Customer      4      Worth the money   \n",
       "2  iphone         Vishnuvardhan Meda      4            Wonderful   \n",
       "3  iphone                  Saurabh N      4         Nice product   \n",
       "4  iphone              ankit paliwal      5  Best in the market!   \n",
       "\n",
       "                                             Comment  \n",
       "0  Who all loves older size i.e., 4.7 inch type s...  \n",
       "1  As always compact and handy ... with good imag...  \n",
       "2  Mobile is very handy. Packed with good perform...  \n",
       "3  Let's face it. The main reason you're even con...  \n",
       "4  One word.. beautiful iphone ❤️ premium feelJus...  "
      ]
     },
     "execution_count": 41,
     "metadata": {},
     "output_type": "execute_result"
    }
   ],
   "source": [
    "iphone_df.head()"
   ]
  },
  {
   "cell_type": "code",
   "execution_count": 47,
   "metadata": {},
   "outputs": [
    {
     "data": {
      "text/plain": [
       "\"can't\""
      ]
     },
     "execution_count": 47,
     "metadata": {},
     "output_type": "execute_result"
    }
   ],
   "source": [
    "# word = \"can't\"\n",
    "# re.sub(r\"[^a-zA-Z\\']+\",'',word)"
   ]
  },
  {
   "cell_type": "code",
   "execution_count": null,
   "metadata": {},
   "outputs": [],
   "source": []
  }
 ],
 "metadata": {
  "kernelspec": {
   "display_name": "Python 3",
   "language": "python",
   "name": "python3"
  },
  "language_info": {
   "codemirror_mode": {
    "name": "ipython",
    "version": 3
   },
   "file_extension": ".py",
   "mimetype": "text/x-python",
   "name": "python",
   "nbconvert_exporter": "python",
   "pygments_lexer": "ipython3",
   "version": "3.6.0"
  }
 },
 "nbformat": 4,
 "nbformat_minor": 4
}
