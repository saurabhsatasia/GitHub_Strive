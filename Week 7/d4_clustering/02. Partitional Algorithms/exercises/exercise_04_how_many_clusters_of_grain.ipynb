{
 "cells": [
  {
   "cell_type": "markdown",
   "metadata": {},
   "source": [
    "# Exercise 4: How many clusters of grain?\n",
    "\n",
    "In the video, you learnt how to choose a good number of clusters for a dataset using the k-means inertia graph.  You are given a dataset of the measurements of samples of grain.  What's a good number of clusters in this case?\n",
    "\n",
    "This dataset was obtained from the [UCI](https://archive.ics.uci.edu/ml/datasets/seeds)."
   ]
  },
  {
   "cell_type": "markdown",
   "metadata": {},
   "source": [
    "**Step 1:** Load the dataset _(written for you)_."
   ]
  },
  {
   "cell_type": "code",
   "execution_count": 1,
   "metadata": {
    "exercise": false
   },
   "outputs": [],
   "source": [
    "import pandas as pd\n",
    "\n",
    "seeds_df = pd.read_csv('../datasets/seeds.csv')\n",
    "# forget about the grain variety for the moment - we'll use this later\n",
    "del seeds_df['grain_variety']"
   ]
  },
  {
   "cell_type": "markdown",
   "metadata": {},
   "source": [
    "**Step 2:** Display the DataFrame to inspect the data.  Notice that there are 7 columns - so each grain sample (row) is a point in 7D space!  Scatter plots can't help us here."
   ]
  },
  {
   "cell_type": "code",
   "execution_count": 3,
   "metadata": {},
   "outputs": [
    {
     "data": {
      "text/html": [
       "<div>\n",
       "<style scoped>\n",
       "    .dataframe tbody tr th:only-of-type {\n",
       "        vertical-align: middle;\n",
       "    }\n",
       "\n",
       "    .dataframe tbody tr th {\n",
       "        vertical-align: top;\n",
       "    }\n",
       "\n",
       "    .dataframe thead th {\n",
       "        text-align: right;\n",
       "    }\n",
       "</style>\n",
       "<table border=\"1\" class=\"dataframe\">\n",
       "  <thead>\n",
       "    <tr style=\"text-align: right;\">\n",
       "      <th></th>\n",
       "      <th>area</th>\n",
       "      <th>perimeter</th>\n",
       "      <th>compactness</th>\n",
       "      <th>length</th>\n",
       "      <th>width</th>\n",
       "      <th>asymmetry_coefficient</th>\n",
       "      <th>groove_length</th>\n",
       "    </tr>\n",
       "  </thead>\n",
       "  <tbody>\n",
       "    <tr>\n",
       "      <th>185</th>\n",
       "      <td>11.56</td>\n",
       "      <td>13.31</td>\n",
       "      <td>0.8198</td>\n",
       "      <td>5.363</td>\n",
       "      <td>2.683</td>\n",
       "      <td>4.062</td>\n",
       "      <td>5.182</td>\n",
       "    </tr>\n",
       "    <tr>\n",
       "      <th>33</th>\n",
       "      <td>13.94</td>\n",
       "      <td>14.17</td>\n",
       "      <td>0.8728</td>\n",
       "      <td>5.585</td>\n",
       "      <td>3.150</td>\n",
       "      <td>2.124</td>\n",
       "      <td>5.012</td>\n",
       "    </tr>\n",
       "    <tr>\n",
       "      <th>127</th>\n",
       "      <td>17.98</td>\n",
       "      <td>15.85</td>\n",
       "      <td>0.8993</td>\n",
       "      <td>5.979</td>\n",
       "      <td>3.687</td>\n",
       "      <td>2.257</td>\n",
       "      <td>5.919</td>\n",
       "    </tr>\n",
       "    <tr>\n",
       "      <th>45</th>\n",
       "      <td>13.80</td>\n",
       "      <td>14.04</td>\n",
       "      <td>0.8794</td>\n",
       "      <td>5.376</td>\n",
       "      <td>3.155</td>\n",
       "      <td>1.560</td>\n",
       "      <td>4.961</td>\n",
       "    </tr>\n",
       "    <tr>\n",
       "      <th>17</th>\n",
       "      <td>15.69</td>\n",
       "      <td>14.75</td>\n",
       "      <td>0.9058</td>\n",
       "      <td>5.527</td>\n",
       "      <td>3.514</td>\n",
       "      <td>1.599</td>\n",
       "      <td>5.046</td>\n",
       "    </tr>\n",
       "  </tbody>\n",
       "</table>\n",
       "</div>"
      ],
      "text/plain": [
       "      area  perimeter  compactness  length  width  asymmetry_coefficient  \\\n",
       "185  11.56      13.31       0.8198   5.363  2.683                  4.062   \n",
       "33   13.94      14.17       0.8728   5.585  3.150                  2.124   \n",
       "127  17.98      15.85       0.8993   5.979  3.687                  2.257   \n",
       "45   13.80      14.04       0.8794   5.376  3.155                  1.560   \n",
       "17   15.69      14.75       0.9058   5.527  3.514                  1.599   \n",
       "\n",
       "     groove_length  \n",
       "185          5.182  \n",
       "33           5.012  \n",
       "127          5.919  \n",
       "45           4.961  \n",
       "17           5.046  "
      ]
     },
     "execution_count": 3,
     "metadata": {},
     "output_type": "execute_result"
    }
   ],
   "source": [
    "seeds_df.sample(n=5)"
   ]
  },
  {
   "cell_type": "markdown",
   "metadata": {},
   "source": [
    "**Step 3:** Extract the measurements from the DataFrame using its `.values` attribute:"
   ]
  },
  {
   "cell_type": "code",
   "execution_count": 4,
   "metadata": {},
   "outputs": [],
   "source": [
    "samples = seeds_df.values"
   ]
  },
  {
   "cell_type": "markdown",
   "metadata": {},
   "source": [
    "**Step 4:**  _(Written for you)_. Measure the quality of clusterings with different numbers of clusters using the\n",
    "inertia.  For each of the given values of `k`, perform the following steps:\n",
    "\n",
    "  - Create a `KMeans` instance called `model` with `k` clusters.\n",
    "  - Fit the model to the grain data `samples`.\n",
    "  - Append the value of the `inertia_` attribute of `model` to the list `inertias`."
   ]
  },
  {
   "cell_type": "code",
   "execution_count": 15,
   "metadata": {},
   "outputs": [],
   "source": [
    "from sklearn.cluster import KMeans\n",
    "from kneed import KneeLocator\n",
    "import matplotlib.pyplot as plt\n",
    "\n",
    "ks = range(1, 8)\n",
    "inertias = []\n",
    "\n",
    "for k in ks:\n",
    "    # Create a KMeans instance with k clusters: model\n",
    "    model = KMeans(n_clusters=k)\n",
    "\n",
    "    # Fit model to samples\n",
    "    model.fit(samples)\n",
    "\n",
    "    # Append the inertia to the list of inertias\n",
    "    inertias.append(model.inertia_)"
   ]
  },
  {
   "cell_type": "markdown",
   "metadata": {},
   "source": [
    "**Step 5:**  Plot the inertia to see which number of clusters is best. Remember: lower numbers are better!"
   ]
  },
  {
   "cell_type": "code",
   "execution_count": 16,
   "metadata": {},
   "outputs": [
    {
     "name": "stdout",
     "output_type": "stream",
     "text": [
      "The optimum number of clusters is: 3\n"
     ]
    },
    {
     "data": {
      "image/png": "[encoded data removed]",
      "text/plain": [
       "<Figure size 432x288 with 1 Axes>"
      ]
     },
     "metadata": {
      "needs_background": "light"
     },
     "output_type": "display_data"
    }
   ],
   "source": [
    "# finding the value of optimal cluster programtically\n",
    "kn = KneeLocator(range(1,8), inertias, curve='convex', direction='decreasing')\n",
    "num_cluster = kn.knee\n",
    "print(f'The optimum number of clusters is: {str(kn.knee)}')\n",
    "\n",
    "plt.plot(range(1,8), inertias) # plot between WCSS and the number of clusters\n",
    "plt.title(\"The Elbow Method\")\n",
    "plt.xlabel(\"Number of Clusters\")\n",
    "plt.ylabel(\"WCSS\")\n",
    "plt.axvline(num_cluster,linestyle=':', label='no. of clusters', c =\"red\") # x vertical line\n",
    "plt.show()\n"
   ]
  },
  {
   "cell_type": "markdown",
   "metadata": {},
   "source": [
    "**Excellent work!** You can see from the graph that 3 is a good number of clusters, since these are points where the inertia begins to decrease more slowly."
   ]
  }
 ],
 "metadata": {
  "kernelspec": {
   "display_name": "Python 3",
   "language": "python",
   "name": "python3"
  },
  "language_info": {
   "codemirror_mode": {
    "name": "ipython",
    "version": 3
   },
   "file_extension": ".py",
   "mimetype": "text/x-python",
   "name": "python",
   "nbconvert_exporter": "python",
   "pygments_lexer": "ipython3",
   "version": "3.8.5"
  }
 },
 "nbformat": 4,
 "nbformat_minor": 4
}
