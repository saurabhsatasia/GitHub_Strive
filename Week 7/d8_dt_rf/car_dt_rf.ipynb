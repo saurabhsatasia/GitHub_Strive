{
 "cells": [
  {
   "cell_type": "code",
   "execution_count": 1,
   "metadata": {},
   "outputs": [],
   "source": [
    "import warnings\n",
    "warnings.filterwarnings('ignore')"
   ]
  },
  {
   "cell_type": "code",
   "execution_count": 48,
   "metadata": {},
   "outputs": [],
   "source": [
    "import pandas as pd\n",
    "import numpy as np\n",
    "from sklearn.model_selection import train_test_split\n",
    "from sklearn.multiclass import OneVsRestClassifier\n",
    "\n",
    "from sklearn.model_selection import GridSearchCV,StratifiedKFold\n",
    "from sklearn.tree import DecisionTreeClassifier\n",
    "from sklearn.ensemble import RandomForestClassifier\n",
    "from sklearn.metrics import classification_report, accuracy_score, roc_curve, roc_auc_score, confusion_matrix, plot_confusion_matrix\n",
    "import matplotlib.pyplot as plt"
   ]
  },
  {
   "cell_type": "code",
   "execution_count": 26,
   "metadata": {},
   "outputs": [
    {
     "data": {
      "text/html": [
       "<div>\n",
       "<style scoped>\n",
       "    .dataframe tbody tr th:only-of-type {\n",
       "        vertical-align: middle;\n",
       "    }\n",
       "\n",
       "    .dataframe tbody tr th {\n",
       "        vertical-align: top;\n",
       "    }\n",
       "\n",
       "    .dataframe thead th {\n",
       "        text-align: right;\n",
       "    }\n",
       "</style>\n",
       "<table border=\"1\" class=\"dataframe\">\n",
       "  <thead>\n",
       "    <tr style=\"text-align: right;\">\n",
       "      <th></th>\n",
       "      <th>buying</th>\n",
       "      <th>maintenance</th>\n",
       "      <th>doors</th>\n",
       "      <th>persons</th>\n",
       "      <th>lug_boot</th>\n",
       "      <th>safety</th>\n",
       "      <th>decision</th>\n",
       "    </tr>\n",
       "  </thead>\n",
       "  <tbody>\n",
       "    <tr>\n",
       "      <th>0</th>\n",
       "      <td>vhigh</td>\n",
       "      <td>vhigh</td>\n",
       "      <td>2</td>\n",
       "      <td>2</td>\n",
       "      <td>small</td>\n",
       "      <td>low</td>\n",
       "      <td>unacc</td>\n",
       "    </tr>\n",
       "    <tr>\n",
       "      <th>1</th>\n",
       "      <td>vhigh</td>\n",
       "      <td>vhigh</td>\n",
       "      <td>2</td>\n",
       "      <td>2</td>\n",
       "      <td>small</td>\n",
       "      <td>med</td>\n",
       "      <td>unacc</td>\n",
       "    </tr>\n",
       "    <tr>\n",
       "      <th>2</th>\n",
       "      <td>vhigh</td>\n",
       "      <td>vhigh</td>\n",
       "      <td>2</td>\n",
       "      <td>2</td>\n",
       "      <td>small</td>\n",
       "      <td>high</td>\n",
       "      <td>unacc</td>\n",
       "    </tr>\n",
       "    <tr>\n",
       "      <th>3</th>\n",
       "      <td>vhigh</td>\n",
       "      <td>vhigh</td>\n",
       "      <td>2</td>\n",
       "      <td>2</td>\n",
       "      <td>med</td>\n",
       "      <td>low</td>\n",
       "      <td>unacc</td>\n",
       "    </tr>\n",
       "    <tr>\n",
       "      <th>4</th>\n",
       "      <td>vhigh</td>\n",
       "      <td>vhigh</td>\n",
       "      <td>2</td>\n",
       "      <td>2</td>\n",
       "      <td>med</td>\n",
       "      <td>med</td>\n",
       "      <td>unacc</td>\n",
       "    </tr>\n",
       "  </tbody>\n",
       "</table>\n",
       "</div>"
      ],
      "text/plain": [
       "  buying maintenance doors persons lug_boot safety decision\n",
       "0  vhigh       vhigh     2       2    small    low    unacc\n",
       "1  vhigh       vhigh     2       2    small    med    unacc\n",
       "2  vhigh       vhigh     2       2    small   high    unacc\n",
       "3  vhigh       vhigh     2       2      med    low    unacc\n",
       "4  vhigh       vhigh     2       2      med    med    unacc"
      ]
     },
     "execution_count": 26,
     "metadata": {},
     "output_type": "execute_result"
    }
   ],
   "source": [
    "df = pd.read_csv('data/car_evaluation.csv', header=None, names=['buying','maintenance','doors','persons','lug_boot','safety','decision'])\n",
    "df.head()"
   ]
  },
  {
   "cell_type": "code",
   "execution_count": 27,
   "metadata": {},
   "outputs": [
    {
     "name": "stdout",
     "output_type": "stream",
     "text": [
      "<class 'pandas.core.frame.DataFrame'>\n",
      "RangeIndex: 1728 entries, 0 to 1727\n",
      "Data columns (total 7 columns):\n",
      " #   Column       Non-Null Count  Dtype \n",
      "---  ------       --------------  ----- \n",
      " 0   buying       1728 non-null   object\n",
      " 1   maintenance  1728 non-null   object\n",
      " 2   doors        1728 non-null   object\n",
      " 3   persons      1728 non-null   object\n",
      " 4   lug_boot     1728 non-null   object\n",
      " 5   safety       1728 non-null   object\n",
      " 6   decision     1728 non-null   object\n",
      "dtypes: object(7)\n",
      "memory usage: 94.6+ KB\n"
     ]
    }
   ],
   "source": [
    "df.info()"
   ]
  },
  {
   "cell_type": "code",
   "execution_count": 28,
   "metadata": {},
   "outputs": [
    {
     "data": {
      "text/plain": [
       "med      432\n",
       "low      432\n",
       "vhigh    432\n",
       "high     432\n",
       "Name: buying, dtype: int64"
      ]
     },
     "execution_count": 28,
     "metadata": {},
     "output_type": "execute_result"
    }
   ],
   "source": [
    "df['buying'].value_counts()"
   ]
  },
  {
   "cell_type": "code",
   "execution_count": 29,
   "metadata": {},
   "outputs": [
    {
     "data": {
      "text/plain": [
       "unacc    1210\n",
       "acc       384\n",
       "good       69\n",
       "vgood      65\n",
       "Name: decision, dtype: int64"
      ]
     },
     "execution_count": 29,
     "metadata": {},
     "output_type": "execute_result"
    }
   ],
   "source": [
    "df['decision'].value_counts()"
   ]
  },
  {
   "cell_type": "code",
   "execution_count": 60,
   "metadata": {},
   "outputs": [
    {
     "data": {
      "text/plain": [
       "more    576\n",
       "2       576\n",
       "4       576\n",
       "Name: persons, dtype: int64"
      ]
     },
     "execution_count": 60,
     "metadata": {},
     "output_type": "execute_result"
    }
   ],
   "source": [
    "df['persons'].value_counts()"
   ]
  },
  {
   "cell_type": "code",
   "execution_count": 63,
   "metadata": {},
   "outputs": [
    {
     "data": {
      "text/plain": [
       "3        432\n",
       "5more    432\n",
       "2        432\n",
       "4        432\n",
       "Name: doors, dtype: int64"
      ]
     },
     "execution_count": 63,
     "metadata": {},
     "output_type": "execute_result"
    }
   ],
   "source": [
    "df['doors'].value_counts()"
   ]
  },
  {
   "cell_type": "code",
   "execution_count": 61,
   "metadata": {},
   "outputs": [],
   "source": [
    "df['persons']=df['persons'].replace({'more':6})"
   ]
  },
  {
   "cell_type": "code",
   "execution_count": 64,
   "metadata": {},
   "outputs": [],
   "source": [
    "df['doors']=df['doors'].replace({'5more':5})"
   ]
  },
  {
   "cell_type": "code",
   "execution_count": 30,
   "metadata": {},
   "outputs": [],
   "source": [
    "get_d=pd.get_dummies(df[['buying','maintenance','lug_boot','safety']],drop_first=True)"
   ]
  },
  {
   "cell_type": "code",
   "execution_count": 31,
   "metadata": {},
   "outputs": [],
   "source": [
    "df = pd.concat([df,get_d], axis=1)"
   ]
  },
  {
   "cell_type": "code",
   "execution_count": 65,
   "metadata": {},
   "outputs": [
    {
     "data": {
      "text/html": [
       "<div>\n",
       "<style scoped>\n",
       "    .dataframe tbody tr th:only-of-type {\n",
       "        vertical-align: middle;\n",
       "    }\n",
       "\n",
       "    .dataframe tbody tr th {\n",
       "        vertical-align: top;\n",
       "    }\n",
       "\n",
       "    .dataframe thead th {\n",
       "        text-align: right;\n",
       "    }\n",
       "</style>\n",
       "<table border=\"1\" class=\"dataframe\">\n",
       "  <thead>\n",
       "    <tr style=\"text-align: right;\">\n",
       "      <th></th>\n",
       "      <th>doors</th>\n",
       "      <th>persons</th>\n",
       "      <th>decision</th>\n",
       "      <th>buying_low</th>\n",
       "      <th>buying_med</th>\n",
       "      <th>buying_vhigh</th>\n",
       "      <th>maintenance_low</th>\n",
       "      <th>maintenance_med</th>\n",
       "      <th>maintenance_vhigh</th>\n",
       "      <th>lug_boot_med</th>\n",
       "      <th>lug_boot_small</th>\n",
       "      <th>safety_low</th>\n",
       "      <th>safety_med</th>\n",
       "    </tr>\n",
       "  </thead>\n",
       "  <tbody>\n",
       "    <tr>\n",
       "      <th>0</th>\n",
       "      <td>2</td>\n",
       "      <td>2</td>\n",
       "      <td>unacc</td>\n",
       "      <td>0</td>\n",
       "      <td>0</td>\n",
       "      <td>1</td>\n",
       "      <td>0</td>\n",
       "      <td>0</td>\n",
       "      <td>1</td>\n",
       "      <td>0</td>\n",
       "      <td>1</td>\n",
       "      <td>1</td>\n",
       "      <td>0</td>\n",
       "    </tr>\n",
       "    <tr>\n",
       "      <th>1</th>\n",
       "      <td>2</td>\n",
       "      <td>2</td>\n",
       "      <td>unacc</td>\n",
       "      <td>0</td>\n",
       "      <td>0</td>\n",
       "      <td>1</td>\n",
       "      <td>0</td>\n",
       "      <td>0</td>\n",
       "      <td>1</td>\n",
       "      <td>0</td>\n",
       "      <td>1</td>\n",
       "      <td>0</td>\n",
       "      <td>1</td>\n",
       "    </tr>\n",
       "    <tr>\n",
       "      <th>2</th>\n",
       "      <td>2</td>\n",
       "      <td>2</td>\n",
       "      <td>unacc</td>\n",
       "      <td>0</td>\n",
       "      <td>0</td>\n",
       "      <td>1</td>\n",
       "      <td>0</td>\n",
       "      <td>0</td>\n",
       "      <td>1</td>\n",
       "      <td>0</td>\n",
       "      <td>1</td>\n",
       "      <td>0</td>\n",
       "      <td>0</td>\n",
       "    </tr>\n",
       "    <tr>\n",
       "      <th>3</th>\n",
       "      <td>2</td>\n",
       "      <td>2</td>\n",
       "      <td>unacc</td>\n",
       "      <td>0</td>\n",
       "      <td>0</td>\n",
       "      <td>1</td>\n",
       "      <td>0</td>\n",
       "      <td>0</td>\n",
       "      <td>1</td>\n",
       "      <td>1</td>\n",
       "      <td>0</td>\n",
       "      <td>1</td>\n",
       "      <td>0</td>\n",
       "    </tr>\n",
       "    <tr>\n",
       "      <th>4</th>\n",
       "      <td>2</td>\n",
       "      <td>2</td>\n",
       "      <td>unacc</td>\n",
       "      <td>0</td>\n",
       "      <td>0</td>\n",
       "      <td>1</td>\n",
       "      <td>0</td>\n",
       "      <td>0</td>\n",
       "      <td>1</td>\n",
       "      <td>1</td>\n",
       "      <td>0</td>\n",
       "      <td>0</td>\n",
       "      <td>1</td>\n",
       "    </tr>\n",
       "    <tr>\n",
       "      <th>...</th>\n",
       "      <td>...</td>\n",
       "      <td>...</td>\n",
       "      <td>...</td>\n",
       "      <td>...</td>\n",
       "      <td>...</td>\n",
       "      <td>...</td>\n",
       "      <td>...</td>\n",
       "      <td>...</td>\n",
       "      <td>...</td>\n",
       "      <td>...</td>\n",
       "      <td>...</td>\n",
       "      <td>...</td>\n",
       "      <td>...</td>\n",
       "    </tr>\n",
       "    <tr>\n",
       "      <th>1723</th>\n",
       "      <td>5</td>\n",
       "      <td>6</td>\n",
       "      <td>good</td>\n",
       "      <td>1</td>\n",
       "      <td>0</td>\n",
       "      <td>0</td>\n",
       "      <td>1</td>\n",
       "      <td>0</td>\n",
       "      <td>0</td>\n",
       "      <td>1</td>\n",
       "      <td>0</td>\n",
       "      <td>0</td>\n",
       "      <td>1</td>\n",
       "    </tr>\n",
       "    <tr>\n",
       "      <th>1724</th>\n",
       "      <td>5</td>\n",
       "      <td>6</td>\n",
       "      <td>vgood</td>\n",
       "      <td>1</td>\n",
       "      <td>0</td>\n",
       "      <td>0</td>\n",
       "      <td>1</td>\n",
       "      <td>0</td>\n",
       "      <td>0</td>\n",
       "      <td>1</td>\n",
       "      <td>0</td>\n",
       "      <td>0</td>\n",
       "      <td>0</td>\n",
       "    </tr>\n",
       "    <tr>\n",
       "      <th>1725</th>\n",
       "      <td>5</td>\n",
       "      <td>6</td>\n",
       "      <td>unacc</td>\n",
       "      <td>1</td>\n",
       "      <td>0</td>\n",
       "      <td>0</td>\n",
       "      <td>1</td>\n",
       "      <td>0</td>\n",
       "      <td>0</td>\n",
       "      <td>0</td>\n",
       "      <td>0</td>\n",
       "      <td>1</td>\n",
       "      <td>0</td>\n",
       "    </tr>\n",
       "    <tr>\n",
       "      <th>1726</th>\n",
       "      <td>5</td>\n",
       "      <td>6</td>\n",
       "      <td>good</td>\n",
       "      <td>1</td>\n",
       "      <td>0</td>\n",
       "      <td>0</td>\n",
       "      <td>1</td>\n",
       "      <td>0</td>\n",
       "      <td>0</td>\n",
       "      <td>0</td>\n",
       "      <td>0</td>\n",
       "      <td>0</td>\n",
       "      <td>1</td>\n",
       "    </tr>\n",
       "    <tr>\n",
       "      <th>1727</th>\n",
       "      <td>5</td>\n",
       "      <td>6</td>\n",
       "      <td>vgood</td>\n",
       "      <td>1</td>\n",
       "      <td>0</td>\n",
       "      <td>0</td>\n",
       "      <td>1</td>\n",
       "      <td>0</td>\n",
       "      <td>0</td>\n",
       "      <td>0</td>\n",
       "      <td>0</td>\n",
       "      <td>0</td>\n",
       "      <td>0</td>\n",
       "    </tr>\n",
       "  </tbody>\n",
       "</table>\n",
       "<p>1728 rows × 13 columns</p>\n",
       "</div>"
      ],
      "text/plain": [
       "     doors persons decision  buying_low  buying_med  buying_vhigh  \\\n",
       "0        2       2    unacc           0           0             1   \n",
       "1        2       2    unacc           0           0             1   \n",
       "2        2       2    unacc           0           0             1   \n",
       "3        2       2    unacc           0           0             1   \n",
       "4        2       2    unacc           0           0             1   \n",
       "...    ...     ...      ...         ...         ...           ...   \n",
       "1723     5       6     good           1           0             0   \n",
       "1724     5       6    vgood           1           0             0   \n",
       "1725     5       6    unacc           1           0             0   \n",
       "1726     5       6     good           1           0             0   \n",
       "1727     5       6    vgood           1           0             0   \n",
       "\n",
       "      maintenance_low  maintenance_med  maintenance_vhigh  lug_boot_med  \\\n",
       "0                   0                0                  1             0   \n",
       "1                   0                0                  1             0   \n",
       "2                   0                0                  1             0   \n",
       "3                   0                0                  1             1   \n",
       "4                   0                0                  1             1   \n",
       "...               ...              ...                ...           ...   \n",
       "1723                1                0                  0             1   \n",
       "1724                1                0                  0             1   \n",
       "1725                1                0                  0             0   \n",
       "1726                1                0                  0             0   \n",
       "1727                1                0                  0             0   \n",
       "\n",
       "      lug_boot_small  safety_low  safety_med  \n",
       "0                  1           1           0  \n",
       "1                  1           0           1  \n",
       "2                  1           0           0  \n",
       "3                  0           1           0  \n",
       "4                  0           0           1  \n",
       "...              ...         ...         ...  \n",
       "1723               0           0           1  \n",
       "1724               0           0           0  \n",
       "1725               0           1           0  \n",
       "1726               0           0           1  \n",
       "1727               0           0           0  \n",
       "\n",
       "[1728 rows x 13 columns]"
      ]
     },
     "execution_count": 65,
     "metadata": {},
     "output_type": "execute_result"
    }
   ],
   "source": [
    "df"
   ]
  },
  {
   "cell_type": "code",
   "execution_count": 33,
   "metadata": {},
   "outputs": [],
   "source": [
    "df = df.drop(['buying','maintenance','lug_boot','safety'], axis=1)"
   ]
  },
  {
   "cell_type": "code",
   "execution_count": 35,
   "metadata": {},
   "outputs": [],
   "source": [
    "from sklearn.preprocessing import LabelEncoder\n",
    "y=df['decision']\n",
    "label_encoder = LabelEncoder().fit(y)\n",
    "y = label_encoder.transform(y)"
   ]
  },
  {
   "cell_type": "code",
   "execution_count": 42,
   "metadata": {},
   "outputs": [
    {
     "data": {
      "text/plain": [
       "(array([0, 1, 2, 3]), array([ 384,   69, 1210,   65], dtype=int64))"
      ]
     },
     "execution_count": 42,
     "metadata": {},
     "output_type": "execute_result"
    }
   ],
   "source": [
    "np.unique(y,return_counts=True )"
   ]
  },
  {
   "cell_type": "code",
   "execution_count": 68,
   "metadata": {},
   "outputs": [],
   "source": [
    "X=df.drop('decision', axis=1)"
   ]
  },
  {
   "cell_type": "code",
   "execution_count": 71,
   "metadata": {},
   "outputs": [],
   "source": [
    "from sklearn.preprocessing import LabelBinarizer"
   ]
  },
  {
   "cell_type": "code",
   "execution_count": 72,
   "metadata": {},
   "outputs": [],
   "source": [
    "class DecisionTree_Classifier:\n",
    "    def __init__(self):\n",
    "        self.DTC = DecisionTreeClassifier()\n",
    "    \n",
    "    def get_params_for_dtc(self, train_x, train_y):\n",
    "        try:\n",
    "            self.param_grid_for_dtc={\"criterion\":['gini','entropy'], 'max_depth':range(1,10),\n",
    "                                     \"min_samples_split\": range(1,10), \"min_samples_leaf\":range(1,5),\n",
    "                                     \"max_features\":['auto', 'sqrt','log2']}\n",
    "            self.str_kfold_cv = StratifiedKFold(n_splits=10, shuffle=True, random_state=7)\n",
    "            self.grid = GridSearchCV(estimator=self.DTC, param_grid=self.param_grid_for_dtc, verbose=0, cv=self.str_kfold_cv)\n",
    "            self.grid.fit(train_x,train_y)\n",
    "            \n",
    "            self.criterions = self.grid.best_params_['criterion']\n",
    "            self.max_depth = self.grid.best_params_['max_depth']\n",
    "            self.min_samples_split = self.grid.best_params_['min_samples_split']\n",
    "            self.min_samples_leaf = self.grid.best_params_['min_samples_leaf']\n",
    "            self.max_features = self.grid.best_params_['max_features']\n",
    "            \n",
    "            self.dtc = DecisionTreeClassifier(criterion=self.criterions, max_depth=self.max_depth, min_samples_split=self.min_samples_split,\n",
    "                                              min_samples_leaf = self.min_samples_leaf, max_features=self.max_features)\n",
    "            self.dtc.fit(train_x,train_y)\n",
    "            print(f'DecisionTreeClassifier best params:{str(self.grid.best_params_)}.')\n",
    "            return self.dtc\n",
    "       \n",
    "        except Exception as e:\n",
    "            print(f'Exception occured in get_params_for_dtc method. Exception message: {str(e)}')\n",
    "            print('LogisticReg Parameter tuning  failed.')\n",
    "            \n",
    "    def dtc_model(self, train_x, test_x, train_y, test_y):\n",
    "        try:\n",
    "            self.dtc = self.get_params_for_dtc(train_x, train_y)\n",
    "            self.predict_dtc = self.dtc.predict(test_x)\n",
    "            self.predict_prob_dtc = self.dtc.predict_proba(test_x)#[:,1]\n",
    "#             print(self.predict_prob_dtc)\n",
    "            self.conf_mat = confusion_matrix(test_y, self.predict_dtc)\n",
    "            print(f\"Confusion matrix: \\n {self.conf_mat}\")\n",
    "            print(classification_report(test_y,self.predict_dtc))\n",
    "            #if len(test_y.unique()) == 1: #if there is only one label in y, then roc_auc_score returns error. We will use accuracy in that case\n",
    "            self.dtc_score = accuracy_score(test_y, self.predict_dtc)\n",
    "            print(f'Accuracy for DecisionTreeClassifier:{str(self.dtc_score)}')\n",
    "            #else:\n",
    "            \n",
    "            lb = LabelBinarizer()\n",
    "            lb.fit(test_y)\n",
    "            y_test = lb.transform(test_y)\n",
    "            y_pred = lb.transform(self.predict_dtc)\n",
    "            self.dtc_AUC_score = roc_auc_score(y_test, y_pred, average='macro')\n",
    "#             auc={}\n",
    "#             auc += roc_auc_score(test_y, self.predict_prob_dtc,  multi_class='ovo')\n",
    "            print(f'AUC for DecisionTreeClassifier: {self.dtc_AUC_score}')\n",
    "#             fpr , tpr , thresholds   = roc_curve(test_y, self.predict_dtc)\n",
    "#             auc_score = auc(fpr,tpr) same as roc_auc_score for each class\n",
    "            return self.dtc\n",
    "        except Exception as e:\n",
    "            print(f'Exception occured in dtc_model methods. Exception message: {str(e)}')\n",
    "            raise Exception()            "
   ]
  },
  {
   "cell_type": "code",
   "execution_count": 73,
   "metadata": {},
   "outputs": [
    {
     "name": "stdout",
     "output_type": "stream",
     "text": [
      "DecisionTreeClassifier best params:{'criterion': 'gini', 'max_depth': 9, 'max_features': 'sqrt', 'min_samples_leaf': 2, 'min_samples_split': 2}.\n",
      "Confusion matrix: \n",
      " [[ 57   3  17   7]\n",
      " [  5   7   0   1]\n",
      " [ 26   0 211   0]\n",
      " [  8   1   0   3]]\n",
      "              precision    recall  f1-score   support\n",
      "\n",
      "           0       0.59      0.68      0.63        84\n",
      "           1       0.64      0.54      0.58        13\n",
      "           2       0.93      0.89      0.91       237\n",
      "           3       0.27      0.25      0.26        12\n",
      "\n",
      "    accuracy                           0.80       346\n",
      "   macro avg       0.61      0.59      0.60       346\n",
      "weighted avg       0.81      0.80      0.81       346\n",
      "\n",
      "Accuracy for DecisionTreeClassifier:0.8034682080924855\n",
      "AUC for DecisionTreeClassifier: 0.7520682441597508\n"
     ]
    },
    {
     "data": {
      "text/plain": [
       "DecisionTreeClassifier(max_depth=9, max_features='sqrt', min_samples_leaf=2)"
      ]
     },
     "execution_count": 73,
     "metadata": {},
     "output_type": "execute_result"
    }
   ],
   "source": [
    "X_train, X_test, y_train, y_test = train_test_split(X.values,y, test_size=0.2, random_state=123)\n",
    "dtc = DecisionTree_Classifier()\n",
    "dtc.dtc_model(X_train, X_test, y_train, y_test)"
   ]
  },
  {
   "cell_type": "code",
   "execution_count": 84,
   "metadata": {},
   "outputs": [],
   "source": [
    "class RandomForest_Classifier:\n",
    "    def __init__(self):\n",
    "        self.RFC = RandomForestClassifier()\n",
    "    \n",
    "    def get_params_for_rfc(self, train_x, train_y):\n",
    "        try:\n",
    "            self.param_grid_for_rfc={\"n_estimators\": [10, 50, 100, 130], \"criterion\": ['gini', 'entropy'],\n",
    "                                     \"max_depth\": range(10, 15, 15), \"max_features\": ['auto', 'log2']}\n",
    "            \n",
    "            #self.str_kfold_cv = StratifiedKFold(n_splits=10, shuffle=True, random_state=7)\n",
    "            self.grid = GridSearchCV(estimator=self.RFC, param_grid=self.param_grid_for_rfc, verbose=0, cv=5)\n",
    "            self.grid.fit(train_x,train_y)\n",
    "            \n",
    "            self.criterion = self.grid.best_params_['criterion']\n",
    "            self.max_depth = self.grid.best_params_['max_depth']\n",
    "            self.max_features = self.grid.best_params_['max_features']\n",
    "            self.n_estimators = self.grid.best_params_['n_estimators']\n",
    "            \n",
    "            self.rfc = RandomForestClassifier(criterion=self.criterion, max_depth=self.max_depth, n_estimators=self.n_estimators,\n",
    "                                              max_features=self.max_features)\n",
    "            self.rfc.fit(train_x,train_y)\n",
    "            print(f'RandomForestClassifier best params:{str(self.grid.best_params_)}.')\n",
    "            return self.rfc\n",
    "       \n",
    "        except Exception as e:\n",
    "            print(f'Exception occured in get_params_for_dtc method. Exception message: {str(e)}')\n",
    "            print('RandomForestClassifier Parameter tuning  failed.')\n",
    "            \n",
    "    def rfc_model(self, train_x, test_x, train_y, test_y):\n",
    "        try:\n",
    "            self.rfc = self.get_params_for_rfc(train_x, train_y)\n",
    "            self.predict_rfc = self.rfc.predict(test_x)\n",
    "            self.predict_prob_rfc = self.rfc.predict_proba(test_x)#[:,1]\n",
    "#             print(self.predict_prob_rfc)\n",
    "            self.conf_mat = confusion_matrix(test_y, self.predict_rfc)\n",
    "            print(f\"Confusion matrix: \\n {self.conf_mat}\")\n",
    "            print(classification_report(test_y,self.predict_rfc))\n",
    "            #if len(test_y.unique()) == 1: #if there is only one label in y, then roc_auc_score returns error. We will use accuracy in that case\n",
    "            self.rfc_score = accuracy_score(test_y, self.predict_rfc)\n",
    "            print(f'Accuracy for RandomForest_Classifier:{str(self.rfc_score)}')\n",
    "            #else:\n",
    "            \n",
    "            lb = LabelBinarizer()\n",
    "            lb.fit(test_y)\n",
    "            y_test = lb.transform(test_y)\n",
    "            y_pred = lb.transform(self.predict_rfc)\n",
    "            self.rfc_AUC_score = roc_auc_score(y_test, y_pred, average='macro')\n",
    "#             auc={}\n",
    "#             auc += roc_auc_score(test_y, self.predict_prob_rfc,  multi_class='ovo')\n",
    "            print(f'AUC for RandomForest_Classifier: {self.rfc_AUC_score}')\n",
    "#             fpr , tpr , thresholds   = roc_curve(test_y, self.predict_rfc)\n",
    "#             auc_score = auc(fpr,tpr) same as roc_auc_score for each class\n",
    "            return self.rfc\n",
    "        except Exception as e:\n",
    "            print(f'Exception occured in rfc_model methods. Exception message: {str(e)}')\n",
    "            raise Exception()            "
   ]
  },
  {
   "cell_type": "code",
   "execution_count": 85,
   "metadata": {},
   "outputs": [
    {
     "name": "stdout",
     "output_type": "stream",
     "text": [
      "RandomForestClassifier best params:{'criterion': 'entropy', 'max_depth': 10, 'max_features': 'log2', 'n_estimators': 100}.\n",
      "Confusion matrix: \n",
      " [[ 79   1   3   1]\n",
      " [  0  11   0   2]\n",
      " [  7   1 229   0]\n",
      " [  0   1   0  11]]\n",
      "              precision    recall  f1-score   support\n",
      "\n",
      "           0       0.92      0.94      0.93        84\n",
      "           1       0.79      0.85      0.81        13\n",
      "           2       0.99      0.97      0.98       237\n",
      "           3       0.79      0.92      0.85        12\n",
      "\n",
      "    accuracy                           0.95       346\n",
      "   macro avg       0.87      0.92      0.89       346\n",
      "weighted avg       0.96      0.95      0.95       346\n",
      "\n",
      "Accuracy for RandomForest_Classifier:0.953757225433526\n",
      "AUC for RandomForest_Classifier: 0.9496637363832778\n"
     ]
    },
    {
     "data": {
      "text/plain": [
       "RandomForestClassifier(criterion='entropy', max_depth=10, max_features='log2')"
      ]
     },
     "execution_count": 85,
     "metadata": {},
     "output_type": "execute_result"
    }
   ],
   "source": [
    "X_train, X_test, y_train, y_test = train_test_split(X.values,y, test_size=0.2, random_state=123)\n",
    "rfc = RandomForest_Classifier()\n",
    "rfc.rfc_model(X_train, X_test, y_train, y_test)"
   ]
  },
  {
   "cell_type": "code",
   "execution_count": null,
   "metadata": {},
   "outputs": [],
   "source": []
  }
 ],
 "metadata": {
  "kernelspec": {
   "display_name": "Python 3",
   "language": "python",
   "name": "python3"
  },
  "language_info": {
   "codemirror_mode": {
    "name": "ipython",
    "version": 3
   },
   "file_extension": ".py",
   "mimetype": "text/x-python",
   "name": "python",
   "nbconvert_exporter": "python",
   "pygments_lexer": "ipython3",
   "version": "3.8.5"
  }
 },
 "nbformat": 4,
 "nbformat_minor": 4
}
