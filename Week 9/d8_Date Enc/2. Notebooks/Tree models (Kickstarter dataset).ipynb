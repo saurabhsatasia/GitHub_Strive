{
 "cells": [
  {
   "cell_type": "markdown",
   "metadata": {
    "papermill": {
     "duration": 0.012097,
     "end_time": "2020-10-01T00:24:54.338101",
     "exception": false,
     "start_time": "2020-10-01T00:24:54.326004",
     "status": "completed"
    },
    "tags": []
   },
   "source": [
    "# <center> Tree models"
   ]
  },
  {
   "cell_type": "markdown",
   "metadata": {},
   "source": [
    "## Imports"
   ]
  },
  {
   "cell_type": "code",
   "execution_count": 3,
   "metadata": {},
   "outputs": [
    {
     "name": "stdout",
     "output_type": "stream",
     "text": [
      "Pandas   1.1.3\n",
      "Sklearn  0.23.2\n",
      "LightGBM 3.1.1\n"
     ]
    }
   ],
   "source": [
    "import pandas as pd\n",
    "import sklearn\n",
    "import lightgbm\n",
    "\n",
    "from sklearn.preprocessing import OrdinalEncoder, LabelEncoder\n",
    "from sklearn import pipeline      # Pipeline\n",
    "from sklearn import preprocessing # LabelEncoder\n",
    "from sklearn import impute\n",
    "from sklearn import compose\n",
    "from sklearn import metrics\n",
    "from sklearn import set_config\n",
    "\n",
    "set_config(display='diagram')\n",
    "\n",
    "print(\"Pandas  \", pd.__version__)\n",
    "print(\"Sklearn \", sklearn.__version__)\n",
    "print(\"LightGBM\", lightgbm.__version__)"
   ]
  },
  {
   "cell_type": "markdown",
   "metadata": {
    "papermill": {
     "duration": 0.010075,
     "end_time": "2020-10-01T00:24:54.359165",
     "exception": false,
     "start_time": "2020-10-01T00:24:54.349090",
     "status": "completed"
    },
    "tags": []
   },
   "source": [
    "## Load the data\n",
    "\n",
    "We'll work with **data from Kickstarter projects**. The first few rows of the data looks like this:"
   ]
  },
  {
   "cell_type": "code",
   "execution_count": 4,
   "metadata": {
    "_kg_hide-input": true,
    "execution": {
     "iopub.execute_input": "2020-10-01T00:24:54.383202Z",
     "iopub.status.busy": "2020-10-01T00:24:54.382615Z",
     "iopub.status.idle": "2020-10-01T00:24:55.878100Z",
     "shell.execute_reply": "2020-10-01T00:24:55.878599Z"
    },
    "papermill": {
     "duration": 1.509361,
     "end_time": "2020-10-01T00:24:55.878761",
     "exception": false,
     "start_time": "2020-10-01T00:24:54.369400",
     "status": "completed"
    },
    "scrolled": false,
    "tags": []
   },
   "outputs": [
    {
     "name": "stdout",
     "output_type": "stream",
     "text": [
      "378661 rows\n"
     ]
    },
    {
     "data": {
      "text/html": [
       "<div>\n",
       "<style scoped>\n",
       "    .dataframe tbody tr th:only-of-type {\n",
       "        vertical-align: middle;\n",
       "    }\n",
       "\n",
       "    .dataframe tbody tr th {\n",
       "        vertical-align: top;\n",
       "    }\n",
       "\n",
       "    .dataframe thead th {\n",
       "        text-align: right;\n",
       "    }\n",
       "</style>\n",
       "<table border=\"1\" class=\"dataframe\">\n",
       "  <thead>\n",
       "    <tr style=\"text-align: right;\">\n",
       "      <th></th>\n",
       "      <th>ID</th>\n",
       "      <th>name</th>\n",
       "      <th>category</th>\n",
       "      <th>main_category</th>\n",
       "      <th>currency</th>\n",
       "      <th>deadline</th>\n",
       "      <th>goal</th>\n",
       "      <th>launched</th>\n",
       "      <th>pledged</th>\n",
       "      <th>state</th>\n",
       "      <th>backers</th>\n",
       "      <th>country</th>\n",
       "      <th>usd pledged</th>\n",
       "      <th>usd_pledged_real</th>\n",
       "      <th>usd_goal_real</th>\n",
       "    </tr>\n",
       "  </thead>\n",
       "  <tbody>\n",
       "    <tr>\n",
       "      <th>0</th>\n",
       "      <td>1000002330</td>\n",
       "      <td>The Songs of Adelaide &amp; Abullah</td>\n",
       "      <td>Poetry</td>\n",
       "      <td>Publishing</td>\n",
       "      <td>GBP</td>\n",
       "      <td>2015-10-09</td>\n",
       "      <td>1000.0</td>\n",
       "      <td>2015-08-11 12:12:28</td>\n",
       "      <td>0.0</td>\n",
       "      <td>failed</td>\n",
       "      <td>0</td>\n",
       "      <td>GB</td>\n",
       "      <td>0.0</td>\n",
       "      <td>0.0</td>\n",
       "      <td>1533.95</td>\n",
       "    </tr>\n",
       "    <tr>\n",
       "      <th>1</th>\n",
       "      <td>1000003930</td>\n",
       "      <td>Greeting From Earth: ZGAC Arts Capsule For ET</td>\n",
       "      <td>Narrative Film</td>\n",
       "      <td>Film &amp; Video</td>\n",
       "      <td>USD</td>\n",
       "      <td>2017-11-01</td>\n",
       "      <td>30000.0</td>\n",
       "      <td>2017-09-02 04:43:57</td>\n",
       "      <td>2421.0</td>\n",
       "      <td>failed</td>\n",
       "      <td>15</td>\n",
       "      <td>US</td>\n",
       "      <td>100.0</td>\n",
       "      <td>2421.0</td>\n",
       "      <td>30000.00</td>\n",
       "    </tr>\n",
       "    <tr>\n",
       "      <th>2</th>\n",
       "      <td>1000004038</td>\n",
       "      <td>Where is Hank?</td>\n",
       "      <td>Narrative Film</td>\n",
       "      <td>Film &amp; Video</td>\n",
       "      <td>USD</td>\n",
       "      <td>2013-02-26</td>\n",
       "      <td>45000.0</td>\n",
       "      <td>2013-01-12 00:20:50</td>\n",
       "      <td>220.0</td>\n",
       "      <td>failed</td>\n",
       "      <td>3</td>\n",
       "      <td>US</td>\n",
       "      <td>220.0</td>\n",
       "      <td>220.0</td>\n",
       "      <td>45000.00</td>\n",
       "    </tr>\n",
       "  </tbody>\n",
       "</table>\n",
       "</div>"
      ],
      "text/plain": [
       "           ID                                           name        category  \\\n",
       "0  1000002330                The Songs of Adelaide & Abullah          Poetry   \n",
       "1  1000003930  Greeting From Earth: ZGAC Arts Capsule For ET  Narrative Film   \n",
       "2  1000004038                                 Where is Hank?  Narrative Film   \n",
       "\n",
       "  main_category currency   deadline     goal            launched  pledged  \\\n",
       "0    Publishing      GBP 2015-10-09   1000.0 2015-08-11 12:12:28      0.0   \n",
       "1  Film & Video      USD 2017-11-01  30000.0 2017-09-02 04:43:57   2421.0   \n",
       "2  Film & Video      USD 2013-02-26  45000.0 2013-01-12 00:20:50    220.0   \n",
       "\n",
       "    state  backers country  usd pledged  usd_pledged_real  usd_goal_real  \n",
       "0  failed        0      GB          0.0               0.0        1533.95  \n",
       "1  failed       15      US        100.0            2421.0       30000.00  \n",
       "2  failed        3      US        220.0             220.0       45000.00  "
      ]
     },
     "execution_count": 4,
     "metadata": {},
     "output_type": "execute_result"
    }
   ],
   "source": [
    "df = pd.read_csv('../datasets/ks-projects-201801.csv', parse_dates=['deadline', 'launched'])\n",
    "print(len(df), \"rows\")\n",
    "df.head(3)"
   ]
  },
  {
   "cell_type": "markdown",
   "metadata": {
    "papermill": {
     "duration": 0.012191,
     "end_time": "2020-10-01T00:24:55.902822",
     "exception": false,
     "start_time": "2020-10-01T00:24:55.890631",
     "status": "completed"
    },
    "tags": []
   },
   "source": [
    "## Target variable: `state`: (successful VS not successful)\n",
    "The `state` column shows the outcome of the project."
   ]
  },
  {
   "cell_type": "code",
   "execution_count": 3,
   "metadata": {},
   "outputs": [
    {
     "data": {
      "image/png": "[encoded data removed]",
      "text/plain": [
       "<Figure size 432x288 with 1 Axes>"
      ]
     },
     "metadata": {
      "needs_background": "light"
     },
     "output_type": "display_data"
    }
   ],
   "source": [
    "df.state.value_counts().plot.barh();"
   ]
  },
  {
   "cell_type": "markdown",
   "metadata": {
    "papermill": {
     "duration": 0.011176,
     "end_time": "2020-10-01T00:24:56.007841",
     "exception": false,
     "start_time": "2020-10-01T00:24:55.996665",
     "status": "completed"
    },
    "tags": []
   },
   "source": [
    "#### Prepare the target column\n",
    "\n",
    "First we'll convert the `state` column into a target we can use in a model.  Data cleaning isn't the current focus, so we'll simplify this example by:\n",
    "\n",
    "- Dropping projects that are \"live\"\n",
    "- Counting \"successful\" states as `outcome = 1`\n",
    "- Combining every other state as `outcome = 0`"
   ]
  },
  {
   "cell_type": "code",
   "execution_count": 4,
   "metadata": {},
   "outputs": [
    {
     "data": {
      "image/png": "[encoded data removed]",
      "text/plain": [
       "<Figure size 432x288 with 1 Axes>"
      ]
     },
     "metadata": {
      "needs_background": "light"
     },
     "output_type": "display_data"
    }
   ],
   "source": [
    "# Drop live projects\n",
    "df = df[ df.state != \"live\" ]\n",
    "\n",
    "# Add outcome column, \"successful\" == 1, others are 0\n",
    "df[\"outcome\"] = (df.state == 'successful').astype(int)\n",
    "\n",
    "df.outcome.value_counts().plot.barh();"
   ]
  },
  {
   "cell_type": "markdown",
   "metadata": {
    "papermill": {
     "duration": 0.011122,
     "end_time": "2020-10-01T00:24:56.229207",
     "exception": false,
     "start_time": "2020-10-01T00:24:56.218085",
     "status": "completed"
    },
    "tags": []
   },
   "source": [
    "### Custom Encoders"
   ]
  },
  {
   "cell_type": "code",
   "execution_count": 7,
   "metadata": {},
   "outputs": [],
   "source": [
    "from sklearn.base import TransformerMixin, BaseEstimator\n",
    "\n",
    "class DoNothingEncoder(TransformerMixin, BaseEstimator): # \n",
    "    def __init__(self):\n",
    "        pass\n",
    "    \n",
    "    def fit(self, x, y=None):\n",
    "        return self\n",
    "    \n",
    "    def transform(self, x, y=None):\n",
    "        return x\n",
    "    \n",
    "class DateEncoder(TransformerMixin, BaseEstimator):\n",
    "\n",
    "    def fit(self, df, y=None):\n",
    "        return self\n",
    "    \n",
    "    def transform(self, df):\n",
    "        dfs = []\n",
    "        for column in df:\n",
    "            dt = df[column].dt\n",
    "            df_dt = pd.concat([dt.hour, dt.day, dt.month, dt.year], axis=1) # dt.weekday()\n",
    "            dfs.append(df_dt)\n",
    "        dfs_dt = pd.concat(dfs, axis=1)\n",
    "        return dfs_dt"
   ]
  },
  {
   "cell_type": "markdown",
   "metadata": {
    "papermill": {
     "duration": 0.011061,
     "end_time": "2020-10-01T00:24:56.512839",
     "exception": false,
     "start_time": "2020-10-01T00:24:56.501778",
     "status": "completed"
    },
    "tags": []
   },
   "source": [
    "### Prep categorical variables\n",
    "\n",
    "Now for the categorical variables -- `category`, `currency`, and `country` -- we'll need to convert them into integers so our model can use the data. For this we'll use scikit-learn's `OrdinalEncoder`. This assigns an integer to each value of the categorical feature."
   ]
  },
  {
   "cell_type": "code",
   "execution_count": 8,
   "metadata": {},
   "outputs": [
    {
     "data": {
      "text/html": [
       "<style>div.sk-top-container {color: black;background-color: white;}div.sk-toggleable {background-color: white;}label.sk-toggleable__label {cursor: pointer;display: block;width: 100%;margin-bottom: 0;padding: 0.2em 0.3em;box-sizing: border-box;text-align: center;}div.sk-toggleable__content {max-height: 0;max-width: 0;overflow: hidden;text-align: left;background-color: #f0f8ff;}div.sk-toggleable__content pre {margin: 0.2em;color: black;border-radius: 0.25em;background-color: #f0f8ff;}input.sk-toggleable__control:checked~div.sk-toggleable__content {max-height: 200px;max-width: 100%;overflow: auto;}div.sk-estimator input.sk-toggleable__control:checked~label.sk-toggleable__label {background-color: #d4ebff;}div.sk-label input.sk-toggleable__control:checked~label.sk-toggleable__label {background-color: #d4ebff;}input.sk-hidden--visually {border: 0;clip: rect(1px 1px 1px 1px);clip: rect(1px, 1px, 1px, 1px);height: 1px;margin: -1px;overflow: hidden;padding: 0;position: absolute;width: 1px;}div.sk-estimator {font-family: monospace;background-color: #f0f8ff;margin: 0.25em 0.25em;border: 1px dotted black;border-radius: 0.25em;box-sizing: border-box;}div.sk-estimator:hover {background-color: #d4ebff;}div.sk-parallel-item::after {content: \"\";width: 100%;border-bottom: 1px solid gray;flex-grow: 1;}div.sk-label:hover label.sk-toggleable__label {background-color: #d4ebff;}div.sk-serial::before {content: \"\";position: absolute;border-left: 1px solid gray;box-sizing: border-box;top: 2em;bottom: 0;left: 50%;}div.sk-serial {display: flex;flex-direction: column;align-items: center;background-color: white;}div.sk-item {z-index: 1;}div.sk-parallel {display: flex;align-items: stretch;justify-content: center;background-color: white;}div.sk-parallel-item {display: flex;flex-direction: column;position: relative;background-color: white;}div.sk-parallel-item:first-child::after {align-self: flex-end;width: 50%;}div.sk-parallel-item:last-child::after {align-self: flex-start;width: 50%;}div.sk-parallel-item:only-child::after {width: 0;}div.sk-dashed-wrapped {border: 1px dashed gray;margin: 0.2em;box-sizing: border-box;padding-bottom: 0.1em;background-color: white;position: relative;}div.sk-label label {font-family: monospace;font-weight: bold;background-color: white;display: inline-block;line-height: 1.2em;}div.sk-label-container {position: relative;z-index: 2;text-align: center;}div.sk-container {display: inline-block;position: relative;}</style><div class=\"sk-top-container\"><div class=\"sk-container\"><div class=\"sk-item sk-dashed-wrapped\"><div class=\"sk-label-container\"><div class=\"sk-label sk-toggleable\"><input class=\"sk-toggleable__control sk-hidden--visually\" id=\"d311c66d-fec8-411e-a949-9039af5a7d7a\" type=\"checkbox\" ><label class=\"sk-toggleable__label\" for=\"d311c66d-fec8-411e-a949-9039af5a7d7a\">ColumnTransformer</label><div class=\"sk-toggleable__content\"><pre>ColumnTransformer(transformers=[('numeric', DoNothingEncoder(), ['goal']),\n",
       "                                ('categories', OrdinalEncoder(),\n",
       "                                 ['category', 'currency', 'country']),\n",
       "                                ('date', DateEncoder(), ['launched'])])</pre></div></div></div><div class=\"sk-parallel\"><div class=\"sk-parallel-item\"><div class=\"sk-item\"><div class=\"sk-label-container\"><div class=\"sk-label sk-toggleable\"><input class=\"sk-toggleable__control sk-hidden--visually\" id=\"ff4913bc-5468-4604-8a1f-5d0de0d7cb39\" type=\"checkbox\" ><label class=\"sk-toggleable__label\" for=\"ff4913bc-5468-4604-8a1f-5d0de0d7cb39\">numeric</label><div class=\"sk-toggleable__content\"><pre>['goal']</pre></div></div></div><div class=\"sk-serial\"><div class=\"sk-item\"><div class=\"sk-estimator sk-toggleable\"><input class=\"sk-toggleable__control sk-hidden--visually\" id=\"515e4663-6600-4dc9-b9fb-bc57f9dfc711\" type=\"checkbox\" ><label class=\"sk-toggleable__label\" for=\"515e4663-6600-4dc9-b9fb-bc57f9dfc711\">DoNothingEncoder</label><div class=\"sk-toggleable__content\"><pre>DoNothingEncoder()</pre></div></div></div></div></div></div><div class=\"sk-parallel-item\"><div class=\"sk-item\"><div class=\"sk-label-container\"><div class=\"sk-label sk-toggleable\"><input class=\"sk-toggleable__control sk-hidden--visually\" id=\"aa3e9c5b-78a0-45be-bbb4-65fb55b65e86\" type=\"checkbox\" ><label class=\"sk-toggleable__label\" for=\"aa3e9c5b-78a0-45be-bbb4-65fb55b65e86\">categories</label><div class=\"sk-toggleable__content\"><pre>['category', 'currency', 'country']</pre></div></div></div><div class=\"sk-serial\"><div class=\"sk-item\"><div class=\"sk-estimator sk-toggleable\"><input class=\"sk-toggleable__control sk-hidden--visually\" id=\"d37e9bb2-86dd-49b1-a8a2-2daeb8072037\" type=\"checkbox\" ><label class=\"sk-toggleable__label\" for=\"d37e9bb2-86dd-49b1-a8a2-2daeb8072037\">OrdinalEncoder</label><div class=\"sk-toggleable__content\"><pre>OrdinalEncoder()</pre></div></div></div></div></div></div><div class=\"sk-parallel-item\"><div class=\"sk-item\"><div class=\"sk-label-container\"><div class=\"sk-label sk-toggleable\"><input class=\"sk-toggleable__control sk-hidden--visually\" id=\"786b8727-7e44-4328-b4e0-5c571a2614ed\" type=\"checkbox\" ><label class=\"sk-toggleable__label\" for=\"786b8727-7e44-4328-b4e0-5c571a2614ed\">date</label><div class=\"sk-toggleable__content\"><pre>['launched']</pre></div></div></div><div class=\"sk-serial\"><div class=\"sk-item\"><div class=\"sk-estimator sk-toggleable\"><input class=\"sk-toggleable__control sk-hidden--visually\" id=\"e111bbd0-9975-420f-aac9-db054f465539\" type=\"checkbox\" ><label class=\"sk-toggleable__label\" for=\"e111bbd0-9975-420f-aac9-db054f465539\">DateEncoder</label><div class=\"sk-toggleable__content\"><pre>DateEncoder()</pre></div></div></div></div></div></div></div></div></div></div>"
      ],
      "text/plain": [
       "ColumnTransformer(transformers=[('numeric', DoNothingEncoder(), ['goal']),\n",
       "                                ('categories', OrdinalEncoder(),\n",
       "                                 ['category', 'currency', 'country']),\n",
       "                                ('date', DateEncoder(), ['launched'])])"
      ]
     },
     "execution_count": 8,
     "metadata": {},
     "output_type": "execute_result"
    }
   ],
   "source": [
    "date_vars = ['launched']\n",
    "cat_vars  = ['category', 'currency', 'country']\n",
    "num_vars  = ['goal']\n",
    "target_var = 'outcome'\n",
    "\n",
    "preprocessor = compose.ColumnTransformer(transformers=[\n",
    "    ('numeric',    DoNothingEncoder(), num_vars),\n",
    "    ('categories', OrdinalEncoder(),   cat_vars),\n",
    "    ('date',       DateEncoder(),      date_vars),\n",
    "], remainder='drop')\n",
    "\n",
    "preprocessor"
   ]
  },
  {
   "cell_type": "markdown",
   "metadata": {
    "papermill": {
     "duration": 0.011006,
     "end_time": "2020-10-01T00:24:57.655311",
     "exception": false,
     "start_time": "2020-10-01T00:24:57.644305",
     "status": "completed"
    },
    "tags": []
   },
   "source": [
    "We collect all of these features in a new dataframe that we can use to train a model."
   ]
  },
  {
   "cell_type": "markdown",
   "metadata": {
    "papermill": {
     "duration": 0.011581,
     "end_time": "2020-10-01T00:24:57.752151",
     "exception": false,
     "start_time": "2020-10-01T00:24:57.740570",
     "status": "completed"
    },
    "tags": []
   },
   "source": [
    "### Create training, validation, and test splits\n",
    "\n",
    "We need to create data sets for training, validation, and testing. We'll use a fairly simple approach and split the data using slices. We'll use 10% of the data as a validation set, 10% for testing, and the other 80% for training."
   ]
  },
  {
   "cell_type": "code",
   "execution_count": 11,
   "metadata": {
    "execution": {
     "iopub.execute_input": "2020-10-01T00:24:57.782212Z",
     "iopub.status.busy": "2020-10-01T00:24:57.781580Z",
     "iopub.status.idle": "2020-10-01T00:24:57.784440Z",
     "shell.execute_reply": "2020-10-01T00:24:57.783822Z"
    },
    "papermill": {
     "duration": 0.02062,
     "end_time": "2020-10-01T00:24:57.784571",
     "exception": false,
     "start_time": "2020-10-01T00:24:57.763951",
     "status": "completed"
    },
    "tags": []
   },
   "outputs": [],
   "source": [
    "valid_fraction = 0.1\n",
    "valid_size = int(len(df) * valid_fraction)\n",
    "\n",
    "train = df[:-2 * valid_size]\n",
    "valid = df[-2 * valid_size:-valid_size]\n",
    "test = df[-valid_size:]"
   ]
  },
  {
   "cell_type": "markdown",
   "metadata": {
    "papermill": {
     "duration": 0.011691,
     "end_time": "2020-10-01T00:24:57.808324",
     "exception": false,
     "start_time": "2020-10-01T00:24:57.796633",
     "status": "completed"
    },
    "tags": []
   },
   "source": [
    "### Train a model\n",
    "\n",
    "For this course we'll be using a LightGBM model. This is a tree-based model that typically provides the best performance, even compared to XGBoost. It's also relatively fast to train. \n",
    "\n",
    "We won't do hyperparameter optimization because that isn't the goal of this course. So, our models won't be the absolute best performance you can get. But you'll still see model performance improve as we do feature engineering."
   ]
  },
  {
   "cell_type": "code",
   "execution_count": 12,
   "metadata": {},
   "outputs": [
    {
     "name": "stdout",
     "output_type": "stream",
     "text": [
      "[1]\tvalid_0's auc: 0.694192\n",
      "Training until validation scores don't improve for 10 rounds\n",
      "[2]\tvalid_0's auc: 0.697026\n",
      "[3]\tvalid_0's auc: 0.70002\n",
      "[4]\tvalid_0's auc: 0.701645\n",
      "[5]\tvalid_0's auc: 0.70601\n",
      "[6]\tvalid_0's auc: 0.707926\n",
      "[7]\tvalid_0's auc: 0.70945\n",
      "[8]\tvalid_0's auc: 0.710437\n",
      "[9]\tvalid_0's auc: 0.712047\n",
      "[10]\tvalid_0's auc: 0.713417\n",
      "[11]\tvalid_0's auc: 0.714648\n",
      "[12]\tvalid_0's auc: 0.715791\n",
      "[13]\tvalid_0's auc: 0.717431\n",
      "[14]\tvalid_0's auc: 0.718216\n",
      "[15]\tvalid_0's auc: 0.719381\n",
      "[16]\tvalid_0's auc: 0.720884\n",
      "[17]\tvalid_0's auc: 0.721617\n",
      "[18]\tvalid_0's auc: 0.722788\n",
      "[19]\tvalid_0's auc: 0.723305\n",
      "[20]\tvalid_0's auc: 0.724826\n",
      "[21]\tvalid_0's auc: 0.725596\n",
      "[22]\tvalid_0's auc: 0.727436\n",
      "[23]\tvalid_0's auc: 0.72788\n",
      "[24]\tvalid_0's auc: 0.728838\n",
      "[25]\tvalid_0's auc: 0.729249\n",
      "[26]\tvalid_0's auc: 0.730276\n",
      "[27]\tvalid_0's auc: 0.730651\n",
      "[28]\tvalid_0's auc: 0.731264\n",
      "[29]\tvalid_0's auc: 0.731584\n",
      "[30]\tvalid_0's auc: 0.732643\n",
      "[31]\tvalid_0's auc: 0.733118\n",
      "[32]\tvalid_0's auc: 0.733422\n",
      "[33]\tvalid_0's auc: 0.734007\n",
      "[34]\tvalid_0's auc: 0.734475\n",
      "[35]\tvalid_0's auc: 0.734652\n",
      "[36]\tvalid_0's auc: 0.73488\n",
      "[37]\tvalid_0's auc: 0.735944\n",
      "[38]\tvalid_0's auc: 0.73617\n",
      "[39]\tvalid_0's auc: 0.736498\n",
      "[40]\tvalid_0's auc: 0.736767\n",
      "[41]\tvalid_0's auc: 0.737663\n",
      "[42]\tvalid_0's auc: 0.737783\n",
      "[43]\tvalid_0's auc: 0.73798\n",
      "[44]\tvalid_0's auc: 0.738213\n",
      "[45]\tvalid_0's auc: 0.738784\n",
      "[46]\tvalid_0's auc: 0.738881\n",
      "[47]\tvalid_0's auc: 0.739012\n",
      "[48]\tvalid_0's auc: 0.739203\n",
      "[49]\tvalid_0's auc: 0.739353\n",
      "[50]\tvalid_0's auc: 0.739844\n",
      "[51]\tvalid_0's auc: 0.739929\n",
      "[52]\tvalid_0's auc: 0.74008\n",
      "[53]\tvalid_0's auc: 0.740276\n",
      "[54]\tvalid_0's auc: 0.740519\n",
      "[55]\tvalid_0's auc: 0.740655\n",
      "[56]\tvalid_0's auc: 0.740712\n",
      "[57]\tvalid_0's auc: 0.741008\n",
      "[58]\tvalid_0's auc: 0.74109\n",
      "[59]\tvalid_0's auc: 0.741133\n",
      "[60]\tvalid_0's auc: 0.741264\n",
      "[61]\tvalid_0's auc: 0.741467\n",
      "[62]\tvalid_0's auc: 0.741628\n",
      "[63]\tvalid_0's auc: 0.741912\n",
      "[64]\tvalid_0's auc: 0.742196\n",
      "[65]\tvalid_0's auc: 0.742252\n",
      "[66]\tvalid_0's auc: 0.742332\n",
      "[67]\tvalid_0's auc: 0.742413\n",
      "[68]\tvalid_0's auc: 0.742516\n",
      "[69]\tvalid_0's auc: 0.742732\n",
      "[70]\tvalid_0's auc: 0.742774\n",
      "[71]\tvalid_0's auc: 0.742838\n",
      "[72]\tvalid_0's auc: 0.743004\n",
      "[73]\tvalid_0's auc: 0.743035\n",
      "[74]\tvalid_0's auc: 0.74308\n",
      "[75]\tvalid_0's auc: 0.743136\n",
      "[76]\tvalid_0's auc: 0.743692\n",
      "[77]\tvalid_0's auc: 0.743737\n",
      "[78]\tvalid_0's auc: 0.74382\n",
      "[79]\tvalid_0's auc: 0.743885\n",
      "[80]\tvalid_0's auc: 0.743901\n",
      "[81]\tvalid_0's auc: 0.744103\n",
      "[82]\tvalid_0's auc: 0.744096\n",
      "[83]\tvalid_0's auc: 0.744116\n",
      "[84]\tvalid_0's auc: 0.744169\n",
      "[85]\tvalid_0's auc: 0.744238\n",
      "[86]\tvalid_0's auc: 0.744322\n",
      "[87]\tvalid_0's auc: 0.744317\n",
      "[88]\tvalid_0's auc: 0.744377\n",
      "[89]\tvalid_0's auc: 0.744429\n",
      "[90]\tvalid_0's auc: 0.74449\n",
      "[91]\tvalid_0's auc: 0.744508\n",
      "[92]\tvalid_0's auc: 0.744506\n",
      "[93]\tvalid_0's auc: 0.744536\n",
      "[94]\tvalid_0's auc: 0.744573\n",
      "[95]\tvalid_0's auc: 0.744585\n",
      "[96]\tvalid_0's auc: 0.744584\n",
      "[97]\tvalid_0's auc: 0.744695\n",
      "[98]\tvalid_0's auc: 0.744693\n",
      "[99]\tvalid_0's auc: 0.744694\n",
      "[100]\tvalid_0's auc: 0.744673\n",
      "[101]\tvalid_0's auc: 0.744673\n",
      "[102]\tvalid_0's auc: 0.744711\n",
      "[103]\tvalid_0's auc: 0.744707\n",
      "[104]\tvalid_0's auc: 0.744769\n",
      "[105]\tvalid_0's auc: 0.744816\n",
      "[106]\tvalid_0's auc: 0.744817\n",
      "[107]\tvalid_0's auc: 0.744803\n",
      "[108]\tvalid_0's auc: 0.744816\n",
      "[109]\tvalid_0's auc: 0.744857\n",
      "[110]\tvalid_0's auc: 0.74515\n",
      "[111]\tvalid_0's auc: 0.745133\n",
      "[112]\tvalid_0's auc: 0.7451\n",
      "[113]\tvalid_0's auc: 0.745123\n",
      "[114]\tvalid_0's auc: 0.745126\n",
      "[115]\tvalid_0's auc: 0.745099\n",
      "[116]\tvalid_0's auc: 0.745074\n",
      "[117]\tvalid_0's auc: 0.745082\n",
      "[118]\tvalid_0's auc: 0.745124\n",
      "[119]\tvalid_0's auc: 0.745134\n",
      "[120]\tvalid_0's auc: 0.745188\n",
      "[121]\tvalid_0's auc: 0.745216\n",
      "[122]\tvalid_0's auc: 0.745264\n",
      "[123]\tvalid_0's auc: 0.745236\n",
      "[124]\tvalid_0's auc: 0.745233\n",
      "[125]\tvalid_0's auc: 0.745425\n",
      "[126]\tvalid_0's auc: 0.745468\n",
      "[127]\tvalid_0's auc: 0.745435\n",
      "[128]\tvalid_0's auc: 0.745453\n",
      "[129]\tvalid_0's auc: 0.745455\n",
      "[130]\tvalid_0's auc: 0.74546\n",
      "[131]\tvalid_0's auc: 0.745504\n",
      "[132]\tvalid_0's auc: 0.745476\n",
      "[133]\tvalid_0's auc: 0.74548\n",
      "[134]\tvalid_0's auc: 0.745843\n",
      "[135]\tvalid_0's auc: 0.746043\n",
      "[136]\tvalid_0's auc: 0.74609\n",
      "[137]\tvalid_0's auc: 0.746146\n",
      "[138]\tvalid_0's auc: 0.746151\n",
      "[139]\tvalid_0's auc: 0.746134\n",
      "[140]\tvalid_0's auc: 0.746116\n",
      "[141]\tvalid_0's auc: 0.746094\n",
      "[142]\tvalid_0's auc: 0.746145\n",
      "[143]\tvalid_0's auc: 0.746146\n",
      "[144]\tvalid_0's auc: 0.746152\n",
      "[145]\tvalid_0's auc: 0.746168\n",
      "[146]\tvalid_0's auc: 0.746186\n",
      "[147]\tvalid_0's auc: 0.746192\n",
      "[148]\tvalid_0's auc: 0.746192\n",
      "[149]\tvalid_0's auc: 0.746188\n",
      "[150]\tvalid_0's auc: 0.74624\n",
      "[151]\tvalid_0's auc: 0.746295\n",
      "[152]\tvalid_0's auc: 0.746315\n",
      "[153]\tvalid_0's auc: 0.746326\n",
      "[154]\tvalid_0's auc: 0.746314\n",
      "[155]\tvalid_0's auc: 0.74631\n",
      "[156]\tvalid_0's auc: 0.746325\n",
      "[157]\tvalid_0's auc: 0.746359\n",
      "[158]\tvalid_0's auc: 0.746331\n",
      "[159]\tvalid_0's auc: 0.746338\n",
      "[160]\tvalid_0's auc: 0.746373\n",
      "[161]\tvalid_0's auc: 0.746418\n",
      "[162]\tvalid_0's auc: 0.746416\n",
      "[163]\tvalid_0's auc: 0.746404\n",
      "[164]\tvalid_0's auc: 0.74641\n",
      "[165]\tvalid_0's auc: 0.746675\n",
      "[166]\tvalid_0's auc: 0.746638\n",
      "[167]\tvalid_0's auc: 0.746616\n",
      "[168]\tvalid_0's auc: 0.746653\n",
      "[169]\tvalid_0's auc: 0.7467\n",
      "[170]\tvalid_0's auc: 0.746698\n",
      "[171]\tvalid_0's auc: 0.746759\n",
      "[172]\tvalid_0's auc: 0.746786\n",
      "[173]\tvalid_0's auc: 0.746776\n",
      "[174]\tvalid_0's auc: 0.746738\n",
      "[175]\tvalid_0's auc: 0.746721\n",
      "[176]\tvalid_0's auc: 0.74671\n",
      "[177]\tvalid_0's auc: 0.746731\n",
      "[178]\tvalid_0's auc: 0.746739\n",
      "[179]\tvalid_0's auc: 0.746733\n",
      "[180]\tvalid_0's auc: 0.746752\n",
      "[181]\tvalid_0's auc: 0.746912\n",
      "[182]\tvalid_0's auc: 0.746939\n",
      "[183]\tvalid_0's auc: 0.746937\n",
      "[184]\tvalid_0's auc: 0.746984\n",
      "[185]\tvalid_0's auc: 0.74699\n",
      "[186]\tvalid_0's auc: 0.747038\n",
      "[187]\tvalid_0's auc: 0.74702\n",
      "[188]\tvalid_0's auc: 0.747005\n",
      "[189]\tvalid_0's auc: 0.746969\n",
      "[190]\tvalid_0's auc: 0.747089\n",
      "[191]\tvalid_0's auc: 0.747107\n",
      "[192]\tvalid_0's auc: 0.747108\n",
      "[193]\tvalid_0's auc: 0.747095\n",
      "[194]\tvalid_0's auc: 0.747106\n",
      "[195]\tvalid_0's auc: 0.747075\n",
      "[196]\tvalid_0's auc: 0.747264\n",
      "[197]\tvalid_0's auc: 0.747263\n",
      "[198]\tvalid_0's auc: 0.747243\n",
      "[199]\tvalid_0's auc: 0.747311\n",
      "[200]\tvalid_0's auc: 0.747274\n",
      "[201]\tvalid_0's auc: 0.747258\n",
      "[202]\tvalid_0's auc: 0.747258\n",
      "[203]\tvalid_0's auc: 0.747284\n",
      "[204]\tvalid_0's auc: 0.747291\n",
      "[205]\tvalid_0's auc: 0.747299\n",
      "[206]\tvalid_0's auc: 0.747284\n",
      "[207]\tvalid_0's auc: 0.747258\n",
      "[208]\tvalid_0's auc: 0.747266\n",
      "[209]\tvalid_0's auc: 0.747272\n",
      "Early stopping, best iteration is:\n",
      "[199]\tvalid_0's auc: 0.747311\n"
     ]
    },
    {
     "data": {
      "text/html": [
       "<style>div.sk-top-container {color: black;background-color: white;}div.sk-toggleable {background-color: white;}label.sk-toggleable__label {cursor: pointer;display: block;width: 100%;margin-bottom: 0;padding: 0.2em 0.3em;box-sizing: border-box;text-align: center;}div.sk-toggleable__content {max-height: 0;max-width: 0;overflow: hidden;text-align: left;background-color: #f0f8ff;}div.sk-toggleable__content pre {margin: 0.2em;color: black;border-radius: 0.25em;background-color: #f0f8ff;}input.sk-toggleable__control:checked~div.sk-toggleable__content {max-height: 200px;max-width: 100%;overflow: auto;}div.sk-estimator input.sk-toggleable__control:checked~label.sk-toggleable__label {background-color: #d4ebff;}div.sk-label input.sk-toggleable__control:checked~label.sk-toggleable__label {background-color: #d4ebff;}input.sk-hidden--visually {border: 0;clip: rect(1px 1px 1px 1px);clip: rect(1px, 1px, 1px, 1px);height: 1px;margin: -1px;overflow: hidden;padding: 0;position: absolute;width: 1px;}div.sk-estimator {font-family: monospace;background-color: #f0f8ff;margin: 0.25em 0.25em;border: 1px dotted black;border-radius: 0.25em;box-sizing: border-box;}div.sk-estimator:hover {background-color: #d4ebff;}div.sk-parallel-item::after {content: \"\";width: 100%;border-bottom: 1px solid gray;flex-grow: 1;}div.sk-label:hover label.sk-toggleable__label {background-color: #d4ebff;}div.sk-serial::before {content: \"\";position: absolute;border-left: 1px solid gray;box-sizing: border-box;top: 2em;bottom: 0;left: 50%;}div.sk-serial {display: flex;flex-direction: column;align-items: center;background-color: white;}div.sk-item {z-index: 1;}div.sk-parallel {display: flex;align-items: stretch;justify-content: center;background-color: white;}div.sk-parallel-item {display: flex;flex-direction: column;position: relative;background-color: white;}div.sk-parallel-item:first-child::after {align-self: flex-end;width: 50%;}div.sk-parallel-item:last-child::after {align-self: flex-start;width: 50%;}div.sk-parallel-item:only-child::after {width: 0;}div.sk-dashed-wrapped {border: 1px dashed gray;margin: 0.2em;box-sizing: border-box;padding-bottom: 0.1em;background-color: white;position: relative;}div.sk-label label {font-family: monospace;font-weight: bold;background-color: white;display: inline-block;line-height: 1.2em;}div.sk-label-container {position: relative;z-index: 2;text-align: center;}div.sk-container {display: inline-block;position: relative;}</style><div class=\"sk-top-container\"><div class=\"sk-container\"><div class=\"sk-item\"><div class=\"sk-estimator sk-toggleable\"><input class=\"sk-toggleable__control sk-hidden--visually\" id=\"4c94cfcf-8c8e-483b-9cd8-408b9a388fa4\" type=\"checkbox\" checked><label class=\"sk-toggleable__label\" for=\"4c94cfcf-8c8e-483b-9cd8-408b9a388fa4\">LGBMClassifier</label><div class=\"sk-toggleable__content\"><pre>LGBMClassifier(metric='auc', n_estimators=1000, num_leaves=64,\n",
       "               objective='binary')</pre></div></div></div></div></div>"
      ],
      "text/plain": [
       "LGBMClassifier(metric='auc', n_estimators=1000, num_leaves=64,\n",
       "               objective='binary')"
      ]
     },
     "execution_count": 12,
     "metadata": {},
     "output_type": "execute_result"
    }
   ],
   "source": [
    "model = lightgbm.LGBMClassifier(\n",
    "    n_estimators = 1000,\n",
    "    num_leaves   = 64,\n",
    "    objective    = 'binary',\n",
    "    metric       = 'auc'\n",
    ")\n",
    "\n",
    "model.fit(X=preprocessor.fit_transform(train), y=train.outcome,\n",
    "          eval_set=(preprocessor.transform(valid), valid.outcome),\n",
    "          early_stopping_rounds=10,\n",
    "          verbose=True)"
   ]
  },
  {
   "cell_type": "markdown",
   "metadata": {
    "papermill": {
     "duration": 0.015155,
     "end_time": "2020-10-01T00:25:01.629811",
     "exception": false,
     "start_time": "2020-10-01T00:25:01.614656",
     "status": "completed"
    },
    "tags": []
   },
   "source": [
    "### Make predictions & evaluate the model\n",
    "\n",
    "Finally, let's make predictions on the test set with the model and see how well it performs. An important thing to remember is that you can overfit to the validation data. This is why we need a test set that the model never sees until the final evaluation."
   ]
  },
  {
   "cell_type": "code",
   "execution_count": 13,
   "metadata": {},
   "outputs": [
    {
     "data": {
      "text/html": [
       "<div>\n",
       "<style scoped>\n",
       "    .dataframe tbody tr th:only-of-type {\n",
       "        vertical-align: middle;\n",
       "    }\n",
       "\n",
       "    .dataframe tbody tr th {\n",
       "        vertical-align: top;\n",
       "    }\n",
       "\n",
       "    .dataframe thead th {\n",
       "        text-align: right;\n",
       "    }\n",
       "</style>\n",
       "<table border=\"1\" class=\"dataframe\">\n",
       "  <thead>\n",
       "    <tr style=\"text-align: right;\">\n",
       "      <th></th>\n",
       "      <th>0</th>\n",
       "      <th>1</th>\n",
       "      <th>2</th>\n",
       "      <th>3</th>\n",
       "      <th>4</th>\n",
       "      <th>5</th>\n",
       "      <th>6</th>\n",
       "      <th>7</th>\n",
       "    </tr>\n",
       "  </thead>\n",
       "  <tbody>\n",
       "    <tr>\n",
       "      <th>0</th>\n",
       "      <td>3000.0</td>\n",
       "      <td>15.0</td>\n",
       "      <td>13.0</td>\n",
       "      <td>22.0</td>\n",
       "      <td>14.0</td>\n",
       "      <td>27.0</td>\n",
       "      <td>10.0</td>\n",
       "      <td>2014.0</td>\n",
       "    </tr>\n",
       "    <tr>\n",
       "      <th>1</th>\n",
       "      <td>2500.0</td>\n",
       "      <td>124.0</td>\n",
       "      <td>13.0</td>\n",
       "      <td>22.0</td>\n",
       "      <td>18.0</td>\n",
       "      <td>19.0</td>\n",
       "      <td>8.0</td>\n",
       "      <td>2015.0</td>\n",
       "    </tr>\n",
       "    <tr>\n",
       "      <th>2</th>\n",
       "      <td>750.0</td>\n",
       "      <td>105.0</td>\n",
       "      <td>5.0</td>\n",
       "      <td>9.0</td>\n",
       "      <td>19.0</td>\n",
       "      <td>29.0</td>\n",
       "      <td>9.0</td>\n",
       "      <td>2015.0</td>\n",
       "    </tr>\n",
       "    <tr>\n",
       "      <th>3</th>\n",
       "      <td>15000.0</td>\n",
       "      <td>91.0</td>\n",
       "      <td>13.0</td>\n",
       "      <td>22.0</td>\n",
       "      <td>18.0</td>\n",
       "      <td>23.0</td>\n",
       "      <td>10.0</td>\n",
       "      <td>2016.0</td>\n",
       "    </tr>\n",
       "    <tr>\n",
       "      <th>4</th>\n",
       "      <td>2000.0</td>\n",
       "      <td>137.0</td>\n",
       "      <td>1.0</td>\n",
       "      <td>3.0</td>\n",
       "      <td>3.0</td>\n",
       "      <td>8.0</td>\n",
       "      <td>3.0</td>\n",
       "      <td>2017.0</td>\n",
       "    </tr>\n",
       "    <tr>\n",
       "      <th>...</th>\n",
       "      <td>...</td>\n",
       "      <td>...</td>\n",
       "      <td>...</td>\n",
       "      <td>...</td>\n",
       "      <td>...</td>\n",
       "      <td>...</td>\n",
       "      <td>...</td>\n",
       "      <td>...</td>\n",
       "    </tr>\n",
       "    <tr>\n",
       "      <th>37581</th>\n",
       "      <td>50000.0</td>\n",
       "      <td>38.0</td>\n",
       "      <td>13.0</td>\n",
       "      <td>22.0</td>\n",
       "      <td>2.0</td>\n",
       "      <td>17.0</td>\n",
       "      <td>9.0</td>\n",
       "      <td>2014.0</td>\n",
       "    </tr>\n",
       "    <tr>\n",
       "      <th>37582</th>\n",
       "      <td>1500.0</td>\n",
       "      <td>92.0</td>\n",
       "      <td>13.0</td>\n",
       "      <td>22.0</td>\n",
       "      <td>3.0</td>\n",
       "      <td>22.0</td>\n",
       "      <td>6.0</td>\n",
       "      <td>2011.0</td>\n",
       "    </tr>\n",
       "    <tr>\n",
       "      <th>37583</th>\n",
       "      <td>15000.0</td>\n",
       "      <td>92.0</td>\n",
       "      <td>13.0</td>\n",
       "      <td>22.0</td>\n",
       "      <td>19.0</td>\n",
       "      <td>1.0</td>\n",
       "      <td>7.0</td>\n",
       "      <td>2010.0</td>\n",
       "    </tr>\n",
       "    <tr>\n",
       "      <th>37584</th>\n",
       "      <td>15000.0</td>\n",
       "      <td>137.0</td>\n",
       "      <td>13.0</td>\n",
       "      <td>22.0</td>\n",
       "      <td>18.0</td>\n",
       "      <td>13.0</td>\n",
       "      <td>1.0</td>\n",
       "      <td>2016.0</td>\n",
       "    </tr>\n",
       "    <tr>\n",
       "      <th>37585</th>\n",
       "      <td>2000.0</td>\n",
       "      <td>97.0</td>\n",
       "      <td>13.0</td>\n",
       "      <td>22.0</td>\n",
       "      <td>9.0</td>\n",
       "      <td>19.0</td>\n",
       "      <td>7.0</td>\n",
       "      <td>2011.0</td>\n",
       "    </tr>\n",
       "  </tbody>\n",
       "</table>\n",
       "<p>37586 rows × 8 columns</p>\n",
       "</div>"
      ],
      "text/plain": [
       "             0      1     2     3     4     5     6       7\n",
       "0       3000.0   15.0  13.0  22.0  14.0  27.0  10.0  2014.0\n",
       "1       2500.0  124.0  13.0  22.0  18.0  19.0   8.0  2015.0\n",
       "2        750.0  105.0   5.0   9.0  19.0  29.0   9.0  2015.0\n",
       "3      15000.0   91.0  13.0  22.0  18.0  23.0  10.0  2016.0\n",
       "4       2000.0  137.0   1.0   3.0   3.0   8.0   3.0  2017.0\n",
       "...        ...    ...   ...   ...   ...   ...   ...     ...\n",
       "37581  50000.0   38.0  13.0  22.0   2.0  17.0   9.0  2014.0\n",
       "37582   1500.0   92.0  13.0  22.0   3.0  22.0   6.0  2011.0\n",
       "37583  15000.0   92.0  13.0  22.0  19.0   1.0   7.0  2010.0\n",
       "37584  15000.0  137.0  13.0  22.0  18.0  13.0   1.0  2016.0\n",
       "37585   2000.0   97.0  13.0  22.0   9.0  19.0   7.0  2011.0\n",
       "\n",
       "[37586 rows x 8 columns]"
      ]
     },
     "execution_count": 13,
     "metadata": {},
     "output_type": "execute_result"
    }
   ],
   "source": [
    "pd.DataFrame(preprocessor.fit_transform(test))"
   ]
  },
  {
   "cell_type": "code",
   "execution_count": 15,
   "metadata": {},
   "outputs": [
    {
     "name": "stdout",
     "output_type": "stream",
     "text": [
      "Test AUC score: 0.6929708493639113\n"
     ]
    }
   ],
   "source": [
    "ypred = model.predict_proba(preprocessor.transform(test))[:,1]\n",
    "\n",
    "print(\"Test AUC score:\", metrics.roc_auc_score(test['outcome'], ypred))"
   ]
  },
  {
   "cell_type": "markdown",
   "metadata": {},
   "source": [
    "# Save End-to-end model"
   ]
  },
  {
   "cell_type": "code",
   "execution_count": 14,
   "metadata": {},
   "outputs": [
    {
     "data": {
      "text/html": [
       "<style>div.sk-top-container {color: black;background-color: white;}div.sk-toggleable {background-color: white;}label.sk-toggleable__label {cursor: pointer;display: block;width: 100%;margin-bottom: 0;padding: 0.2em 0.3em;box-sizing: border-box;text-align: center;}div.sk-toggleable__content {max-height: 0;max-width: 0;overflow: hidden;text-align: left;background-color: #f0f8ff;}div.sk-toggleable__content pre {margin: 0.2em;color: black;border-radius: 0.25em;background-color: #f0f8ff;}input.sk-toggleable__control:checked~div.sk-toggleable__content {max-height: 200px;max-width: 100%;overflow: auto;}div.sk-estimator input.sk-toggleable__control:checked~label.sk-toggleable__label {background-color: #d4ebff;}div.sk-label input.sk-toggleable__control:checked~label.sk-toggleable__label {background-color: #d4ebff;}input.sk-hidden--visually {border: 0;clip: rect(1px 1px 1px 1px);clip: rect(1px, 1px, 1px, 1px);height: 1px;margin: -1px;overflow: hidden;padding: 0;position: absolute;width: 1px;}div.sk-estimator {font-family: monospace;background-color: #f0f8ff;margin: 0.25em 0.25em;border: 1px dotted black;border-radius: 0.25em;box-sizing: border-box;}div.sk-estimator:hover {background-color: #d4ebff;}div.sk-parallel-item::after {content: \"\";width: 100%;border-bottom: 1px solid gray;flex-grow: 1;}div.sk-label:hover label.sk-toggleable__label {background-color: #d4ebff;}div.sk-serial::before {content: \"\";position: absolute;border-left: 1px solid gray;box-sizing: border-box;top: 2em;bottom: 0;left: 50%;}div.sk-serial {display: flex;flex-direction: column;align-items: center;background-color: white;}div.sk-item {z-index: 1;}div.sk-parallel {display: flex;align-items: stretch;justify-content: center;background-color: white;}div.sk-parallel-item {display: flex;flex-direction: column;position: relative;background-color: white;}div.sk-parallel-item:first-child::after {align-self: flex-end;width: 50%;}div.sk-parallel-item:last-child::after {align-self: flex-start;width: 50%;}div.sk-parallel-item:only-child::after {width: 0;}div.sk-dashed-wrapped {border: 1px dashed gray;margin: 0.2em;box-sizing: border-box;padding-bottom: 0.1em;background-color: white;position: relative;}div.sk-label label {font-family: monospace;font-weight: bold;background-color: white;display: inline-block;line-height: 1.2em;}div.sk-label-container {position: relative;z-index: 2;text-align: center;}div.sk-container {display: inline-block;position: relative;}</style><div class=\"sk-top-container\"><div class=\"sk-container\"><div class=\"sk-item sk-dashed-wrapped\"><div class=\"sk-label-container\"><div class=\"sk-label sk-toggleable\"><input class=\"sk-toggleable__control sk-hidden--visually\" id=\"c2593df8-0562-48bf-8429-53ea1a34fb57\" type=\"checkbox\" ><label class=\"sk-toggleable__label\" for=\"c2593df8-0562-48bf-8429-53ea1a34fb57\">Pipeline</label><div class=\"sk-toggleable__content\"><pre>Pipeline(steps=[('preprocessor',\n",
       "                 ColumnTransformer(transformers=[('numeric', DoNothingEncoder(),\n",
       "                                                  ['goal']),\n",
       "                                                 ('categories',\n",
       "                                                  OrdinalEncoder(),\n",
       "                                                  ['category', 'currency',\n",
       "                                                   'country']),\n",
       "                                                 ('date', DateEncoder(),\n",
       "                                                  ['launched'])])),\n",
       "                ('model',\n",
       "                 LGBMClassifier(metric='auc', n_estimators=1000, num_leaves=64,\n",
       "                                objective='binary'))])</pre></div></div></div><div class=\"sk-serial\"><div class=\"sk-item sk-dashed-wrapped\"><div class=\"sk-label-container\"><div class=\"sk-label sk-toggleable\"><input class=\"sk-toggleable__control sk-hidden--visually\" id=\"70ad8c93-defe-4fd5-8361-350889d25df5\" type=\"checkbox\" ><label class=\"sk-toggleable__label\" for=\"70ad8c93-defe-4fd5-8361-350889d25df5\">preprocessor: ColumnTransformer</label><div class=\"sk-toggleable__content\"><pre>ColumnTransformer(transformers=[('numeric', DoNothingEncoder(), ['goal']),\n",
       "                                ('categories', OrdinalEncoder(),\n",
       "                                 ['category', 'currency', 'country']),\n",
       "                                ('date', DateEncoder(), ['launched'])])</pre></div></div></div><div class=\"sk-parallel\"><div class=\"sk-parallel-item\"><div class=\"sk-item\"><div class=\"sk-label-container\"><div class=\"sk-label sk-toggleable\"><input class=\"sk-toggleable__control sk-hidden--visually\" id=\"9d8e79c2-ff84-4c7f-b475-77c1612a1fd4\" type=\"checkbox\" ><label class=\"sk-toggleable__label\" for=\"9d8e79c2-ff84-4c7f-b475-77c1612a1fd4\">numeric</label><div class=\"sk-toggleable__content\"><pre>['goal']</pre></div></div></div><div class=\"sk-serial\"><div class=\"sk-item\"><div class=\"sk-estimator sk-toggleable\"><input class=\"sk-toggleable__control sk-hidden--visually\" id=\"10709279-d45a-4271-a028-def4310af246\" type=\"checkbox\" ><label class=\"sk-toggleable__label\" for=\"10709279-d45a-4271-a028-def4310af246\">DoNothingEncoder</label><div class=\"sk-toggleable__content\"><pre>DoNothingEncoder()</pre></div></div></div></div></div></div><div class=\"sk-parallel-item\"><div class=\"sk-item\"><div class=\"sk-label-container\"><div class=\"sk-label sk-toggleable\"><input class=\"sk-toggleable__control sk-hidden--visually\" id=\"7b81e85b-17bb-4052-8e6b-7c5b145c1c4d\" type=\"checkbox\" ><label class=\"sk-toggleable__label\" for=\"7b81e85b-17bb-4052-8e6b-7c5b145c1c4d\">categories</label><div class=\"sk-toggleable__content\"><pre>['category', 'currency', 'country']</pre></div></div></div><div class=\"sk-serial\"><div class=\"sk-item\"><div class=\"sk-estimator sk-toggleable\"><input class=\"sk-toggleable__control sk-hidden--visually\" id=\"0eea6e5f-134f-44ef-a2ee-61b828c5131e\" type=\"checkbox\" ><label class=\"sk-toggleable__label\" for=\"0eea6e5f-134f-44ef-a2ee-61b828c5131e\">OrdinalEncoder</label><div class=\"sk-toggleable__content\"><pre>OrdinalEncoder()</pre></div></div></div></div></div></div><div class=\"sk-parallel-item\"><div class=\"sk-item\"><div class=\"sk-label-container\"><div class=\"sk-label sk-toggleable\"><input class=\"sk-toggleable__control sk-hidden--visually\" id=\"b3daedcf-31be-4d7f-9b47-09cd8e3a0957\" type=\"checkbox\" ><label class=\"sk-toggleable__label\" for=\"b3daedcf-31be-4d7f-9b47-09cd8e3a0957\">date</label><div class=\"sk-toggleable__content\"><pre>['launched']</pre></div></div></div><div class=\"sk-serial\"><div class=\"sk-item\"><div class=\"sk-estimator sk-toggleable\"><input class=\"sk-toggleable__control sk-hidden--visually\" id=\"6dcf57a5-ea90-4906-953c-e69683126637\" type=\"checkbox\" ><label class=\"sk-toggleable__label\" for=\"6dcf57a5-ea90-4906-953c-e69683126637\">DateEncoder</label><div class=\"sk-toggleable__content\"><pre>DateEncoder()</pre></div></div></div></div></div></div></div></div><div class=\"sk-item\"><div class=\"sk-estimator sk-toggleable\"><input class=\"sk-toggleable__control sk-hidden--visually\" id=\"9da83861-8b27-4f9e-a1e5-55fe42c58ac5\" type=\"checkbox\" ><label class=\"sk-toggleable__label\" for=\"9da83861-8b27-4f9e-a1e5-55fe42c58ac5\">LGBMClassifier</label><div class=\"sk-toggleable__content\"><pre>LGBMClassifier(metric='auc', n_estimators=1000, num_leaves=64,\n",
       "               objective='binary')</pre></div></div></div></div></div></div></div>"
      ],
      "text/plain": [
       "Pipeline(steps=[('preprocessor',\n",
       "                 ColumnTransformer(transformers=[('numeric', DoNothingEncoder(),\n",
       "                                                  ['goal']),\n",
       "                                                 ('categories',\n",
       "                                                  OrdinalEncoder(),\n",
       "                                                  ['category', 'currency',\n",
       "                                                   'country']),\n",
       "                                                 ('date', DateEncoder(),\n",
       "                                                  ['launched'])])),\n",
       "                ('model',\n",
       "                 LGBMClassifier(metric='auc', n_estimators=1000, num_leaves=64,\n",
       "                                objective='binary'))])"
      ]
     },
     "execution_count": 14,
     "metadata": {},
     "output_type": "execute_result"
    }
   ],
   "source": [
    "full_model = pipeline.Pipeline([('preprocessor', preprocessor), ('model', model)])\n",
    "full_model"
   ]
  },
  {
   "cell_type": "markdown",
   "metadata": {
    "papermill": {
     "duration": 0.015544,
     "end_time": "2020-10-01T00:25:01.873109",
     "exception": false,
     "start_time": "2020-10-01T00:25:01.857565",
     "status": "completed"
    },
    "tags": []
   },
   "source": [
    "# Your Turn\n",
    "Now you'll **[build your own baseline model](https://www.kaggle.com/kernels/fork/5407496)** which you can improve with feature engineering techniques as you go through the course.\n"
   ]
  }
 ],
 "metadata": {
  "kernelspec": {
   "display_name": "Python 3",
   "language": "python",
   "name": "python3"
  },
  "language_info": {
   "codemirror_mode": {
    "name": "ipython",
    "version": 3
   },
   "file_extension": ".py",
   "mimetype": "text/x-python",
   "name": "python",
   "nbconvert_exporter": "python",
   "pygments_lexer": "ipython3",
   "version": "3.9.1"
  },
  "papermill": {
   "duration": 12.120125,
   "end_time": "2020-10-01T00:25:02.028087",
   "environment_variables": {},
   "exception": null,
   "input_path": "__notebook__.ipynb",
   "output_path": "__notebook__.ipynb",
   "parameters": {},
   "start_time": "2020-10-01T00:24:49.907962",
   "version": "2.1.0"
  }
 },
 "nbformat": 4,
 "nbformat_minor": 2
}
