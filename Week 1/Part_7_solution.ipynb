{
 "cells": [
  {
   "cell_type": "markdown",
   "metadata": {},
   "source": [
    "## Exercises"
   ]
  },
  {
   "cell_type": "markdown",
   "metadata": {},
   "source": [
    "### Exercise 11.1"
   ]
  },
  {
   "cell_type": "markdown",
   "metadata": {},
   "source": [
    "Write a program that reads the contents of the file \"`blakepoems.txt`\", splits it into words (where everything that is not a letter is considered a word boundary), and case-insensitively builds a dictionary that stores for every word how often it occurs in the text. Then print all the words with their quantities in alphabetical order."
   ]
  },
  {
   "cell_type": "code",
   "execution_count": 46,
   "metadata": {},
   "outputs": [],
   "source": [
    "# Counting words in blakepoems.txt.\n",
    "#fp = open( \"blakepoems.txt\")\n",
    "\n"
   ]
  },
  {
   "cell_type": "markdown",
   "metadata": {},
   "source": [
    "### Solution: Exercise 11.1"
   ]
  },
  {
   "cell_type": "code",
   "execution_count": 47,
   "metadata": {},
   "outputs": [],
   "source": [
    "import re\n",
    "\n",
    "def word_counter(filepath):\n",
    "    \n",
    "    '''\n",
    "    word_counter(filepath):\n",
    "\n",
    "    reads a file and returns a dictionary of \n",
    "    words as keys and \n",
    "    word counts as values\n",
    "    sorted alphabetically\n",
    "    \n",
    "    arguments:\n",
    "    text: a filepath  \n",
    "    \n",
    "    '''\n",
    "    \n",
    "    # intitiate an empty dictionary\n",
    "    word_dict = {}\n",
    "    \n",
    "    # open file\n",
    "    with open(filepath) as file:\n",
    "        \n",
    "        # read each line\n",
    "        lines = file.readlines()\n",
    "        \n",
    "        # iterate through each line\n",
    "        for line in lines:\n",
    "            \n",
    "            # find all word character from each line and assign to variable words\n",
    "            words = re.findall(r\"\\w+\", line)\n",
    "            \n",
    "            # iterate through and convert each word in words to lower case \n",
    "            for word in words:\n",
    "                word = word.lower()\n",
    "                \n",
    "                # if word is already in the dictionary of words, add 1\n",
    "                if word in word_dict:\n",
    "                    word_dict[word] += 1\n",
    "                    \n",
    "                # otherwise, add word to dict and initialise to 1\n",
    "                else:\n",
    "                    word_dict[word] = 1\n",
    "\n",
    "    # return sorted word dictionary alphabetically\n",
    "    return dict(sorted(word_dict.items(), key=lambda item: item[0]))\n"
   ]
  },
  {
   "cell_type": "code",
   "execution_count": 50,
   "metadata": {},
   "outputs": [],
   "source": [
    "# uncomment below to test function\n",
    "\n",
    "#word_counter('./text-files/blakepoems.txt')"
   ]
  },
  {
   "cell_type": "code",
   "execution_count": null,
   "metadata": {},
   "outputs": [],
   "source": []
  },
  {
   "cell_type": "markdown",
   "metadata": {},
   "source": [
    "### Exercise 11.2"
   ]
  },
  {
   "cell_type": "markdown",
   "metadata": {},
   "source": [
    "Do the same thing as you did for the previous exercise, but now process the text line by line. This is something that you would have to do if you had to process a very long text (as it is the case)."
   ]
  },
  {
   "cell_type": "code",
   "execution_count": null,
   "metadata": {},
   "outputs": [],
   "source": []
  },
  {
   "cell_type": "markdown",
   "metadata": {},
   "source": [
    "### Solution: Exercise 11.2"
   ]
  },
  {
   "cell_type": "code",
   "execution_count": 51,
   "metadata": {},
   "outputs": [],
   "source": [
    "from collections import Counter\n",
    "import re\n",
    "\n",
    "def word_counter_by_line(filepath):\n",
    "    \n",
    "    '''\n",
    "    word_counter_by_line(filepath):\n",
    "\n",
    "    reads a file and returns a dictionary of \n",
    "    words as keys and \n",
    "    word counts as values\n",
    "    sorted alphabetically\n",
    "    \n",
    "    arguments:\n",
    "    text: a filepath  \n",
    "    \n",
    "    '''\n",
    "    \n",
    "    # intitiate an empty dictionary\n",
    "    word_dict_by_line = {}\n",
    "    \n",
    "    # open file\n",
    "    with open(filepath) as file:\n",
    "        \n",
    "        # read each line\n",
    "        lines = file.readlines()\n",
    "        \n",
    "        # iterate through each line\n",
    "        for line in lines:\n",
    "            \n",
    "            # check if line is not whitespace....\n",
    "            if line != '\\n':\n",
    "                \n",
    "            # ....find list of all words from each non-whitespace line and assign to variable words\n",
    "                words = re.findall(r\"\\w+\", line)\n",
    "\n",
    "                # get the words and word counts for each line \n",
    "                words_count_by_line = Counter(words)\n",
    "                \n",
    "                # add words and counts of every line to dictionary \n",
    "                word_dict_by_line[f'line {lines.index(line)+1}'] = dict(words_count_by_line)\n",
    "\n",
    "    # return sorted word dictionary alphabetically\n",
    "    return word_dict_by_line\n",
    "            "
   ]
  },
  {
   "cell_type": "code",
   "execution_count": null,
   "metadata": {},
   "outputs": [],
   "source": []
  },
  {
   "cell_type": "code",
   "execution_count": 45,
   "metadata": {},
   "outputs": [],
   "source": [
    "\n",
    "# uncomment below to test function\n",
    "\n",
    "#word_counter_by_line('./text-files/blakepoems.txt')"
   ]
  }
 ],
 "metadata": {
  "kernelspec": {
   "display_name": "Python 3.8.3 64-bit",
   "language": "python",
   "name": "python38364bite05022d49ac04348a6f39d27ab40de1e"
  },
  "language_info": {
   "codemirror_mode": {
    "name": "ipython",
    "version": 3
   },
   "file_extension": ".py",
   "mimetype": "text/x-python",
   "name": "python",
   "nbconvert_exporter": "python",
   "pygments_lexer": "ipython3",
   "version": "3.8.3"
  }
 },
 "nbformat": 4,
 "nbformat_minor": 4
}
