{
 "cells": [
  {
   "cell_type": "markdown",
   "metadata": {},
   "source": [
    "# AI Engineering Python Exam\n",
    "\n",
    "\n",
    "Dear Applicant, \n",
    "\n",
    "As a next step, we would like to invite you to answer some technical questions before the interview in order to make sure the technical requirements for the course are meet. Having candidates which meet this criteria is essential in order to deliver on the promice of you all getting a good job position after this one finishes.\n",
    "\n",
    "In this assignment you will complete a Jupyter notebook (`01_Python_test_NAME_SURNAME.ipynb` file) with a number of function definitions. Do **not** submit a python file or any other format. Independently of your working environment, copy the final code and results in the notebook. \n",
    "\n",
    "## Instructions \n",
    "\n",
    " - The estimated duration of the assignment is **1h approx**. If it is your first time with Python, maybe a bit more. \n",
    " - You will see that not all the instructions are given to complete an exercise. Show us how you tackle uncertain problems ;)\n",
    " - Make sure to replicate the expected results in your own code cell, feel free to add extra cases. \n",
    "\n",
    "### A comment on Honesty and Copying\n",
    "\n",
    "This is an individual assignment. You **are** allowed to look up specific coding syntax questions and answers on Stack Overflow and similar websites and adapt them, but you **are not allowed to copy and paste entire solutions** into your submission. As a rule of thumb, do not copy and paste from the internet anything larger than one line of code into your submission.\n",
    "\n",
    "We receive hundreds of admission tests and **run automated testing to identify similar code**. If you cheat, not only will you get caught, but you are not the type of person that would finish the course in the first place. We are looking for people that can learn and improve on a daily basis. \n",
    "\n",
    "\n",
    "# Tasks\n",
    "\n",
    "## Task 0 (example)\n",
    "\n",
    "Define the function ``average`` which takes an array of numbers and returns\n",
    "the arithmetic mean of them. The function should work like this:"
   ]
  },
  {
   "cell_type": "code",
   "execution_count": 2,
   "metadata": {},
   "outputs": [
    {
     "name": "stdout",
     "output_type": "stream",
     "text": [
      "2.0\n",
      "1.0\n"
     ]
    }
   ],
   "source": [
    "import numpy\n",
    "a = numpy.array([1.0, 2.0, 3.0])\n",
    "b = numpy.ones((2,3))\n",
    "print(average(a))\n",
    "print(average(b))"
   ]
  },
  {
   "cell_type": "markdown",
   "metadata": {},
   "source": [
    "### Solution:    "
   ]
  },
  {
   "cell_type": "code",
   "execution_count": 1,
   "metadata": {},
   "outputs": [],
   "source": [
    "def average(x):\n",
    "      return x.mean()"
   ]
  },
  {
   "cell_type": "code",
   "execution_count": 3,
   "metadata": {},
   "outputs": [
    {
     "name": "stdout",
     "output_type": "stream",
     "text": [
      "2.0\n",
      "1.0\n"
     ]
    }
   ],
   "source": [
    "# Now we can re-run the code\n",
    "print(average(a))\n",
    "print(average(b))"
   ]
  },
  {
   "cell_type": "markdown",
   "metadata": {},
   "source": [
    "## Task 1\n",
    "\n",
    "Write a function ``cashier`` that classifies a given amount of money, **specified in cents**, as greater monetary units. Your code lists the monetary equivalent in dollars (100 ct), quarters (25 ct), dimes (10 ct), nickels (5 ct), and pennies (1 ct). Your program should report the maximum number of dollars that fit in the amount, then the maximum number of quarters that fit in the remainder after you subtract the dollars, then the maximum number of dimes that fit in the remainder, and store all this information into a dictionary.\n",
    "\n",
    "Please complete the definition of the function. Here is what you can assume about this function:\n",
    "* The input parameter `amount` is a non-negative int value. \n",
    "* The function `cashier` must return a dictionary with the following structure:<br>\n",
    "  {\n",
    "      'dollars': dollars_count,\n",
    "      'quarters': quarters_count,\n",
    "      'dimes': dimes_count,\n",
    "      'nickels': nickels_count,\n",
    "      'pennies': pennies_count\n",
    "  }\n",
    "\n",
    "### Expected results:"
   ]
  },
  {
   "cell_type": "code",
   "execution_count": 5,
   "metadata": {},
   "outputs": [
    {
     "data": {
      "text/plain": [
       "{'dollars': 11, 'quarters': 2, 'dimes': 0, 'nickels': 1, 'pennies': 1}"
      ]
     },
     "execution_count": 5,
     "metadata": {},
     "output_type": "execute_result"
    }
   ],
   "source": [
    "cashier(1156)"
   ]
  },
  {
   "cell_type": "markdown",
   "metadata": {},
   "source": [
    "### Your turn 👩‍💻🚀👨‍💻"
   ]
  },
  {
   "cell_type": "code",
   "execution_count": 399,
   "metadata": {},
   "outputs": [],
   "source": [
    "# Write your code in this cell:\n",
    "def cashier(amount):\n",
    "    denominations = [100, 25,10,5,1]\n",
    "    coin_name = ['dollars','quarters','dimes','nickels','pennies']\n",
    "    diction = {}.fromkeys(coin_name,0)\n",
    "    counts = []\n",
    "    for d in denominations:\n",
    "        counts.append(amount//d)\n",
    "    #     print('count :: ', counts)\n",
    "        amount = amount % d\n",
    "    #     print('amount::',amount)\n",
    "    diction.update((zip(diction, counts)))\n",
    "    return(diction)    "
   ]
  },
  {
   "cell_type": "code",
   "execution_count": 402,
   "metadata": {},
   "outputs": [
    {
     "data": {
      "text/plain": [
       "{'dollars': 11, 'quarters': 2, 'dimes': 0, 'nickels': 1, 'pennies': 4}"
      ]
     },
     "execution_count": 402,
     "metadata": {},
     "output_type": "execute_result"
    }
   ],
   "source": [
    "cashier(1159)"
   ]
  },
  {
   "cell_type": "code",
   "execution_count": null,
   "metadata": {},
   "outputs": [],
   "source": [
    "      "
   ]
  },
  {
   "cell_type": "code",
   "execution_count": 397,
   "metadata": {},
   "outputs": [],
   "source": [
    "def cashier_2(amount):\n",
    "    coins = [(100, 'dollar'),(25, 'quarter'), (10, 'dime'), (5, 'nickel'), (1, 'penny')]\n",
    "    answer = {}\n",
    "    for coin_value, coin_name in coins:\n",
    "        if amount >= coin_value:\n",
    "            number_coin, amount = divmod(amount, coin_value)\n",
    "            answer[coin_name] = number_coin\n",
    "        else: answer[coin_name]=0\n",
    "    return answer"
   ]
  },
  {
   "cell_type": "code",
   "execution_count": 398,
   "metadata": {},
   "outputs": [
    {
     "data": {
      "text/plain": [
       "{'dollar': 11, 'quarter': 2, 'dime': 0, 'nickel': 1, 'penny': 1}"
      ]
     },
     "execution_count": 398,
     "metadata": {},
     "output_type": "execute_result"
    }
   ],
   "source": [
    "cashier_2(1156)"
   ]
  },
  {
   "cell_type": "markdown",
   "metadata": {},
   "source": [
    "## Task 2\n",
    "\n",
    "Grades are values between zero and 10 (both zero and 10 included), and are always rounded to the nearest half point. To translate grades to the American style, 8.5 to 10 become an \"A\", 7.5 and 8 become a \"B\", 6.5 and 7 become a \"C\", 5.5 and 6 become a \"D\", and other grades become an \"F\".\n",
    "\n",
    "Write a function `convert_grades` that implements this translation and returns the American translation of the value in the parameter grade. If grade is lower than zero or higher than 10, the function throws an error with the message \"Grades must be values between 0 and 10.\". In the case of input grades that do not end in .0 or .5, you first need to round the grade to the nearest half point.\n",
    "\n",
    "Please complete the definition of the function. Here is what you can assume about this function:\n",
    "* The input parameter `grade` is a float value between 0 and 10 (both included). \n",
    "* The function `convert_grades` must return a char with the correct grade, in case of a valid input, or it must raise an exception in case of not valid input.\n",
    "\n",
    "### Expected results:"
   ]
  },
  {
   "cell_type": "code",
   "execution_count": 3,
   "metadata": {},
   "outputs": [
    {
     "data": {
      "text/plain": [
       "'A'"
      ]
     },
     "execution_count": 3,
     "metadata": {},
     "output_type": "execute_result"
    }
   ],
   "source": [
    "convert_grades(9.0)"
   ]
  },
  {
   "cell_type": "code",
   "execution_count": 4,
   "metadata": {},
   "outputs": [
    {
     "data": {
      "text/plain": [
       "'B'"
      ]
     },
     "execution_count": 4,
     "metadata": {},
     "output_type": "execute_result"
    }
   ],
   "source": [
    "convert_grades(7.7)"
   ]
  },
  {
   "cell_type": "code",
   "execution_count": 5,
   "metadata": {},
   "outputs": [
    {
     "ename": "Exception",
     "evalue": "Grades must be values between 0 and 10.",
     "output_type": "error",
     "traceback": [
      "\u001b[0;31m---------------------------------------------------------------------------\u001b[0m",
      "\u001b[0;31mException\u001b[0m                                 Traceback (most recent call last)",
      "\u001b[0;32m<ipython-input-15-d57efcc5ce06>\u001b[0m in \u001b[0;36m<module>\u001b[0;34m\u001b[0m\n\u001b[0;32m----> 1\u001b[0;31m \u001b[0mconvert_grades\u001b[0m\u001b[0;34m(\u001b[0m\u001b[0;36m11.5\u001b[0m\u001b[0;34m)\u001b[0m\u001b[0;34m\u001b[0m\u001b[0;34m\u001b[0m\u001b[0m\n\u001b[0m",
      "\u001b[0;32m<ipython-input-14-eb84997bff8d>\u001b[0m in \u001b[0;36mconvert_grades\u001b[0;34m(n)\u001b[0m\n\u001b[1;32m      1\u001b[0m \u001b[0;32mdef\u001b[0m \u001b[0mconvert_grades\u001b[0m\u001b[0;34m(\u001b[0m\u001b[0mn\u001b[0m\u001b[0;34m)\u001b[0m\u001b[0;34m:\u001b[0m\u001b[0;34m\u001b[0m\u001b[0;34m\u001b[0m\u001b[0m\n\u001b[0;32m----> 2\u001b[0;31m     \u001b[0;32mraise\u001b[0m \u001b[0mException\u001b[0m\u001b[0;34m(\u001b[0m\u001b[0;34m'Grades must be values between 0 and 10.'\u001b[0m\u001b[0;34m)\u001b[0m\u001b[0;34m\u001b[0m\u001b[0;34m\u001b[0m\u001b[0m\n\u001b[0m",
      "\u001b[0;31mException\u001b[0m: Grades must be values between 0 and 10."
     ]
    }
   ],
   "source": [
    "convert_grades(11.5)"
   ]
  },
  {
   "cell_type": "markdown",
   "metadata": {},
   "source": [
    "### Your turn 👩‍💻🚀👨‍💻"
   ]
  },
  {
   "cell_type": "code",
   "execution_count": 337,
   "metadata": {},
   "outputs": [],
   "source": [
    "# Write your code in this cell:\n",
    "def convert_grades(n):\n",
    "    n=round(n,1)\n",
    "    if n<0 or n>10: raise Exception(\"Grades must be values between 0 and 10.\")\n",
    "    elif 10>=n>=8.5: return 'A'\n",
    "    elif n>=7.5: return 'B'\n",
    "    elif n>=6.5: return 'C'\n",
    "    elif n>=5.5: return 'D'\n",
    "    else: return 'F'               "
   ]
  },
  {
   "cell_type": "code",
   "execution_count": 339,
   "metadata": {},
   "outputs": [
    {
     "ename": "Exception",
     "evalue": "Grades must be values between 0 and 10.",
     "output_type": "error",
     "traceback": [
      "\u001b[1;31m---------------------------------------------------------------------------\u001b[0m",
      "\u001b[1;31mException\u001b[0m                                 Traceback (most recent call last)",
      "\u001b[1;32m<ipython-input-339-1b363050cd7f>\u001b[0m in \u001b[0;36m<module>\u001b[1;34m\u001b[0m\n\u001b[1;32m----> 1\u001b[1;33m \u001b[0mconvert_grades\u001b[0m\u001b[1;33m(\u001b[0m\u001b[1;36m10.0715\u001b[0m\u001b[1;33m)\u001b[0m\u001b[1;33m\u001b[0m\u001b[1;33m\u001b[0m\u001b[0m\n\u001b[0m",
      "\u001b[1;32m<ipython-input-337-1b2bf7a939f3>\u001b[0m in \u001b[0;36mconvert_grades\u001b[1;34m(n)\u001b[0m\n\u001b[0;32m      2\u001b[0m \u001b[1;32mdef\u001b[0m \u001b[0mconvert_grades\u001b[0m\u001b[1;33m(\u001b[0m\u001b[0mn\u001b[0m\u001b[1;33m)\u001b[0m\u001b[1;33m:\u001b[0m\u001b[1;33m\u001b[0m\u001b[1;33m\u001b[0m\u001b[0m\n\u001b[0;32m      3\u001b[0m     \u001b[0mn\u001b[0m\u001b[1;33m=\u001b[0m\u001b[0mround\u001b[0m\u001b[1;33m(\u001b[0m\u001b[0mn\u001b[0m\u001b[1;33m,\u001b[0m\u001b[1;36m1\u001b[0m\u001b[1;33m)\u001b[0m\u001b[1;33m\u001b[0m\u001b[1;33m\u001b[0m\u001b[0m\n\u001b[1;32m----> 4\u001b[1;33m     \u001b[1;32mif\u001b[0m \u001b[0mn\u001b[0m\u001b[1;33m<\u001b[0m\u001b[1;36m0\u001b[0m \u001b[1;32mor\u001b[0m \u001b[0mn\u001b[0m\u001b[1;33m>\u001b[0m\u001b[1;36m10\u001b[0m\u001b[1;33m:\u001b[0m \u001b[1;32mraise\u001b[0m \u001b[0mException\u001b[0m\u001b[1;33m(\u001b[0m\u001b[1;34m\"Grades must be values between 0 and 10.\"\u001b[0m\u001b[1;33m)\u001b[0m\u001b[1;33m\u001b[0m\u001b[1;33m\u001b[0m\u001b[0m\n\u001b[0m\u001b[0;32m      5\u001b[0m     \u001b[1;32melif\u001b[0m \u001b[1;36m10\u001b[0m\u001b[1;33m>=\u001b[0m\u001b[0mn\u001b[0m\u001b[1;33m>=\u001b[0m\u001b[1;36m8.5\u001b[0m\u001b[1;33m:\u001b[0m \u001b[1;32mreturn\u001b[0m \u001b[1;34m'A'\u001b[0m\u001b[1;33m\u001b[0m\u001b[1;33m\u001b[0m\u001b[0m\n\u001b[0;32m      6\u001b[0m     \u001b[1;32melif\u001b[0m \u001b[0mn\u001b[0m\u001b[1;33m>=\u001b[0m\u001b[1;36m7.5\u001b[0m\u001b[1;33m:\u001b[0m \u001b[1;32mreturn\u001b[0m \u001b[1;34m'B'\u001b[0m\u001b[1;33m\u001b[0m\u001b[1;33m\u001b[0m\u001b[0m\n",
      "\u001b[1;31mException\u001b[0m: Grades must be values between 0 and 10."
     ]
    }
   ],
   "source": [
    "convert_grades(10.0715)"
   ]
  },
  {
   "cell_type": "markdown",
   "metadata": {},
   "source": [
    "## Task 3\n",
    "\n",
    "Define a function `count_vowels` that receives a string parameter, and returns an integer indicating how many different vowels there are in the string. The capital version of a lower case vowel is considered to be the same vowel. y is not considered a vowel. For example, for the string \"Michael Palin\", the function should return  a dictionary with the count for each of the different vowels.\n",
    "\n",
    "Please complete the definition of the function. Here is what you can assume about this function:\n",
    "* The input parameter `text` is a string text. \n",
    "* The function `count_vowels` must return an dictionary with each different vowel and its counts in the input text.\n",
    "\n",
    "### Expected results:"
   ]
  },
  {
   "cell_type": "code",
   "execution_count": 3,
   "metadata": {},
   "outputs": [
    {
     "name": "stdout",
     "output_type": "stream",
     "text": [
      "{'a': 2, 'e': 1, 'i': 2, 'o': 0, 'u': 0}\n"
     ]
    }
   ],
   "source": [
    "count_vowels(\"Michael Palin\")"
   ]
  },
  {
   "cell_type": "markdown",
   "metadata": {},
   "source": [
    "### Your turn 👩‍💻🚀👨‍💻"
   ]
  },
  {
   "cell_type": "code",
   "execution_count": 151,
   "metadata": {},
   "outputs": [
    {
     "data": {
      "text/plain": [
       "{'a': 2, 'e': 1, 'i': 2, 'o': 0, 'u': 0}"
      ]
     },
     "execution_count": 151,
     "metadata": {},
     "output_type": "execute_result"
    }
   ],
   "source": [
    "# Write your code in this cell:\n",
    "def count_vowels(text):\n",
    "    vow = 'aeiou'\n",
    "    dic_vow = {}.fromkeys(vow,0)\n",
    "    for i in text:\n",
    "        if i in vow:\n",
    "            dic_vow[i] += 1\n",
    "    return dic_vow\n",
    "count_vowels('Michael Palin')"
   ]
  },
  {
   "cell_type": "markdown",
   "metadata": {},
   "source": [
    "## Task 4\n",
    "A prime number is a positive integer that is dividable by exactly two different numbers, namely 1 and itself. The lowest (and only even) prime number is 2. The first 10 prime numbers are 2, 3, 5, 7, 11, 13, 17, 19, 23, and 29. Write a function that returns True if its parameter is a prime number, and False otherwise. Hint: In a loop where you test the possible dividers of the number, you can conclude that the number is not prime as soon as you encounter a number other than 1 or the number itself that divides it. However, you can only conclude that it actually is prime after you have tested all possible dividers.\n",
    "\n",
    "Please complete the definition of the function. Here is what you can assume about this function:\n",
    "* The input parameter `number` is a positive int. \n",
    "* The function `is_prime` must return the boolean value `True` if the parameter is a prime number, and the boolean value `False` otherwise.\n",
    "\n",
    "### Expected results:"
   ]
  },
  {
   "cell_type": "code",
   "execution_count": 7,
   "metadata": {},
   "outputs": [
    {
     "data": {
      "text/plain": [
       "True"
      ]
     },
     "execution_count": 7,
     "metadata": {},
     "output_type": "execute_result"
    }
   ],
   "source": [
    "is_prime(29)"
   ]
  },
  {
   "cell_type": "code",
   "execution_count": 8,
   "metadata": {},
   "outputs": [
    {
     "data": {
      "text/plain": [
       "False"
      ]
     },
     "execution_count": 8,
     "metadata": {},
     "output_type": "execute_result"
    }
   ],
   "source": [
    "is_prime(15)"
   ]
  },
  {
   "cell_type": "markdown",
   "metadata": {},
   "source": [
    "### Your turn 👩‍💻🚀👨‍💻"
   ]
  },
  {
   "cell_type": "code",
   "execution_count": 126,
   "metadata": {},
   "outputs": [
    {
     "name": "stdout",
     "output_type": "stream",
     "text": [
      "True\n",
      "False\n"
     ]
    }
   ],
   "source": [
    "# Write your code in this cell:\n",
    "\n",
    "def is_prime(n):\n",
    "    count = 0\n",
    "    if n <= 1:\n",
    "        return False\n",
    "    for i in range(1, n+1):\n",
    "        if n%i == 0:\n",
    "            count += 1\n",
    "            if count > 2:\n",
    "                return False\n",
    "    else: return True\n",
    "    \n",
    "print(is_prime(29))\n",
    "print(is_prime(1111))"
   ]
  },
  {
   "cell_type": "markdown",
   "metadata": {},
   "source": [
    "## Task 5 \n",
    "\n",
    "Write a program that takes a text as input, splits it into words (where everything that is not a letter is considered a word boundary), and case-insensitively builds a dictionary that stores for every word how often it occurs in the text. Then return the dictionary containing all the words with their quantities sorted in alphabetical order.\n",
    "\n",
    "Please complete the definition of the function. Here is what you can assume about this function:<br>\n",
    "* The input parameter `text` is a string text.\n",
    "* The function `count_words` as a dictionary of all the words with their quantities. \n",
    "\n",
    "### Expected results:"
   ]
  },
  {
   "cell_type": "code",
   "execution_count": 10,
   "metadata": {},
   "outputs": [],
   "source": [
    "text = \"\"\"How much wood would a woodchuck chuck\n",
    "If a woodchuck could chuck wood?\n",
    "He would chuck, he would, as much as he could,\n",
    "And chuck as much as a woodchuck would\n",
    "If a woodchuck could chuck wood.\"\"\"\n",
    "\n",
    "def count_words(text):\n",
    "    \"\"\"Build a dictionary showing how many words each word exists in a text\"\"\""
   ]
  },
  {
   "cell_type": "code",
   "execution_count": 11,
   "metadata": {},
   "outputs": [
    {
     "data": {
      "text/plain": [
       "{'a': 4,\n",
       " 'and': 1,\n",
       " 'as': 4,\n",
       " 'chuck': 5,\n",
       " 'could': 3,\n",
       " 'he': 3,\n",
       " 'how': 1,\n",
       " 'if': 2,\n",
       " 'much': 3,\n",
       " 'wood': 3,\n",
       " 'woodchuck': 4,\n",
       " 'would': 4}"
      ]
     },
     "execution_count": 11,
     "metadata": {},
     "output_type": "execute_result"
    }
   ],
   "source": [
    "count_words(text)"
   ]
  },
  {
   "cell_type": "markdown",
   "metadata": {},
   "source": [
    "\n",
    "### Your turn 👩‍💻🚀👨‍💻"
   ]
  },
  {
   "cell_type": "code",
   "execution_count": 115,
   "metadata": {},
   "outputs": [
    {
     "data": {
      "text/plain": [
       "{'a': 4,\n",
       " 'and': 1,\n",
       " 'as': 4,\n",
       " 'chuck': 5,\n",
       " 'could': 3,\n",
       " 'he': 3,\n",
       " 'how': 1,\n",
       " 'if': 2,\n",
       " 'much': 3,\n",
       " 'wood': 3,\n",
       " 'woodchuck': 4,\n",
       " 'would': 4}"
      ]
     },
     "execution_count": 115,
     "metadata": {},
     "output_type": "execute_result"
    }
   ],
   "source": [
    "text = \"\"\"How much wood would a woodchuck chuck\n",
    "If a woodchuck could chuck wood?\n",
    "He would chuck, he would, as much as he could,\n",
    "And chuck as much as a woodchuck would\n",
    "If a woodchuck could chuck wood.\"\"\"\n",
    "# Write your code in this cell:\n",
    "def count_words(text):\n",
    "    text = text.lower()\n",
    "    text = text.split()\n",
    "    \n",
    "    count_words_0={}\n",
    "    \n",
    "    for i in text: \n",
    "        simple_line = i.replace(',','').replace('?','').replace('.','').lower().split()\n",
    "        for j in simple_line:\n",
    "            if j not in count_words_0:\n",
    "                count_words_0[j] = 1\n",
    "            else: count_words_0[j] += 1\n",
    "\n",
    "    sort_alpha = dict(sorted(count_words_0.items(), key=lambda x: x[0].lower()) )\n",
    "    b = dict(sort_alpha)\n",
    "    return b\n",
    "\n",
    "count_words(text)"
   ]
  },
  {
   "cell_type": "markdown",
   "metadata": {},
   "source": [
    "## Task 6\n",
    "\n",
    "Awesome! Can you do the same but with a program that takes a file as an input?\n",
    "\n",
    "Write a program that takes a file.txt as input, **reads it**, splits it into words (where everything that is not a letter is considered a word boundary), and case-insensitively builds a dictionary that stores for every word how often it occurs in the text. Then return the dictionary containing all the words with their quantities sorted in alphabetical order.\n",
    "\n",
    "Please complete the definition of the function. Here is what you can assume about this function:<br>\n",
    "* The input parameter `file` is a file.txt.\n",
    "* A main function\n",
    "* Inside the main function, a function defined as `readfile`, which reads **line by line** each of the lines in the text. \n",
    "* The function `count_words` as a dictionary of all the words with their quantities. \n",
    "* The final result is a list of tuples containing the dictionary pairs (keys and values) of all the words with their quantities sorted in the **higher frequency of occurrence**. *Note that sorting it will prove to be an additional challenge.*\n",
    "\n",
    "\n",
    "### Expected structure:"
   ]
  },
  {
   "cell_type": "code",
   "execution_count": null,
   "metadata": {
    "scrolled": true
   },
   "outputs": [],
   "source": [
    "import coder.txt\n",
    "\n",
    "def readfile(txt)\n",
    "    return\n",
    "\n",
    "def countwords(line)\n",
    "    return\n",
    "\n",
    "def main()\n",
    "    readfile(txt)\n",
    "        countwords(line)\n",
    "    if __name__== \"__main__\" :\n",
    "main()"
   ]
  },
  {
   "cell_type": "markdown",
   "metadata": {},
   "source": [
    "### Example of **final result**:\n",
    "Same as the last exercise, just in a list(tuple) **and sorted by frequency**\n",
    "\n",
    "[('code', 7), >>> ... >>> ('a',4) >>> ... >>> ('from',1)]"
   ]
  },
  {
   "cell_type": "markdown",
   "metadata": {},
   "source": [
    "### Your turn 👩‍💻🚀👨‍💻"
   ]
  },
  {
   "cell_type": "code",
   "execution_count": 109,
   "metadata": {},
   "outputs": [
    {
     "name": "stdout",
     "output_type": "stream",
     "text": [
      "How much code could a coder from coding company code\n",
      "If a code could code Python?\n",
      "He or she would code, he or she would, as much as he or she could,\n",
      "And code as much as a coder would\n",
      "If a coder could code Python.\n",
      "\n",
      "[('code', 7), ('could', 4), ('a', 4), ('as', 4), ('much', 3), ('coder', 3), ('he', 3), ('or', 3), ('she', 3), ('would', 3), ('if', 2), ('python', 2), ('how', 1), ('from', 1), ('coding', 1), ('company', 1), ('and', 1)]\n"
     ]
    }
   ],
   "source": [
    "# Write your code in this cell:\n",
    "# import coder.txt\n",
    "import re\n",
    "\n",
    "def readfile(txt):\n",
    "    file = open(str(txt),\"r\")\n",
    "    a = file.read()\n",
    "    file.close()\n",
    "    return a\n",
    "\n",
    "def countwords(line):\n",
    "    line = line.lower()\n",
    "    line = line.split()\n",
    "    \n",
    "    count_words={}\n",
    "    \n",
    "    for i in line: \n",
    "        simple_line = i.replace(',','').replace('?','').replace('.','').lower().split()\n",
    "        for j in simple_line:\n",
    "            if j not in count_words:\n",
    "                count_words[j] = 1\n",
    "            else: count_words[j] += 1\n",
    "\n",
    "    sort_count_words = sorted(dict(count_words).items(), key=lambda x: x[1], reverse=True)        \n",
    "    b = dict(sort_count_words)\n",
    "    return sort_count_words\n",
    "\n",
    "def main():\n",
    "    print(readfile('coder.txt'))\n",
    "    print(countwords(a))\n",
    "        \n",
    "if __name__== \"__main__\" :\n",
    "    main()"
   ]
  },
  {
   "cell_type": "code",
   "execution_count": null,
   "metadata": {},
   "outputs": [],
   "source": []
  }
 ],
 "metadata": {
  "kernelspec": {
   "display_name": "Python 3",
   "language": "python",
   "name": "python3"
  },
  "language_info": {
   "codemirror_mode": {
    "name": "ipython",
    "version": 3
   },
   "file_extension": ".py",
   "mimetype": "text/x-python",
   "name": "python",
   "nbconvert_exporter": "python",
   "pygments_lexer": "ipython3",
   "version": "3.7.9"
  }
 },
 "nbformat": 4,
 "nbformat_minor": 4
}
