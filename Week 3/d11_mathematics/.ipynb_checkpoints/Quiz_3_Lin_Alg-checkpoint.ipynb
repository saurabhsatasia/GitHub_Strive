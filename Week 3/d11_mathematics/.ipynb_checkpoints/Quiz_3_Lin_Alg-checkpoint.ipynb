{
 "cells": [
  {
   "cell_type": "markdown",
   "metadata": {},
   "source": [
    "## Linear Algebra Quiz #3\n",
    "\n",
    "![title](./img/3_0.jpeg)\n",
    "\n",
    "We strongly suggest working with numpy :)"
   ]
  },
  {
   "cell_type": "code",
   "execution_count": 1,
   "metadata": {},
   "outputs": [],
   "source": [
    "#Do your imports here\n",
    "import numpy as np"
   ]
  },
  {
   "cell_type": "markdown",
   "metadata": {},
   "source": [
    "![title](./img/3_2.png)\n",
    "![title](./img/3_3.png)\n",
    "Create a program that can output\n",
    "\n",
    "- What is the value of element c23​ of Matrix C where C=A x B ?\n",
    "- What is the value of element c23​ of Matrix C where C=B x A ?"
   ]
  },
  {
   "cell_type": "code",
   "execution_count": 2,
   "metadata": {},
   "outputs": [
    {
     "name": "stdout",
     "output_type": "stream",
     "text": [
      "(5, 1)\n",
      "(5, 3)\n",
      "[[   1.2    1.2   -2.4]\n",
      " [-135.   210.    -0. ]\n",
      " [  26.    -1.    88. ]\n",
      " [   5.    45.    20. ]\n",
      " [   0.     0.   490. ]]\n",
      "-0.0\n"
     ]
    }
   ],
   "source": [
    "A = np.array([0.6, -15, 2, 5, 98])[np.newaxis]\n",
    "A = A.T\n",
    "B= np.array([[2,2,-4],[9,-14,0],[13,-0.5,44],[1,9,4],[0,0,5]])\n",
    "print(A.shape)\n",
    "print(B.shape)\n",
    "C =A*B\n",
    "print(C)\n",
    "print(C[1,2]) # C23 when C = B*A or C =A*B"
   ]
  },
  {
   "cell_type": "markdown",
   "metadata": {},
   "source": [
    "![title](./img/3_1.png)\n",
    "Create a program that can output\n",
    "\n",
    "- What is the value of the ijth element if i = 2 and j=3?\n",
    "- What is the value of the ijth element if i = 3 and j=1?"
   ]
  },
  {
   "cell_type": "code",
   "execution_count": null,
   "metadata": {},
   "outputs": [],
   "source": [
    "# Just answer using code --> easy stuff!\n",
    "\n",
    "# Harder\n",
    "# Can you build a matrix solver that can do output the result given n matrices and a sequence of operations such as [add subtract multiply transpose?]\n",
    "#Some ideas on valid operations: Multiplication Addition Subtraction Inverstion Transposed. "
   ]
  },
  {
   "cell_type": "code",
   "execution_count": 3,
   "metadata": {},
   "outputs": [
    {
     "name": "stdout",
     "output_type": "stream",
     "text": [
      "[[ 6.000000e+00 -1.014160e+03  1.157849e+02 -9.300000e+01]\n",
      " [ 7.000000e-01 -3.000000e+00 -2.700000e+00  1.767000e+01]\n",
      " [ 5.700000e+00  0.000000e+00 -8.000000e+00  6.000000e-03]]\n",
      "-2.7\n",
      "5.7\n"
     ]
    }
   ],
   "source": [
    "# Just answer using code --> easy stuff!\n",
    "A = np.array([[3, 0.6, 4, -3], [-1.3,4,0,8.6],[7,0,-8,0.006]])\n",
    "B = np.array([[3,-5.76,45,0],[2,-2,1.3,9],[-9,0,0,0]])\n",
    "C = np.array([[0,1009,-66.7849,90],[0,5,4,-0.07],[-7.7,0,0,0]])\n",
    "D = A+B-C\n",
    "\n",
    "def give_element(matrix,i,j):\n",
    "    return matrix[i,j]\n",
    "print(D)\n",
    "print(give_element(D,1,2))  # for i=2 and j=3\n",
    "print(give_element(D,2,0))  # for i=3 and j =1\n",
    "# Harder\n",
    "# Can you build a matrix solver that can do output the result given n matrices and a sequence of operations such as [add subtract multiply transpose?]\n",
    "#Some ideas on valid operations: Multiplication Addition Subtraction Inverstion Transposed. "
   ]
  },
  {
   "cell_type": "code",
   "execution_count": 4,
   "metadata": {},
   "outputs": [
    {
     "name": "stdout",
     "output_type": "stream",
     "text": [
      "(5, 1)\n",
      "(5, 3)\n",
      "Matrix have a 5 rows, and 3 columns.\n",
      "C13 =  -2.4\n"
     ]
    }
   ],
   "source": [
    "A = np.array([0.6, -15, 2, 5, 98])[np.newaxis]\n",
    "A = A.T\n",
    "B= np.array([[2,2,-4],[9,-14,0],[13,-0.5,44],[1,9,4],[0,0,5]])\n",
    "print(A.shape)\n",
    "print(B.shape)\n",
    "C =A*B\n",
    "def rows_colums_value(matrix,i,j):\n",
    "    rows = matrix.shape[0]\n",
    "    columns = matrix.shape[1]\n",
    "    value = matrix[i,j]\n",
    "    return rows,columns,value\n",
    "\n",
    "rws, clms, value = rows_colums_value(C,0,2)\n",
    "print(\"Matrix have a \" + str(rws) +' rows, and '+ str(clms) +' columns.')\n",
    "print(\"C13 = \",value)"
   ]
  },
  {
   "cell_type": "code",
   "execution_count": null,
   "metadata": {},
   "outputs": [],
   "source": []
  },
  {
   "cell_type": "markdown",
   "metadata": {},
   "source": [
    "![title](./img/3_3.png)\n",
    "Create a program that can output\n",
    "- How many rows will C have?\n",
    "- How many columns will C have?\n",
    "- What will be the value of c13​?"
   ]
  },
  {
   "cell_type": "code",
   "execution_count": null,
   "metadata": {},
   "outputs": [],
   "source": []
  },
  {
   "cell_type": "code",
   "execution_count": 9,
   "metadata": {},
   "outputs": [],
   "source": [
    "# okay numpy is great but... how would you inverse a matrix by hand?\n",
    "\n",
    "def invert(A):    \n",
    "    ''' Returns the inverse of A, where  A is a square matrix in the form of a nested list of lists. '''\n",
    "    A = [A[i]+[int(i==j) for j in range(len(A))] for i in range(len(A))]    \n",
    "    for i in range(len(A)):\n",
    "        A[i:] = sorted(A[i:], key=lambda r: -abs(r[i]))\n",
    "        A[i] = [A[i][j]/A[i][i] for j in range(len(A)*2)]\n",
    "        A = [[A[j][k] if i==j else A[j][k]-A[i][k]*A[j][i] for k in range(len(A)*2)] for j in range(len(A))]\n",
    "    return [A[i][-len(A):] for i in range(len(A))]"
   ]
  },
  {
   "cell_type": "code",
   "execution_count": 11,
   "metadata": {},
   "outputs": [
    {
     "data": {
      "text/plain": [
       "[[0.22531089978054128, 0.031455742501828816, 0.020482809070958327],\n",
       " [0.14484272128749084, -0.051207022677395755, 0.013167520117044633],\n",
       " [-0.0649231894659839, -0.009875640087783468, 0.01682516459400146]]"
      ]
     },
     "execution_count": 11,
     "metadata": {},
     "output_type": "execute_result"
    }
   ],
   "source": [
    "A=[[2,2,-4],[9,-14,0],[13,-0.5,44]]\n",
    "inverse_matrix(A)"
   ]
  },
  {
   "cell_type": "code",
   "execution_count": 16,
   "metadata": {},
   "outputs": [
    {
     "name": "stdout",
     "output_type": "stream",
     "text": [
      "[[-1.5929648241206025, 0.7638190954773868, 0.07537688442211049, 0.24623115577889454], [1.7085427135678388, -0.9296482412060302, 0.0201005025125629, -0.2010050251256282], [0.48743718592964796, -0.22110552763819086, -0.2060301507537688, 0.06030150753768843], [-0.4572864321608038, 0.35175879396984916, 0.10050251256281402, -0.005025125628140683]]\n"
     ]
    }
   ],
   "source": [
    "n = [[1,2,3,5], [0,1,4,8], [5,6,0,5], [9,8,7,6]]\n",
    "print(inverse_matrix(n))"
   ]
  },
  {
   "cell_type": "code",
   "execution_count": null,
   "metadata": {},
   "outputs": [],
   "source": []
  }
 ],
 "metadata": {
  "kernelspec": {
   "display_name": "Python 3",
   "language": "python",
   "name": "python3"
  },
  "language_info": {
   "codemirror_mode": {
    "name": "ipython",
    "version": 3
   },
   "file_extension": ".py",
   "mimetype": "text/x-python",
   "name": "python",
   "nbconvert_exporter": "python",
   "pygments_lexer": "ipython3",
   "version": "3.7.6"
  }
 },
 "nbformat": 4,
 "nbformat_minor": 4
}
