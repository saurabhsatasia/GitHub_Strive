{
 "cells": [
  {
   "cell_type": "markdown",
   "metadata": {},
   "source": [
    "## Linear Algebra Quiz #1\n",
    "\n",
    "![title](./img/1_0.jpeg)\n",
    "\n",
    "We strongly suggest working with numpy :)"
   ]
  },
  {
   "cell_type": "code",
   "execution_count": 1,
   "metadata": {},
   "outputs": [],
   "source": [
    "#Do your imports here\n",
    "import numpy as np"
   ]
  },
  {
   "cell_type": "markdown",
   "metadata": {},
   "source": [
    "![title](./img/1_1.png)"
   ]
  },
  {
   "cell_type": "code",
   "execution_count": 11,
   "metadata": {},
   "outputs": [
    {
     "data": {
      "text/plain": [
       "3.7416573867739413"
      ]
     },
     "execution_count": 11,
     "metadata": {},
     "output_type": "execute_result"
    }
   ],
   "source": [
    "# type a function that given a 3_dimensional vector it is able to calculate its magnitude\n",
    "\n",
    "def magnitude_3(a,b,c):\n",
    "    v = np.array([a, b, c])\n",
    "    square = np.square(v)\n",
    "    sqrt = np.sqrt(square.sum())\n",
    "\n",
    "    return sqrt\n",
    "magnitude_3(a=1,b=2,c=3)"
   ]
  },
  {
   "cell_type": "markdown",
   "metadata": {},
   "source": [
    "![title](./img/1_2.png)"
   ]
  },
  {
   "cell_type": "code",
   "execution_count": 14,
   "metadata": {},
   "outputs": [
    {
     "name": "stdout",
     "output_type": "stream",
     "text": [
      "[5, 1] [-4, -1]\n"
     ]
    }
   ],
   "source": [
    "arguments=[[5,1],[-4,-1]]\n",
    "print(*arguments)"
   ]
  },
  {
   "cell_type": "code",
   "execution_count": 74,
   "metadata": {},
   "outputs": [
    {
     "data": {
      "text/plain": [
       "6.557438524302"
      ]
     },
     "execution_count": 74,
     "metadata": {},
     "output_type": "execute_result"
    }
   ],
   "source": [
    "# type a function that given a n_dimensional vector it is able to calculate its magnitude\n",
    "# if you want to try this from python (not jupyter notebook) https://docs.python.org/3/library/argparse.html would be a good addition\n",
    "# if you are doing this from a jupyter notebook only, you can try to promt the user for an input  \n",
    "\n",
    "def magnitude_complete(*arguments):\n",
    "    v = [arguments]\n",
    "        \n",
    "    v = np.array(v)\n",
    "    squar = np.square(v)\n",
    "#     print(squar)\n",
    "    sqrt1 = np.sqrt(squar.sum())\n",
    "    return sqrt1\n",
    "\n",
    "\n",
    "x = [5,1]\n",
    "y= [-4,-1]\n",
    "arguments=(x,y)\n",
    "magnitude_complete(arguments)"
   ]
  },
  {
   "cell_type": "markdown",
   "metadata": {},
   "source": [
    "### For promting the user for an input and callinf the above Funtion 'magnitude_complete'."
   ]
  },
  {
   "cell_type": "code",
   "execution_count": 40,
   "metadata": {},
   "outputs": [
    {
     "name": "stdin",
     "output_type": "stream",
     "text": [
      "How many number of elements in a vector? -  8\n",
      " -9 -5 -1 7 5 3 -4 6 \n"
     ]
    },
    {
     "name": "stdout",
     "output_type": "stream",
     "text": [
      "15.56\n"
     ]
    }
   ],
   "source": [
    "\n",
    "dimensions = int(input(\"How many number of elements in a vector? - \")) \n",
    "element = list(map(int, input().rstrip().split()))\n",
    "if dimensions == len(element):\n",
    "    magnitued = magnitude_complete(*element)\n",
    "    print(round(magnitued,2))\n",
    "else:\n",
    "    print(f'Please enter :: {dimensions} :: elements. You have entered::{len(element)}::elements')\n"
   ]
  },
  {
   "cell_type": "markdown",
   "metadata": {},
   "source": [
    "uncomment the following line when you are ready to test"
   ]
  },
  {
   "cell_type": "code",
   "execution_count": 64,
   "metadata": {},
   "outputs": [
    {
     "data": {
      "text/plain": [
       "[True, True, True, True, True]"
      ]
     },
     "execution_count": 64,
     "metadata": {},
     "output_type": "execute_result"
    }
   ],
   "source": [
    "[magnitude_complete(1) == 1.0,\n",
    "magnitude_complete(1,2) >= 2.236,\n",
    "magnitude_complete(1,2,3) >= 3.741,\n",
    "magnitude_complete(1,2,3,4,5) >= 5.477,\n",
    "magnitude_complete(1,2,3,4,5) >= 7.416]"
   ]
  },
  {
   "cell_type": "markdown",
   "metadata": {},
   "source": [
    "![title](./img/1_3.png)"
   ]
  },
  {
   "cell_type": "code",
   "execution_count": 72,
   "metadata": {},
   "outputs": [
    {
     "data": {
      "text/plain": [
       "1.0"
      ]
     },
     "execution_count": 72,
     "metadata": {},
     "output_type": "execute_result"
    }
   ],
   "source": [
    "def magnitude_vectors(a, b):\n",
    "    #checks that size is equal\n",
    "     #returns the magnitude\n",
    "    a = np.array(a)\n",
    "    b = np.array(b)\n",
    "    if a.size == b.size:\n",
    "        sum_a_b = (a) + (b)\n",
    "        return np.linalg.norm(sum_a_b)\n",
    "    else:\n",
    "        return 'Size of vectors are not equal'\n",
    "    \n",
    "x = [5,1]\n",
    "y= [-4,-1]\n",
    "magnitude_vectors(x,y)"
   ]
  },
  {
   "cell_type": "code",
   "execution_count": 53,
   "metadata": {},
   "outputs": [
    {
     "data": {
      "text/plain": [
       "12.528807709151511"
      ]
     },
     "execution_count": 53,
     "metadata": {},
     "output_type": "execute_result"
    }
   ],
   "source": [
    "def direction_vectors(a, b):\n",
    "    #checks that size is equal\n",
    "        #returns the direction\n",
    "    a = np.array(a)\n",
    "    b = np.array(b)\n",
    "    if a.size == b.size:\n",
    "        direction = np.arctan((b[1]-a[1])/(b[0]-a[0]))\n",
    "        direction = np.rad2deg(direction)\n",
    "        return direction\n",
    "    else:\n",
    "        return 'Size of vectors are not equal'\n",
    "    \n",
    "x = [5,1]\n",
    "y= [-4,-1]\n",
    "direction_vectors(x,y)"
   ]
  },
  {
   "cell_type": "code",
   "execution_count": 60,
   "metadata": {},
   "outputs": [
    {
     "name": "stdout",
     "output_type": "stream",
     "text": [
      "The magnitude of a + b is 9.222125139210444 and the direction is 717.847804065351\n"
     ]
    }
   ],
   "source": [
    "# or if you want to do it all in one batch:\n",
    "\n",
    "def magdir_vectors(a, b):\n",
    "    #checks that size is equal\n",
    "     #returns the magnitude and direction in a nicely printed format \n",
    "    #\"The magnitude of a + b is X and the direction is Y\"\n",
    "    a = np.array(a)\n",
    "    b = np.array(b)\n",
    "    if a.size == b.size:\n",
    "        direction = direction_vectors(a,b)\n",
    "        magnitude = magnitude_vectors(a,b)\n",
    "        direction = np.rad2deg(direction)\n",
    "        return print('The magnitude of a + b is {0} and the direction is {1}'.format(magnitude, direction))\n",
    "    else:\n",
    "        return 'Size of vectors are not equal'\n",
    "    \n",
    "x = [5,1]\n",
    "y= [-4,-1]\n",
    "magdir_vectors(x,y)  "
   ]
  },
  {
   "cell_type": "markdown",
   "metadata": {},
   "source": [
    "![title](./img/1_4.png)\n",
    "- What is the magnitude of αx⃗? \n",
    "- If α>0, will the direction of the resulting vector change?\n",
    "- If α<0, will the direction of the resulting vector change?\n",
    "- If −1<α<1, will ∥αx⃗∥  increase, decrease or stay the same?"
   ]
  },
  {
   "cell_type": "code",
   "execution_count": 61,
   "metadata": {},
   "outputs": [],
   "source": [
    "def alpha_magnitude(alpha, b):\n",
    "    b = np.array(b)\n",
    "    vector = alpha * b\n",
    "    if np.sign(b[0]) == np.sign(vector[0]):\n",
    "        print('No directional change')\n",
    "    else:\n",
    "        print('The direction has changed 180 degrees')\n",
    "    return (vector, np.linalg.norm(vector))\n",
    "    \n",
    "    #returns the resulting magnitude, if the direction has changed and what has happened to the vector"
   ]
  },
  {
   "cell_type": "code",
   "execution_count": 62,
   "metadata": {},
   "outputs": [
    {
     "name": "stdout",
     "output_type": "stream",
     "text": [
      "The direction has changed 180 degrees\n"
     ]
    },
    {
     "data": {
      "text/plain": [
       "(array([-8, -8]), 11.313708498984761)"
      ]
     },
     "execution_count": 62,
     "metadata": {},
     "output_type": "execute_result"
    }
   ],
   "source": [
    "alpha_magnitude(-8, [1,1])"
   ]
  },
  {
   "cell_type": "code",
   "execution_count": 65,
   "metadata": {},
   "outputs": [
    {
     "name": "stdout",
     "output_type": "stream",
     "text": [
      "No directional change\n"
     ]
    },
    {
     "data": {
      "text/plain": [
       "(array([5, 5]), 7.0710678118654755)"
      ]
     },
     "execution_count": 65,
     "metadata": {},
     "output_type": "execute_result"
    }
   ],
   "source": [
    "\n",
    "alpha_magnitude(5, [1,1])"
   ]
  },
  {
   "cell_type": "code",
   "execution_count": null,
   "metadata": {},
   "outputs": [],
   "source": []
  }
 ],
 "metadata": {
  "kernelspec": {
   "display_name": "Python 3",
   "language": "python",
   "name": "python3"
  },
  "language_info": {
   "codemirror_mode": {
    "name": "ipython",
    "version": 3
   },
   "file_extension": ".py",
   "mimetype": "text/x-python",
   "name": "python",
   "nbconvert_exporter": "python",
   "pygments_lexer": "ipython3",
   "version": "3.7.6"
  }
 },
 "nbformat": 4,
 "nbformat_minor": 4
}
