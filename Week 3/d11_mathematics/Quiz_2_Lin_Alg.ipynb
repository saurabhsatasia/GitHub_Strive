{
 "cells": [
  {
   "cell_type": "markdown",
   "metadata": {},
   "source": [
    "## Linear Algebra Quiz #2\n",
    "\n",
    "![title](./img/2_1.jpeg)\n",
    "\n",
    "We strongly suggest working with numpy :)"
   ]
  },
  {
   "cell_type": "code",
   "execution_count": 24,
   "metadata": {},
   "outputs": [],
   "source": [
    "#Do your imports here\n",
    "import numpy as np\n",
    "import warnings\n",
    "warnings.filterwarnings(\"ignore\")"
   ]
  },
  {
   "cell_type": "markdown",
   "metadata": {},
   "source": [
    "![title](./img/2_2.png)\n",
    "- Which vectors below define a plane spanned by a linear combination?"
   ]
  },
  {
   "cell_type": "code",
   "execution_count": 28,
   "metadata": {},
   "outputs": [],
   "source": [
    "def plane(a,b,c):\n",
    "    #returns false if the vectors do define a plane and returns which are those vectors if true\n",
    "    # Harder exercise\n",
    "    #returns false if the vectors do define a plane and returns which are those vectors if true\n",
    "    \n",
    "    matrix = np.stack((a,b,c))\n",
    "    \n",
    "    lambdas, V = np.linalg.eig(matrix.T)\n",
    "    \n",
    "    e = 0.000000001\n",
    "    \n",
    "    plane_test = abs(lambdas) > e \n",
    "    \n",
    "    if plane_test.sum() >= 2:\n",
    "        \n",
    "        print('Vectors form a plane!')\n",
    "        \n",
    "        vectors = matrix[plane_test]\n",
    "        return vectors\n",
    "    else:\n",
    "        print('Vectors are all linearly dependent. No plane exists.')"
   ]
  },
  {
   "cell_type": "code",
   "execution_count": 29,
   "metadata": {},
   "outputs": [
    {
     "name": "stdout",
     "output_type": "stream",
     "text": [
      "Vectors form a plane!\n"
     ]
    },
    {
     "data": {
      "text/plain": [
       "array([[1, 2, 3],\n",
       "       [2, 2, 2]])"
      ]
     },
     "execution_count": 29,
     "metadata": {},
     "output_type": "execute_result"
    }
   ],
   "source": [
    "a = np.array([1,2,3])\n",
    "b = np.array([2,2,2])\n",
    "c = np.array([8,8,8])\n",
    "\n",
    "plane(a,b,c)"
   ]
  },
  {
   "cell_type": "code",
   "execution_count": 35,
   "metadata": {},
   "outputs": [],
   "source": [
    "def complete_plane(*args):\n",
    "    #returns the first set of vectors to complete a plane, false otherwise\n",
    "    np_arrays = []\n",
    "    \n",
    "    for arg in args:\n",
    "        np_arrays.append(arg)\n",
    "    \n",
    "    matrix = np.stack(np_arrays)\n",
    "    \n",
    "    rows = matrix.shape[0]\n",
    "    columns = matrix.shape[1]\n",
    "    \n",
    "    if rows == columns:\n",
    "        \n",
    "        lambdas, V = np.linalg.eig(matrix.T)\n",
    "    \n",
    "        e = 0.000000001\n",
    "        plane_test = abs(lambdas) > e\n",
    " \n",
    "        if plane_test.sum() >= 2:\n",
    "            print('True')\n",
    "            \n",
    "            index = np.argwhere(plane_test == True)\n",
    "            \n",
    "            vectors = matrix[index]\n",
    "        else:\n",
    "            print('False')\n",
    "        \n",
    "        \n",
    "        \n",
    "        \n",
    "    elif rows != columns:\n",
    "        \n",
    "        U, eigvals , d = np.linalg.svd(matrix.T)\n",
    "    \n",
    "        e = 0.000000001\n",
    "        plane_test = abs(eigvals) > e\n",
    " \n",
    "        if plane_test.sum() >= 2:\n",
    "            print('True')\n",
    "            \n",
    "            index = np.argwhere(plane_test == True)\n",
    "\n",
    "            vectors = matrix[index][:2]\n",
    "            \n",
    "            return vectors\n",
    "            \n",
    "        else:\n",
    "            print('False')"
   ]
  },
  {
   "cell_type": "code",
   "execution_count": 36,
   "metadata": {},
   "outputs": [
    {
     "name": "stdout",
     "output_type": "stream",
     "text": [
      "True\n"
     ]
    },
    {
     "data": {
      "text/plain": [
       "array([[[1, 2, 3]],\n",
       "\n",
       "       [[3, 2, 1]]])"
      ]
     },
     "execution_count": 36,
     "metadata": {},
     "output_type": "execute_result"
    }
   ],
   "source": [
    "a = np.array([1,2,3])\n",
    "b = np.array([2,4,6])\n",
    "c = np.array([3,2,1])\n",
    "d = np.array([6,4,2])\n",
    "e = np.array([1,5,8])\n",
    "\n",
    "complete_plane(a,c,d,e)"
   ]
  },
  {
   "cell_type": "markdown",
   "metadata": {},
   "source": [
    "![title](./img/2_3.png)\n",
    "- What is the solution for a and b?"
   ]
  },
  {
   "cell_type": "code",
   "execution_count": null,
   "metadata": {},
   "outputs": [],
   "source": [
    "# do you need a function for this? What is the most efficient way to solve it?\n",
    "#solutions are linearly dependent. therefore infinite solutions"
   ]
  },
  {
   "cell_type": "code",
   "execution_count": 25,
   "metadata": {},
   "outputs": [
    {
     "name": "stdout",
     "output_type": "stream",
     "text": [
      "[ 0.08389474 -0.38926316] \n",
      "\n",
      "a = 0.08389474219471739 \n",
      "\n",
      "b = -0.38926316146314477\n"
     ]
    }
   ],
   "source": [
    "LHS = np.array([[2,3],[10,15]])\n",
    "RHS = np.array([-1, -5])\n",
    "\n",
    "\n",
    "coef_a_b = np.linalg.lstsq(LHS, RHS)\n",
    "# coef_a_b = np.linalg.solve(LHS,RHS)\n",
    "print(coef_a_b[0],'\\n')\n",
    "print(f'a = {coef_a_b[0][0]} \\n\\nb = {coef_a_b[0][1]}')\n"
   ]
  },
  {
   "cell_type": "markdown",
   "metadata": {},
   "source": [
    "![title](./img/2_4.png)\n",
    "- What is the solution for a and b?"
   ]
  },
  {
   "cell_type": "code",
   "execution_count": null,
   "metadata": {},
   "outputs": [],
   "source": [
    "# Idem. Do you need a function for this? What is the most efficient way to solve it?"
   ]
  },
  {
   "cell_type": "code",
   "execution_count": 27,
   "metadata": {},
   "outputs": [],
   "source": [
    "LHS = np.array([[-1,3],[-1,3]])\n",
    "RHS = np.array([1, 5])\n",
    "\n",
    "It's quite clear from the equations that there are no solutions.\n",
    "\n",
    "# coef_a_b = np.linalg.lstsq(LHS, RHS)\n",
    "# # coef_a_b = np.linalg.solve(LHS,RHS)\n",
    "# print(coef_a_b[0],'\\n')\n",
    "# print(f'a = {coef_a_b[0][0]} \\n\\nb = {coef_a_b[0][1]}')"
   ]
  },
  {
   "cell_type": "code",
   "execution_count": null,
   "metadata": {},
   "outputs": [],
   "source": []
  }
 ],
 "metadata": {
  "kernelspec": {
   "display_name": "Python 3",
   "language": "python",
   "name": "python3"
  },
  "language_info": {
   "codemirror_mode": {
    "name": "ipython",
    "version": 3
   },
   "file_extension": ".py",
   "mimetype": "text/x-python",
   "name": "python",
   "nbconvert_exporter": "python",
   "pygments_lexer": "ipython3",
   "version": "3.7.6"
  }
 },
 "nbformat": 4,
 "nbformat_minor": 4
}
