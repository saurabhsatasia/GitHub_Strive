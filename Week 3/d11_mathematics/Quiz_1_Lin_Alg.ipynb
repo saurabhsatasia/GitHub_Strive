{
 "cells": [
  {
   "cell_type": "markdown",
   "metadata": {},
   "source": [
    "## Linear Algebra Quiz #1\n",
    "\n",
    "![title](./img/1_0.jpeg)\n",
    "\n",
    "We strongly suggest working with numpy :)"
   ]
  },
  {
   "cell_type": "code",
   "execution_count": 1,
   "metadata": {},
   "outputs": [],
   "source": [
    "#Do your imports here\n",
    "import numpy as np"
   ]
  },
  {
   "cell_type": "markdown",
   "metadata": {},
   "source": [
    "![title](./img/1_1.png)"
   ]
  },
  {
   "cell_type": "code",
   "execution_count": null,
   "metadata": {},
   "outputs": [],
   "source": [
    "# type a function that given a 3_dimensional vector it is able to calculate its magnitude\n",
    "\n",
    "def magnitude_3(a,b,c):\n",
    "\n",
    "# type a function that given a n_dimensional vector it is able to calculate its magnitude\n",
    "# if you want to try this from python (not jupyter notebook) https://docs.python.org/3/library/argparse.html would be a good addition\n",
    "# if you are doing this from a jupyter notebook only, you can try to promt the user for an input  \n",
    "\n",
    "def magnitude_complete(#inputs):"
   ]
  },
  {
   "cell_type": "markdown",
   "metadata": {},
   "source": [
    "![title](./img/1_2.png)"
   ]
  },
  {
   "cell_type": "code",
   "execution_count": 3,
   "metadata": {},
   "outputs": [],
   "source": [
    "def magnitude_3(a,b,c):\n",
    "    v = np.array([a, b, c])\n",
    "    square = np.square(v)\n",
    "    sqrt = np.sqrt(square.sum())\n",
    "    \n",
    "    return sqrt\n",
    "\n",
    "def magnitude_complete(*arguments):\n",
    "    v = [arguments]\n",
    "        \n",
    "    v = np.array(v)\n",
    "    squar = np.square(v)\n",
    "    sqrt1 = np.sqrt(squar.sum())\n",
    "    return sqrt1"
   ]
  },
  {
   "cell_type": "code",
   "execution_count": 4,
   "metadata": {},
   "outputs": [
    {
     "name": "stdin",
     "output_type": "stream",
     "text": [
      "How many number of elements in a vector? -  1\n",
      " 1\n"
     ]
    },
    {
     "data": {
      "text/plain": [
       "1.0"
      ]
     },
     "execution_count": 4,
     "metadata": {},
     "output_type": "execute_result"
    }
   ],
   "source": [
    "# For promting the user for an input.\n",
    "dimensions = int(input(\"How many number of elements in a vector? - \")) \n",
    "v = []\n",
    "for i in range(0, dimensions): \n",
    "    element = int(input()) \n",
    "    v.append(element)\n",
    "magnitued = magnitude_complete(v)\n",
    "magnitued"
   ]
  },
  {
   "cell_type": "markdown",
   "metadata": {},
   "source": [
    "uncomment the following line when you are ready to test"
   ]
  },
  {
   "cell_type": "code",
   "execution_count": 5,
   "metadata": {},
   "outputs": [
    {
     "data": {
      "text/plain": [
       "True"
      ]
     },
     "execution_count": 5,
     "metadata": {},
     "output_type": "execute_result"
    }
   ],
   "source": [
    "magnitude_complete(1) == 1.0\n",
    "magnitude_complete(1,2) >= 2.236\n",
    "magnitude_complete(1,2,3) >= 3.741\n",
    "magnitude_complete(1,2,3,4,5) >= 5.477\n",
    "magnitude_complete(1,2,3,4,5) >= 7.416"
   ]
  },
  {
   "cell_type": "code",
   "execution_count": null,
   "metadata": {},
   "outputs": [],
   "source": [
    "def magnitude_vectors(a, b):\n",
    "    #checks that size is equal\n",
    "    \n",
    "    #returns the magnitude"
   ]
  },
  {
   "cell_type": "markdown",
   "metadata": {},
   "source": [
    "![title](./img/1_3.png)"
   ]
  },
  {
   "cell_type": "code",
   "execution_count": 7,
   "metadata": {},
   "outputs": [],
   "source": [
    "def magnitude_vectors(a, b):\n",
    "    #checks that size is equal\n",
    "    a = np.array(a)\n",
    "    b = np.array(b)\n",
    "    if a.size == b.size:\n",
    "        magnitude = magnitude_complete(a) + magnitude_complete(b)\n",
    "        return magnitude\n",
    "    else:\n",
    "        return 'Size of vectors are not equal'"
   ]
  },
  {
   "cell_type": "code",
   "execution_count": null,
   "metadata": {},
   "outputs": [],
   "source": [
    "def direction_vectors(a, b):\n",
    "    #checks that size is equal\n",
    "    \n",
    "    #returns the magnitude\n",
    "    \n",
    "# or if you want to do it all in one batch:\n",
    "def magdir_vectors(a, b):\n",
    "    #checks that size is equal\n",
    "    \n",
    "    #returns the magnitude and direction in a nicely printed format \n",
    "    #\"The magnitude of a + b is X and the direction is Y\""
   ]
  },
  {
   "cell_type": "markdown",
   "metadata": {},
   "source": [
    "![title](./img/1_4.png)\n",
    "- What is the magnitude of αx⃗? \n",
    "- If α>0, will the direction of the resulting vector change?\n",
    "- If α<0, will the direction of the resulting vector change?\n",
    "- If −1<α<1, will ∥αx⃗∥  increase, decrease or stay the same?"
   ]
  },
  {
   "cell_type": "code",
   "execution_count": 6,
   "metadata": {},
   "outputs": [],
   "source": [
    "def direction_vectors(a, b):\n",
    "    #checks that size is equal\n",
    "    a = np.array(a)\n",
    "    b = np.array(b)\n",
    "    if a.size == b.size:\n",
    "        direction = np.arctan((b[1]-a[1])/(b[0]-a[0]))\n",
    "        direction = np.rad2deg(direction)\n",
    "        return direction\n",
    "    else:\n",
    "        return 'Size of vectors are not equal'\n",
    "    \n",
    "     #returns the direction\n",
    "    \n",
    "# or if you want to do it all in one batch:\n",
    "def magdir_vectors(a, b):\n",
    "    #checks that size is equal\n",
    "    a = np.array(a)\n",
    "    b = np.array(b)\n",
    "    if a.size == b.size:\n",
    "        direction = direction_vectors(a,b)\n",
    "        magnitude = magnitude_vectors(a,b)\n",
    "        direction = np.rad2deg(direction)\n",
    "        return print('The magnitude of a + b is {0} and the direction is {1}'.format(magnitude, direction))\n",
    "    else:\n",
    "        return 'Size of vectors are not equal'\n",
    "    \n",
    "    #returns the magnitude and direction in a nicely printed format \n",
    "    #\"The magnitude of a + b is X and the direction is Y\""
   ]
  },
  {
   "cell_type": "code",
   "execution_count": null,
   "metadata": {},
   "outputs": [],
   "source": [
    "def alpha_magnitude(alpha, b):\n",
    "    \n",
    "    #returns the resulting magnitude, if the direction has changed and what has happened to the vector"
   ]
  }
 ],
 "metadata": {
  "kernelspec": {
   "display_name": "Python 3",
   "language": "python",
   "name": "python3"
  },
  "language_info": {
   "codemirror_mode": {
    "name": "ipython",
    "version": 3
   },
   "file_extension": ".py",
   "mimetype": "text/x-python",
   "name": "python",
   "nbconvert_exporter": "python",
   "pygments_lexer": "ipython3",
   "version": "3.7.6"
  }
 },
 "nbformat": 4,
 "nbformat_minor": 4
}
