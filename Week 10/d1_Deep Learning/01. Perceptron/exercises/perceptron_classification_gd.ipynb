{
 "cells": [
  {
   "cell_type": "markdown",
   "metadata": {},
   "source": [
    "# Perceptron - classification using gradient descent (exercise)"
   ]
  },
  {
   "cell_type": "markdown",
   "metadata": {},
   "source": [
    "In this exercise, implement a single neuron (perceptron) for classification of two species of flowers using gradient descent.\n",
    "\n",
    "The Iris data set consists of 50 samples from each of three species of flowers (Iris setosa, Iris virginica and Iris versicolor). Four features were measured from each sample: the length and the width of the sepals and petals, in centimeters.\n",
    "\n",
    "For the purpose of this exercise, use only two features (sepal length and sepal width) of two specie of flowers (Setosa and Versicolor)."
   ]
  },
  {
   "cell_type": "code",
   "execution_count": 2,
   "metadata": {},
   "outputs": [],
   "source": [
    "# allow inline plotting below each cell\n",
    "%matplotlib inline"
   ]
  },
  {
   "cell_type": "code",
   "execution_count": 3,
   "metadata": {},
   "outputs": [],
   "source": [
    "# import necessary libraries \n",
    "from matplotlib import pyplot as plt\n",
    "import numpy as np\n",
    "import time\n",
    "from IPython import display"
   ]
  },
  {
   "cell_type": "code",
   "execution_count": 4,
   "metadata": {},
   "outputs": [],
   "source": [
    "# Function that plots data and classification line\n",
    "def plot_border(w1, b, data, fig):\n",
    "    \n",
    "    plt.axis([0, 10, 0, 6])\n",
    "    plt.grid()\n",
    "    \n",
    "    # scatter data\n",
    "    for i in range(len(data)) :\n",
    "        point = data[i]\n",
    "        color = \"r\"\n",
    "        if point[2] == 0 :\n",
    "            color = \"b\"\n",
    "        plt.scatter(point[0], point[1], c=color)\n",
    "\n",
    "    # classification line\n",
    "    x = np.linspace(0,10,100)\n",
    "    plt.plot(x, w1*x+b, '-g', label='y=w1*x+b')\n",
    "    plt.show()"
   ]
  },
  {
   "cell_type": "code",
   "execution_count": 5,
   "metadata": {},
   "outputs": [],
   "source": [
    "# write a prediction function: 0 for Iris-setosa and 1 for Iris-versicolor\n",
    "def guess_flower(SepalLength, SepalWidth):\n",
    "    z = SepalLength * w1 + SepalWidth * w2 + b\n",
    "    prediction = sigmoid(z)\n",
    "    if prediction < .5:\n",
    "        print('Iris-setosa')\n",
    "    else:\n",
    "        print('Iris-versicolor')"
   ]
  },
  {
   "cell_type": "code",
   "execution_count": 16,
   "metadata": {},
   "outputs": [],
   "source": [
    "### load data ###\n",
    "\n",
    "# each point is a tuple (sepal length, sepal width, flower type)\n",
    "# types: 0 for Setosa and 1 for Versicolor\n",
    "data = [[ 5.1,  3.5,  0 ],\n",
    "       [ 4.9,  3. ,  0 ],\n",
    "       [ 4.7,  3.2,  0 ],\n",
    "       [ 4.6,  3.1,  0 ],\n",
    "       [ 5. ,  3.6,  0 ],\n",
    "       [ 5.4,  3.9,  0 ],\n",
    "       [ 4.6,  3.4,  0 ],\n",
    "       [ 5. ,  3.4,  0 ],\n",
    "       [ 4.4,  2.9,  0 ],\n",
    "       [ 4.9,  3.1,  0 ],\n",
    "       [ 5.4,  3.7,  0 ],\n",
    "       [ 4.8,  3.4,  0 ],\n",
    "       [ 4.8,  3. ,  0 ],\n",
    "       [ 4.3,  3. ,  0 ],\n",
    "       [ 5.8,  4. ,  0 ],\n",
    "       [ 5.7,  4.4,  0 ],\n",
    "       [ 5.4,  3.9,  0 ],\n",
    "       [ 5.1,  3.5,  0 ],\n",
    "       [ 5.7,  3.8,  0 ],\n",
    "       [ 5.1,  3.8,  0 ],\n",
    "       [ 7. ,  3.2,  1 ],\n",
    "       [ 6.4,  3.2,  1 ],\n",
    "       [ 6.9,  3.1,  1 ],\n",
    "       [ 5.5,  2.3,  1 ],\n",
    "       [ 6.5,  2.8,  1 ],\n",
    "       [ 5.7,  2.8,  1 ],\n",
    "       [ 6.3,  3.3,  1 ],\n",
    "       [ 4.9,  2.4,  1 ],\n",
    "       [ 6.6,  2.9,  1 ],\n",
    "       [ 5.2,  2.7,  1 ],\n",
    "       [ 5. ,  2. ,  1 ],\n",
    "       [ 5.9,  3. ,  1 ],\n",
    "       [ 6. ,  2.2,  1 ],\n",
    "       [ 6.1,  2.9,  1 ],\n",
    "       [ 5.6,  2.9,  1 ],\n",
    "       [ 6.7,  3.1,  1 ],\n",
    "       [ 5.6,  3. ,  1 ],\n",
    "       [ 5.8,  2.7,  1 ],\n",
    "       [ 6.2,  2.2,  1 ],\n",
    "       [ 5.6,  2.5,  1 ],\n",
    "       [ 5.9,  3.2,  1 ],\n",
    "       [ 6.1,  2.8,  1 ],\n",
    "       [ 6.3,  2.5,  1 ],\n",
    "       [ 6.1,  2.8,  1 ],\n",
    "       [ 6.4,  2.9,  1 ]]\n",
    "\n",
    "mystery_flower = [ 6.6,  3]"
   ]
  },
  {
   "cell_type": "code",
   "execution_count": 7,
   "metadata": {},
   "outputs": [],
   "source": [
    "# Functions that compute the output of a sigmoid activation function and its derivative\n",
    "\n",
    "def sigmoid(x) :\n",
    "    return 1/(1 + np.exp(-x))\n",
    "\n",
    "def sigmoid_p(x) :\n",
    "    return sigmoid(x) * (1-sigmoid(x))"
   ]
  },
  {
   "cell_type": "code",
   "execution_count": 8,
   "metadata": {},
   "outputs": [
    {
     "data": {
      "text/plain": [
       "[<matplotlib.lines.Line2D at 0x1f377e479a0>]"
      ]
     },
     "execution_count": 8,
     "metadata": {},
     "output_type": "execute_result"
    },
    {
     "data": {
      "image/png": "[encoded data removed]",
      "text/plain": [
       "<Figure size 432x288 with 1 Axes>"
      ]
     },
     "metadata": {
      "needs_background": "light"
     },
     "output_type": "display_data"
    }
   ],
   "source": [
    "# visualize activation function and its derivative\n",
    "T = np.linspace(-6, 6, 100)\n",
    "plt.plot(T, sigmoid(T), c='r')\n",
    "plt.plot(T, sigmoid_p(T), c='b')"
   ]
  },
  {
   "cell_type": "code",
   "execution_count": 11,
   "metadata": {},
   "outputs": [
    {
     "data": {
      "image/png": "[encoded data removed]",
      "text/plain": [
       "<Figure size 432x288 with 1 Axes>"
      ]
     },
     "metadata": {
      "needs_background": "light"
     },
     "output_type": "display_data"
    }
   ],
   "source": [
    "# visualize data\n",
    "plt.axis([0, 10, 0, 6])\n",
    "plt.grid()\n",
    "for i in range(len(data)) :\n",
    "    point = data[i]\n",
    "    color = \"r\"\n",
    "    if point[2] == 0 :\n",
    "        color = \"b\"\n",
    "    plt.scatter(point[0], point[1], c=color)"
   ]
  },
  {
   "cell_type": "code",
   "execution_count": 12,
   "metadata": {},
   "outputs": [
    {
     "name": "stdout",
     "output_type": "stream",
     "text": [
      "epoch:  99 , cost: 0.32211985825123934 , acc:  1.0\n"
     ]
    },
    {
     "data": {
      "image/png": "[encoded data removed]",
      "text/plain": [
       "<Figure size 432x288 with 1 Axes>"
      ]
     },
     "metadata": {
      "needs_background": "light"
     },
     "output_type": "display_data"
    },
    {
     "data": {
      "image/png": "[encoded data removed]",
      "text/plain": [
       "<Figure size 432x288 with 2 Axes>"
      ]
     },
     "metadata": {
      "needs_background": "light"
     },
     "output_type": "display_data"
    }
   ],
   "source": [
    "# write a training loop\n",
    "\n",
    "# initialize weights and bias\n",
    "learning_rate = 0.1\n",
    "\n",
    "costs = []\n",
    "accs = []\n",
    "epochs = 100\n",
    "m = len(data)\n",
    "\n",
    "w1 = 0\n",
    "w2 = 0\n",
    "b = 0\n",
    "fig = plt.figure()\n",
    "\n",
    "# inside the loop:\n",
    "\n",
    "# compute cost function\n",
    "# compute gradients\n",
    "# update weights and bias\n",
    "# compute cost\n",
    "\n",
    "# plot costs\n",
    "\n",
    "for i in range(epochs):\n",
    "    \n",
    "    cost = 0 \n",
    "    acc = 0\n",
    "    dw1 = 0\n",
    "    dw2 = 0\n",
    "    db = 0\n",
    "    \n",
    "    for j in range(m):\n",
    "        point = data[j]\n",
    "    \n",
    "        z = point[0] * w1 + point[1] * w2 + b\n",
    "        a = sigmoid(z)\n",
    "    \n",
    "        y = point[2]\n",
    "    \n",
    "        # loss function\n",
    "        loss = -(y*np.log(a) + (1-y)*np.log(1-a))\n",
    "        \n",
    "        # cost\n",
    "        cost += loss\n",
    "    \n",
    "        # derivatives of the cost function wrt weights and bias\n",
    "        dz = a - y\n",
    "        dw1 += point[0] * dz\n",
    "        dw2 += point[1] * dz\n",
    "        db += dz\n",
    "        \n",
    "        if ((a < 0.5 and y == 0) or (a >= 0.5 and y == 1)):\n",
    "            acc += 1\n",
    "    \n",
    "    # cost\n",
    "    cost = cost / m\n",
    "        \n",
    "    # accuracy\n",
    "    acc = acc / m \n",
    "    \n",
    "    # update weights and bias\n",
    "    dw1 = dw1 / m\n",
    "    dw2 = dw2 / m\n",
    "    db = db / m\n",
    "    w1 = w1 - learning_rate * dw1\n",
    "    w2 = w2 - learning_rate * dw2\n",
    "    b = b - learning_rate * db\n",
    "\n",
    "#     if i % 10 == 0:\n",
    "    # plot the classification line\n",
    "    plot_border(-w1/w2, -b/w2, data, fig)\n",
    "    display.clear_output(wait=True)\n",
    "    time.sleep(0.1)\n",
    "\n",
    "    print(\"epoch: \", i, \", cost:\", cost, \", acc: \", acc)\n",
    "    \n",
    "    costs.append(cost)\n",
    "    accs.append(acc)\n",
    "\n",
    "# plot the final classification line\n",
    "plot_border(-w1/w2, -b/w2, data, fig)\n",
    "\n",
    "# plot costs\n",
    "plt.subplot(2, 1, 1)\n",
    "plt.plot(costs)\n",
    "# plot accuracy\n",
    "plt.subplot(2, 1, 2)\n",
    "plt.plot(accs)\n",
    "plt.show()\n"
   ]
  },
  {
   "cell_type": "code",
   "execution_count": 13,
   "metadata": {},
   "outputs": [
    {
     "name": "stdout",
     "output_type": "stream",
     "text": [
      "test_acc:  0.9811320754716981\n"
     ]
    }
   ],
   "source": [
    "# make predictions on test data \n",
    "\n",
    "test_data = [[ 5.4,  3.4,  0. ],\n",
    "           [ 4.6,  3.6,  0. ],\n",
    "           [ 5.1,  3.3,  0. ],\n",
    "           [ 4.8,  3.4,  0. ],\n",
    "           [ 5. ,  3. ,  0. ],\n",
    "           [ 5. ,  3.4,  0. ],\n",
    "           [ 5.2,  3.5,  0. ],\n",
    "           [ 5.2,  3.4,  0. ],\n",
    "           [ 4.7,  3.2,  0. ],\n",
    "           [ 4.8,  3.1,  0. ],\n",
    "           [ 5.4,  3.4,  0. ],\n",
    "           [ 5.2,  4.1,  0. ],\n",
    "           [ 5.5,  4.2,  0. ],\n",
    "           [ 4.9,  3.1,  0. ],\n",
    "           [ 5. ,  3.2,  0. ],\n",
    "           [ 5.5,  3.5,  0. ],\n",
    "           [ 4.9,  3.1,  0. ],\n",
    "           [ 4.4,  3. ,  0. ],\n",
    "           [ 5.1,  3.4,  0. ],\n",
    "           [ 5. ,  3.5,  0. ],\n",
    "           [ 4.5,  2.3,  0. ],\n",
    "           [ 4.4,  3.2,  0. ],\n",
    "           [ 5. ,  3.5,  0. ],\n",
    "           [ 5.1,  3.8,  0. ],\n",
    "           [ 4.8,  3. ,  0. ],\n",
    "           [ 5.1,  3.8,  0. ],\n",
    "           [ 4.6,  3.2,  0. ],\n",
    "           [ 5.3,  3.7,  0. ],\n",
    "           [ 5. ,  3.3,  0. ],\n",
    "           [ 6.8,  2.8,  1. ],\n",
    "           [ 6.7,  3. ,  1. ],\n",
    "           [ 6. ,  2.9,  1. ],\n",
    "           [ 5.7,  2.6,  1. ],\n",
    "           [ 5.5,  2.4,  1. ],\n",
    "           [ 5.5,  2.4,  1. ],\n",
    "           [ 5.8,  2.7,  1. ],\n",
    "           [ 6. ,  2.7,  1. ],\n",
    "           [ 5.4,  3. ,  1. ],\n",
    "           [ 6. ,  3.4,  1. ],\n",
    "           [ 6.7,  3.1,  1. ],\n",
    "           [ 6.3,  2.3,  1. ],\n",
    "           [ 5.6,  3. ,  1. ],\n",
    "           [ 5.5,  2.5,  1. ],\n",
    "           [ 5.5,  2.6,  1. ],\n",
    "           [ 6.1,  3. ,  1. ],\n",
    "           [ 5.8,  2.6,  1. ],\n",
    "           [ 5. ,  2.3,  1. ],\n",
    "           [ 5.6,  2.7,  1. ],\n",
    "           [ 5.7,  3. ,  1. ],\n",
    "           [ 5.7,  2.9,  1. ],\n",
    "           [ 6.2,  2.9,  1. ],\n",
    "           [ 5.1,  2.5,  1. ],\n",
    "           [ 5.7,  2.8,  1. ]]\n",
    "\n",
    "# test set accuracy \n",
    "test_acc = 0\n",
    "for j in range(len(test_data)):\n",
    "    point = test_data[j]\n",
    "\n",
    "    z = point[0] * w1 + point[1] * w2 + b\n",
    "    a = sigmoid(z)\n",
    "\n",
    "    y = point[2]\n",
    "\n",
    "    if ((a < 0.5 and y == 0) or (a >= 0.5 and y == 1)):\n",
    "        test_acc += 1\n",
    "\n",
    "# accuracy\n",
    "test_acc = test_acc / len(test_data) \n",
    "print(\"test_acc: \", test_acc)"
   ]
  },
  {
   "cell_type": "code",
   "execution_count": 14,
   "metadata": {},
   "outputs": [
    {
     "data": {
      "image/png": "[encoded data removed]",
      "text/plain": [
       "<Figure size 432x288 with 1 Axes>"
      ]
     },
     "metadata": {
      "needs_background": "light"
     },
     "output_type": "display_data"
    }
   ],
   "source": [
    "# plot the classification for test data\n",
    "fig = plt.figure()\n",
    "plot_border(-w1/w2, -b/w2, test_data, fig)"
   ]
  },
  {
   "cell_type": "code",
   "execution_count": 17,
   "metadata": {},
   "outputs": [
    {
     "name": "stdout",
     "output_type": "stream",
     "text": [
      "The mistery flower is:\n",
      "Iris-versicolor\n"
     ]
    }
   ],
   "source": [
    "# predict the mystery flower \n",
    "print(\"The mistery flower is:\")\n",
    "guess_flower(mystery_flower[0], mystery_flower[1])"
   ]
  },
  {
   "cell_type": "code",
   "execution_count": null,
   "metadata": {},
   "outputs": [],
   "source": [
    "# compute and plot the classification line\n"
   ]
  }
 ],
 "metadata": {
  "kernelspec": {
   "display_name": "Python 3",
   "language": "python",
   "name": "python3"
  },
  "language_info": {
   "codemirror_mode": {
    "name": "ipython",
    "version": 3
   },
   "file_extension": ".py",
   "mimetype": "text/x-python",
   "name": "python",
   "nbconvert_exporter": "python",
   "pygments_lexer": "ipython3",
   "version": "3.8.5"
  }
 },
 "nbformat": 4,
 "nbformat_minor": 4
}
