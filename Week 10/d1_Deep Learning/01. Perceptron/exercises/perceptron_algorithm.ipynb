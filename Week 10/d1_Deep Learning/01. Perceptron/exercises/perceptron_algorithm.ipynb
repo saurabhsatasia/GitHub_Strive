{
 "cells": [
  {
   "cell_type": "markdown",
   "metadata": {},
   "source": [
    "# Perceptron algorithm (exercise)"
   ]
  },
  {
   "cell_type": "markdown",
   "metadata": {},
   "source": [
    "In this exercise, implement a single neuron (perceptron) that classifies two groups of flowers from the Iris dataset.\n",
    "\n",
    "The data set consists of 50 samples from each of three species of Iris (Iris setosa, Iris virginica and Iris versicolor). Four features were measured from each sample: the length and the width of the sepals and petals, in centimeters. Based on the combination of these four features, a linear discriminant model can be developed to distinguish the species from each other.\n",
    "\n",
    "For the purpose of this exercise, you will only use two features (sepal length and sepal width) of two species of flowers (Setosa and Versicolor)."
   ]
  },
  {
   "cell_type": "code",
   "execution_count": 2,
   "metadata": {},
   "outputs": [],
   "source": [
    "# allows inline plotting below each cell\n",
    "%matplotlib inline"
   ]
  },
  {
   "cell_type": "code",
   "execution_count": 15,
   "metadata": {},
   "outputs": [],
   "source": [
    "# import necessary libraries \n",
    "import matplotlib.pyplot as plt\n",
    "import numpy as np"
   ]
  },
  {
   "cell_type": "code",
   "execution_count": 23,
   "metadata": {},
   "outputs": [],
   "source": [
    "# Function that plots data and linear classifier\n",
    "\n",
    "def plot_border(w1, b, data, fig):\n",
    "    \n",
    "    plt.axis([0, 10, 0, 6])\n",
    "    plt.grid()\n",
    "    \n",
    "    # scatter data\n",
    "    for i in range(len(data)) :\n",
    "        point = data[i]\n",
    "        color = \"r\"\n",
    "        if point[2] == 0 :\n",
    "            color = \"b\"\n",
    "        plt.scatter(point[0], point[1], c=color)\n",
    "\n",
    "    # separation line\n",
    "    x = np.linspace(0, 10, 100)\n",
    "    plt.plot(x, w1*x+b, '-g', label='y=w1*x+b')\n",
    "    plt.show()"
   ]
  },
  {
   "cell_type": "code",
   "execution_count": 5,
   "metadata": {},
   "outputs": [],
   "source": [
    "### load data ###\n",
    "\n",
    "# each point is a tuple (sepal length, sepal width, flower type)\n",
    "# types: 0 for Setosa & 1 for Versicolor\n",
    "training_data = [[ 5.1,  3.5,  0 ],\n",
    "       [ 4.9,  3. ,  0 ],\n",
    "       [ 4.7,  3.2,  0 ],\n",
    "       [ 4.6,  3.1,  0 ],\n",
    "       [ 5. ,  3.6,  0 ],\n",
    "       [ 5.4,  3.9,  0 ],\n",
    "       [ 4.6,  3.4,  0 ],\n",
    "       [ 5. ,  3.4,  0 ],\n",
    "       [ 4.4,  2.9,  0 ],\n",
    "       [ 4.9,  3.1,  0 ],\n",
    "       [ 5.4,  3.7,  0 ],\n",
    "       [ 4.8,  3.4,  0 ],\n",
    "       [ 4.8,  3. ,  0 ],\n",
    "       [ 4.3,  3. ,  0 ],\n",
    "       [ 5.8,  4. ,  0 ],\n",
    "       [ 5.7,  4.4,  0 ],\n",
    "       [ 5.4,  3.9,  0 ],\n",
    "       [ 5.1,  3.5,  0 ],\n",
    "       [ 5.7,  3.8,  0 ],\n",
    "       [ 5.1,  3.8,  0 ],\n",
    "       [ 7. ,  3.2,  1 ],\n",
    "       [ 6.4,  3.2,  1 ],\n",
    "       [ 6.9,  3.1,  1 ],\n",
    "       [ 5.5,  2.3,  1 ],\n",
    "       [ 6.5,  2.8,  1 ],\n",
    "       [ 5.7,  2.8,  1 ],\n",
    "       [ 6.3,  3.3,  1 ],\n",
    "       [ 4.9,  2.4,  1 ],\n",
    "       [ 6.6,  2.9,  1 ],\n",
    "       [ 5.2,  2.7,  1 ],\n",
    "       [ 5. ,  2. ,  1 ],\n",
    "       [ 5.9,  3. ,  1 ],\n",
    "       [ 6. ,  2.2,  1 ],\n",
    "       [ 6.1,  2.9,  1 ],\n",
    "       [ 5.6,  2.9,  1 ],\n",
    "       [ 6.7,  3.1,  1 ],\n",
    "       [ 5.6,  3. ,  1 ],\n",
    "       [ 5.8,  2.7,  1 ],\n",
    "       [ 6.2,  2.2,  1 ],\n",
    "       [ 5.6,  2.5,  1 ],\n",
    "       [ 5.9,  3.2,  1 ],\n",
    "       [ 6.1,  2.8,  1 ],\n",
    "       [ 6.3,  2.5,  1 ],\n",
    "       [ 6.1,  2.8,  1 ],\n",
    "       [ 6.4,  2.9,  1 ]]\n",
    "\n",
    "test_data = [[ 5.4,  3.4,  0. ],\n",
    "           [ 4.6,  3.6,  0. ],\n",
    "           [ 5.1,  3.3,  0. ],\n",
    "           [ 4.8,  3.4,  0. ],\n",
    "           [ 5. ,  3. ,  0. ],\n",
    "           [ 5. ,  3.4,  0. ],\n",
    "           [ 5.2,  3.5,  0. ],\n",
    "           [ 5.2,  3.4,  0. ],\n",
    "           [ 4.7,  3.2,  0. ],\n",
    "           [ 4.8,  3.1,  0. ],\n",
    "           [ 5.4,  3.4,  0. ],\n",
    "           [ 5.2,  4.1,  0. ],\n",
    "           [ 5.5,  4.2,  0. ],\n",
    "           [ 4.9,  3.1,  0. ],\n",
    "           [ 5. ,  3.2,  0. ],\n",
    "           [ 5.5,  3.5,  0. ],\n",
    "           [ 4.9,  3.1,  0. ],\n",
    "           [ 4.4,  3. ,  0. ],\n",
    "           [ 5.1,  3.4,  0. ],\n",
    "           [ 5. ,  3.5,  0. ],\n",
    "           [ 4.5,  2.3,  0. ],\n",
    "           [ 4.4,  3.2,  0. ],\n",
    "           [ 5. ,  3.5,  0. ],\n",
    "           [ 5.1,  3.8,  0. ],\n",
    "           [ 4.8,  3. ,  0. ],\n",
    "           [ 5.1,  3.8,  0. ],\n",
    "           [ 4.6,  3.2,  0. ],\n",
    "           [ 5.3,  3.7,  0. ],\n",
    "           [ 5. ,  3.3,  0. ],\n",
    "           [ 6.8,  2.8,  1. ],\n",
    "           [ 6.7,  3. ,  1. ],\n",
    "           [ 6. ,  2.9,  1. ],\n",
    "           [ 5.7,  2.6,  1. ],\n",
    "           [ 5.5,  2.4,  1. ],\n",
    "           [ 5.5,  2.4,  1. ],\n",
    "           [ 5.8,  2.7,  1. ],\n",
    "           [ 6. ,  2.7,  1. ],\n",
    "           [ 5.4,  3. ,  1. ],\n",
    "           [ 6. ,  3.4,  1. ],\n",
    "           [ 6.7,  3.1,  1. ],\n",
    "           [ 6.3,  2.3,  1. ],\n",
    "           [ 5.6,  3. ,  1. ],\n",
    "           [ 5.5,  2.5,  1. ],\n",
    "           [ 5.5,  2.6,  1. ],\n",
    "           [ 6.1,  3. ,  1. ],\n",
    "           [ 5.8,  2.6,  1. ],\n",
    "           [ 5. ,  2.3,  1. ],\n",
    "           [ 5.6,  2.7,  1. ],\n",
    "           [ 5.7,  3. ,  1. ],\n",
    "           [ 5.7,  2.9,  1. ],\n",
    "           [ 6.2,  2.9,  1. ],\n",
    "           [ 5.1,  2.5,  1. ],\n",
    "           [ 5.7,  2.8,  1. ]]\n",
    "\n"
   ]
  },
  {
   "cell_type": "code",
   "execution_count": 17,
   "metadata": {},
   "outputs": [
    {
     "data": {
      "text/plain": [
       "array([5.1, 4.9, 4.7, 4.6, 5. , 5.4, 4.6, 5. , 4.4, 4.9, 5.4, 4.8, 4.8,\n",
       "       4.3, 5.8, 5.7, 5.4, 5.1, 5.7, 5.1, 7. , 6.4, 6.9, 5.5, 6.5, 5.7,\n",
       "       6.3, 4.9, 6.6, 5.2, 5. , 5.9, 6. , 6.1, 5.6, 6.7, 5.6, 5.8, 6.2,\n",
       "       5.6, 5.9, 6.1, 6.3, 6.1, 6.4])"
      ]
     },
     "execution_count": 17,
     "metadata": {},
     "output_type": "execute_result"
    }
   ],
   "source": [
    "training_data = np.array(training_data)\n",
    "test_data = np.array(test_data)\n",
    "training_data[:,0]"
   ]
  },
  {
   "cell_type": "code",
   "execution_count": 18,
   "metadata": {},
   "outputs": [],
   "source": [
    "# write a prediction function that, when the output z is 0 prints \"Iris-setosa\" and when z = 1 prints \"Iris-versicolor\".\n",
    "# Z is the combination of w1, w2 and the bias that make the perceptron.\n",
    "\n",
    "def guess_flower(SepalLength, SepalWidth) :\n",
    "    z = SepalLength * w1 + SepalWidth * w2 + b\n",
    "    if (z<0):\n",
    "        print('Iris-setosa')\n",
    "    else:\n",
    "        print('Iris-versicolor')\n",
    "    "
   ]
  },
  {
   "cell_type": "code",
   "execution_count": 19,
   "metadata": {},
   "outputs": [
    {
     "data": {
      "image/png": "[encoded data removed]",
      "text/plain": [
       "<Figure size 432x288 with 1 Axes>"
      ]
     },
     "metadata": {
      "needs_background": "light"
     },
     "output_type": "display_data"
    }
   ],
   "source": [
    "### visualize training data in 2D ###\n",
    "\n",
    "# x-axis: sepal length, y-axis: sepl width\n",
    "# use 2 colors to visualize 2 different classes of data \n",
    "plt.axis([0, 10, 0, 6])\n",
    "plt.grid()\n",
    "for i in range(len(training_data)) :\n",
    "    point = training_data[i]\n",
    "    color = \"r\"\n",
    "    if point[2] == 0 :\n",
    "        color = \"b\"\n",
    "    plt.scatter(point[0], point[1], c=color)\n"
   ]
  },
  {
   "cell_type": "code",
   "execution_count": 25,
   "metadata": {},
   "outputs": [
    {
     "data": {
      "image/png": "[encoded data removed]",
      "text/plain": [
       "<Figure size 432x288 with 1 Axes>"
      ]
     },
     "metadata": {
      "needs_background": "light"
     },
     "output_type": "display_data"
    }
   ],
   "source": [
    "import time \n",
    "from IPython import display\n",
    "### training loop ###\n",
    "\n",
    "# pick a learning rate\n",
    "learning_rate = 1\n",
    "# initialize weights randomly and set bias to zero\n",
    "w1 = np.random.randn()\n",
    "w2 = np.random.randn()\n",
    "b = 0\n",
    "fig = plt.figure()\n",
    "# write a loop of arbitrary n iterations\n",
    "for i in range(100) :\n",
    "    ri = np.random.randint(len(training_data))\n",
    "    point = training_data[ri]\n",
    "\n",
    "    # if a point is 0 and is missclassified as 1:\n",
    "        #update the weights accordingly\n",
    "    if ((point[2]==1) and (w1*point[0]+w2*point[1]+b<0)):\n",
    "        w1, w2 = w1 + learning_rate*point[0], w2 + learning_rate*point[1] \n",
    "        \n",
    "    # if a point is 1 and is missclassified as 0:\n",
    "        #update the weights accordingly \n",
    "    if ((point[2]==0) and (w1*point[0]+w2*point[1]+b>0)):\n",
    "        w1, w2 = w1 - learning_rate*point[0], w2 - learning_rate*point[1]\n",
    "        \n",
    "    # plotting the separation line\n",
    "    plot_border(-w1/w2, -b/w2, training_data, fig)\n",
    "    display.clear_output(wait=True)\n",
    "    time.sleep(0.05)\n",
    "    \n",
    "\n",
    "# plot the final result\n",
    "\n",
    "plot_border(-w1/w2, -b/w2, training_data, fig)\n",
    "# BONUS: plot the result after each iteration"
   ]
  },
  {
   "cell_type": "code",
   "execution_count": 26,
   "metadata": {},
   "outputs": [
    {
     "name": "stdout",
     "output_type": "stream",
     "text": [
      "[5.4 3.4 0. ]\n",
      "Iris-setosa\n",
      "[4.6 3.6 0. ]\n",
      "Iris-setosa\n",
      "[5.1 3.3 0. ]\n",
      "Iris-setosa\n",
      "[4.8 3.4 0. ]\n",
      "Iris-setosa\n",
      "[5. 3. 0.]\n",
      "Iris-setosa\n",
      "[5.  3.4 0. ]\n",
      "Iris-setosa\n",
      "[5.2 3.5 0. ]\n",
      "Iris-setosa\n",
      "[5.2 3.4 0. ]\n",
      "Iris-setosa\n",
      "[4.7 3.2 0. ]\n",
      "Iris-setosa\n",
      "[4.8 3.1 0. ]\n",
      "Iris-setosa\n",
      "[5.4 3.4 0. ]\n",
      "Iris-setosa\n",
      "[5.2 4.1 0. ]\n",
      "Iris-setosa\n",
      "[5.5 4.2 0. ]\n",
      "Iris-setosa\n",
      "[4.9 3.1 0. ]\n",
      "Iris-setosa\n",
      "[5.  3.2 0. ]\n",
      "Iris-setosa\n",
      "[5.5 3.5 0. ]\n",
      "Iris-setosa\n",
      "[4.9 3.1 0. ]\n",
      "Iris-setosa\n",
      "[4.4 3.  0. ]\n",
      "Iris-setosa\n",
      "[5.1 3.4 0. ]\n",
      "Iris-setosa\n",
      "[5.  3.5 0. ]\n",
      "Iris-setosa\n",
      "[4.5 2.3 0. ]\n",
      "Iris-versicolor\n",
      "[4.4 3.2 0. ]\n",
      "Iris-setosa\n",
      "[5.  3.5 0. ]\n",
      "Iris-setosa\n",
      "[5.1 3.8 0. ]\n",
      "Iris-setosa\n",
      "[4.8 3.  0. ]\n",
      "Iris-setosa\n",
      "[5.1 3.8 0. ]\n",
      "Iris-setosa\n",
      "[4.6 3.2 0. ]\n",
      "Iris-setosa\n",
      "[5.3 3.7 0. ]\n",
      "Iris-setosa\n",
      "[5.  3.3 0. ]\n",
      "Iris-setosa\n",
      "[6.8 2.8 1. ]\n",
      "Iris-versicolor\n",
      "[6.7 3.  1. ]\n",
      "Iris-versicolor\n",
      "[6.  2.9 1. ]\n",
      "Iris-versicolor\n",
      "[5.7 2.6 1. ]\n",
      "Iris-versicolor\n",
      "[5.5 2.4 1. ]\n",
      "Iris-versicolor\n",
      "[5.5 2.4 1. ]\n",
      "Iris-versicolor\n",
      "[5.8 2.7 1. ]\n",
      "Iris-versicolor\n",
      "[6.  2.7 1. ]\n",
      "Iris-versicolor\n",
      "[5.4 3.  1. ]\n",
      "Iris-setosa\n",
      "[6.  3.4 1. ]\n",
      "Iris-setosa\n",
      "[6.7 3.1 1. ]\n",
      "Iris-versicolor\n",
      "[6.3 2.3 1. ]\n",
      "Iris-versicolor\n",
      "[5.6 3.  1. ]\n",
      "Iris-versicolor\n",
      "[5.5 2.5 1. ]\n",
      "Iris-versicolor\n",
      "[5.5 2.6 1. ]\n",
      "Iris-versicolor\n",
      "[6.1 3.  1. ]\n",
      "Iris-versicolor\n",
      "[5.8 2.6 1. ]\n",
      "Iris-versicolor\n",
      "[5.  2.3 1. ]\n",
      "Iris-versicolor\n",
      "[5.6 2.7 1. ]\n",
      "Iris-versicolor\n",
      "[5.7 3.  1. ]\n",
      "Iris-versicolor\n",
      "[5.7 2.9 1. ]\n",
      "Iris-versicolor\n",
      "[6.2 2.9 1. ]\n",
      "Iris-versicolor\n",
      "[5.1 2.5 1. ]\n",
      "Iris-versicolor\n",
      "[5.7 2.8 1. ]\n",
      "Iris-versicolor\n"
     ]
    }
   ],
   "source": [
    "### evaluation ###\n",
    "\n",
    "# perform prediction on the test dataset\n",
    "\n",
    "for i in range(len(test_data)):\n",
    "    point = test_data[i]\n",
    "    print(point)   \n",
    "    guess_flower(point[0], point[1])"
   ]
  },
  {
   "cell_type": "code",
   "execution_count": 27,
   "metadata": {},
   "outputs": [
    {
     "data": {
      "image/png": "[encoded data removed]",
      "text/plain": [
       "<Figure size 432x288 with 1 Axes>"
      ]
     },
     "metadata": {
      "needs_background": "light"
     },
     "output_type": "display_data"
    }
   ],
   "source": [
    "### plot the evaluation result ###\n",
    "fig2 = plt.figure()\n",
    "plot_border(-w1/w2, -b/w2, test_data, fig2)"
   ]
  },
  {
   "cell_type": "markdown",
   "metadata": {},
   "source": [
    "### Can the accuracy be improved given the limitations (lineal function) of the perceptron algorithm?"
   ]
  },
  {
   "cell_type": "markdown",
   "metadata": {},
   "source": [
    "Type your answer here:"
   ]
  },
  {
   "cell_type": "code",
   "execution_count": null,
   "metadata": {},
   "outputs": [],
   "source": [
    "# BONUS: Create a confusion matrix with the type of classification errors"
   ]
  }
 ],
 "metadata": {
  "kernelspec": {
   "display_name": "Python 3",
   "language": "python",
   "name": "python3"
  },
  "language_info": {
   "codemirror_mode": {
    "name": "ipython",
    "version": 3
   },
   "file_extension": ".py",
   "mimetype": "text/x-python",
   "name": "python",
   "nbconvert_exporter": "python",
   "pygments_lexer": "ipython3",
   "version": "3.8.5"
  }
 },
 "nbformat": 4,
 "nbformat_minor": 4
}
